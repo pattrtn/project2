{
 "cells": [
  {
   "cell_type": "markdown",
   "metadata": {},
   "source": [
    "<img src=\"http://imgur.com/1ZcRyrc.png\" style=\"float: left; margin: 20px; height: 55px\">\n",
    "\n",
    "# Project 2 : Bangkok Housing Data"
   ]
  },
  {
   "cell_type": "markdown",
   "metadata": {},
   "source": [
    "### Contents:\n",
    "- [Problem Statement](#Problem-Statement)\n",
    "- [Data Import & Cleaning](#Data-Import-and-Cleaning)\n",
    "- [Exploratory Data Analysis](#Exploratory-Data-Analysis)\n",
    "- [Modelling](#Modelling)\n",
    "- [Conclusions and Recommendations](#Conclusions-and-Recommendations)"
   ]
  },
  {
   "cell_type": "markdown",
   "metadata": {},
   "source": [
    "# Problem Statement"
   ]
  },
  {
   "cell_type": "markdown",
   "metadata": {},
   "source": [
    "Problem : House buyers want to estimate the affordability of a property and make informed choices about where to live."
   ]
  },
  {
   "cell_type": "markdown",
   "metadata": {},
   "source": [
    "Background : House buyers have a budget in mind when searching for a new home so they want to narrow down their options and identify properties that fall within their budgetary constraints."
   ]
  },
  {
   "cell_type": "markdown",
   "metadata": {},
   "source": [
    "Objectives : Understand the expected costs of house owner and whether they are making a sound financial investment."
   ]
  },
  {
   "cell_type": "markdown",
   "metadata": {},
   "source": [
    "# Import libraries"
   ]
  },
  {
   "cell_type": "code",
   "execution_count": 1,
   "metadata": {},
   "outputs": [],
   "source": [
    "import pandas as pd\n",
    "import numpy as np\n",
    "import seaborn as sns\n",
    "import matplotlib.pyplot as plt\n",
    "plt.style.use(\"ggplot\")\n",
    "import plotly.express as px\n",
    "import missingno as msno\n",
    "\n",
    "\n",
    "from sklearn import metrics\n",
    "from sklearn.linear_model import LinearRegression\n",
    "from sklearn.dummy import DummyRegressor\n",
    "from sklearn.model_selection import train_test_split , cross_val_score\n",
    "from sklearn.metrics import mean_squared_error, r2_score"
   ]
  },
  {
   "cell_type": "markdown",
   "metadata": {},
   "source": [
    "# Data Import and Cleaning"
   ]
  },
  {
   "cell_type": "markdown",
   "metadata": {},
   "source": [
    "# Load Data"
   ]
  },
  {
   "cell_type": "code",
   "execution_count": 2,
   "metadata": {},
   "outputs": [],
   "source": [
    "train_df = pd.read_json('Data/train.json')\n",
    "test_df = pd.read_json('Data/test.json')\n",
    "bkk = pd.read_csv('Data/bangkok_district.csv')"
   ]
  },
  {
   "cell_type": "code",
   "execution_count": 3,
   "metadata": {},
   "outputs": [
    {
     "data": {
      "text/html": [
       "<div>\n",
       "<style scoped>\n",
       "    .dataframe tbody tr th:only-of-type {\n",
       "        vertical-align: middle;\n",
       "    }\n",
       "\n",
       "    .dataframe tbody tr th {\n",
       "        vertical-align: top;\n",
       "    }\n",
       "\n",
       "    .dataframe thead th {\n",
       "        text-align: right;\n",
       "    }\n",
       "</style>\n",
       "<table border=\"1\" class=\"dataframe\">\n",
       "  <thead>\n",
       "    <tr style=\"text-align: right;\">\n",
       "      <th></th>\n",
       "      <th>id</th>\n",
       "      <th>province</th>\n",
       "      <th>district</th>\n",
       "      <th>subdistrict</th>\n",
       "      <th>address</th>\n",
       "      <th>property_type</th>\n",
       "      <th>total_units</th>\n",
       "      <th>bedrooms</th>\n",
       "      <th>baths</th>\n",
       "      <th>floor_area</th>\n",
       "      <th>...</th>\n",
       "      <th>longitude</th>\n",
       "      <th>nearby_stations</th>\n",
       "      <th>nearby_station_distance</th>\n",
       "      <th>nearby_bus_stops</th>\n",
       "      <th>nearby_supermarkets</th>\n",
       "      <th>nearby_shops</th>\n",
       "      <th>year_built</th>\n",
       "      <th>month_built</th>\n",
       "      <th>facilities</th>\n",
       "      <th>price</th>\n",
       "    </tr>\n",
       "  </thead>\n",
       "  <tbody>\n",
       "    <tr>\n",
       "      <th>0</th>\n",
       "      <td>8448321</td>\n",
       "      <td>Bangkok</td>\n",
       "      <td>Watthana</td>\n",
       "      <td>Phra Khanong Nuea</td>\n",
       "      <td>36 Soi Sukhumvit 63, Ekamai Road</td>\n",
       "      <td>Condo</td>\n",
       "      <td>273.0</td>\n",
       "      <td>2.0</td>\n",
       "      <td>2.0</td>\n",
       "      <td>66</td>\n",
       "      <td>...</td>\n",
       "      <td>100.584850</td>\n",
       "      <td>2</td>\n",
       "      <td>[[E7 Ekkamai BTS, 270], [E6 Thong Lo BTS, 800]]</td>\n",
       "      <td>NaN</td>\n",
       "      <td>16.0</td>\n",
       "      <td>20</td>\n",
       "      <td>2011</td>\n",
       "      <td>June</td>\n",
       "      <td>[Car Park, Community Garden, CCTV, Fitness cor...</td>\n",
       "      <td>8500000</td>\n",
       "    </tr>\n",
       "    <tr>\n",
       "      <th>1</th>\n",
       "      <td>10936325</td>\n",
       "      <td>Bangkok</td>\n",
       "      <td>Watthana</td>\n",
       "      <td>Khlong Toei Nuea</td>\n",
       "      <td>31 สุขุมวิท</td>\n",
       "      <td>Condo</td>\n",
       "      <td>74.0</td>\n",
       "      <td>1.0</td>\n",
       "      <td>1.0</td>\n",
       "      <td>49</td>\n",
       "      <td>...</td>\n",
       "      <td>100.566949</td>\n",
       "      <td>3</td>\n",
       "      <td>[[BL22 Sukhumvit MRT, 720], [BL21 Phetchaburi ...</td>\n",
       "      <td>NaN</td>\n",
       "      <td>11.0</td>\n",
       "      <td>20</td>\n",
       "      <td>2012</td>\n",
       "      <td>September</td>\n",
       "      <td>[CCTV, Fitness corner, 24 hours security, Swim...</td>\n",
       "      <td>5900000</td>\n",
       "    </tr>\n",
       "    <tr>\n",
       "      <th>2</th>\n",
       "      <td>10927931</td>\n",
       "      <td>Bangkok</td>\n",
       "      <td>Khlong Toei</td>\n",
       "      <td>Khlong Tan</td>\n",
       "      <td>68 Sukhumvit 24 Alley, Khong Tan</td>\n",
       "      <td>Condo</td>\n",
       "      <td>940.0</td>\n",
       "      <td>1.0</td>\n",
       "      <td>1.0</td>\n",
       "      <td>34</td>\n",
       "      <td>...</td>\n",
       "      <td>100.565660</td>\n",
       "      <td>2</td>\n",
       "      <td>[[E5 Phrom Phong BTS, 650], [BL23 Queen Siriki...</td>\n",
       "      <td>NaN</td>\n",
       "      <td>20.0</td>\n",
       "      <td>20</td>\n",
       "      <td>2017</td>\n",
       "      <td>January</td>\n",
       "      <td>[Car Park, Clubhouse, Community Garden, CCTV, ...</td>\n",
       "      <td>6290000</td>\n",
       "    </tr>\n",
       "    <tr>\n",
       "      <th>3</th>\n",
       "      <td>11004792</td>\n",
       "      <td>Nonthaburi</td>\n",
       "      <td>Bang Kruai</td>\n",
       "      <td>Bang Khun Kong</td>\n",
       "      <td>Bang Khun Kong</td>\n",
       "      <td>Detached House</td>\n",
       "      <td>NaN</td>\n",
       "      <td>3.0</td>\n",
       "      <td>3.0</td>\n",
       "      <td>170</td>\n",
       "      <td>...</td>\n",
       "      <td>100.428438</td>\n",
       "      <td>0</td>\n",
       "      <td>None</td>\n",
       "      <td>NaN</td>\n",
       "      <td>2.0</td>\n",
       "      <td>4</td>\n",
       "      <td>0</td>\n",
       "      <td>None</td>\n",
       "      <td>[Covered car park, Playground, 24 hours securi...</td>\n",
       "      <td>8900000</td>\n",
       "    </tr>\n",
       "    <tr>\n",
       "      <th>4</th>\n",
       "      <td>10757452</td>\n",
       "      <td>Nonthaburi</td>\n",
       "      <td>Mueang Nonthaburi</td>\n",
       "      <td>Bang Phai</td>\n",
       "      <td>พระราม5-นครอินทร์</td>\n",
       "      <td>Townhouse</td>\n",
       "      <td>NaN</td>\n",
       "      <td>3.0</td>\n",
       "      <td>2.0</td>\n",
       "      <td>120</td>\n",
       "      <td>...</td>\n",
       "      <td>100.494129</td>\n",
       "      <td>1</td>\n",
       "      <td>[[PP09 Yaek Nonthaburi 1 MRT, 10]]</td>\n",
       "      <td>NaN</td>\n",
       "      <td>6.0</td>\n",
       "      <td>15</td>\n",
       "      <td>0</td>\n",
       "      <td>None</td>\n",
       "      <td>[Covered car park, 24 hours security]</td>\n",
       "      <td>2390000</td>\n",
       "    </tr>\n",
       "  </tbody>\n",
       "</table>\n",
       "<p>5 rows × 23 columns</p>\n",
       "</div>"
      ],
      "text/plain": [
       "         id    province           district        subdistrict  \\\n",
       "0   8448321     Bangkok           Watthana  Phra Khanong Nuea   \n",
       "1  10936325     Bangkok           Watthana   Khlong Toei Nuea   \n",
       "2  10927931     Bangkok        Khlong Toei         Khlong Tan   \n",
       "3  11004792  Nonthaburi         Bang Kruai     Bang Khun Kong   \n",
       "4  10757452  Nonthaburi  Mueang Nonthaburi          Bang Phai   \n",
       "\n",
       "                            address   property_type  total_units  bedrooms  \\\n",
       "0  36 Soi Sukhumvit 63, Ekamai Road           Condo        273.0       2.0   \n",
       "1                       31 สุขุมวิท           Condo         74.0       1.0   \n",
       "2  68 Sukhumvit 24 Alley, Khong Tan           Condo        940.0       1.0   \n",
       "3                    Bang Khun Kong  Detached House          NaN       3.0   \n",
       "4                 พระราม5-นครอินทร์       Townhouse          NaN       3.0   \n",
       "\n",
       "   baths  floor_area  ...   longitude  nearby_stations  \\\n",
       "0    2.0          66  ...  100.584850                2   \n",
       "1    1.0          49  ...  100.566949                3   \n",
       "2    1.0          34  ...  100.565660                2   \n",
       "3    3.0         170  ...  100.428438                0   \n",
       "4    2.0         120  ...  100.494129                1   \n",
       "\n",
       "                             nearby_station_distance  nearby_bus_stops  \\\n",
       "0    [[E7 Ekkamai BTS, 270], [E6 Thong Lo BTS, 800]]               NaN   \n",
       "1  [[BL22 Sukhumvit MRT, 720], [BL21 Phetchaburi ...               NaN   \n",
       "2  [[E5 Phrom Phong BTS, 650], [BL23 Queen Siriki...               NaN   \n",
       "3                                               None               NaN   \n",
       "4                 [[PP09 Yaek Nonthaburi 1 MRT, 10]]               NaN   \n",
       "\n",
       "   nearby_supermarkets nearby_shops  year_built  month_built  \\\n",
       "0                 16.0           20        2011         June   \n",
       "1                 11.0           20        2012    September   \n",
       "2                 20.0           20        2017      January   \n",
       "3                  2.0            4           0         None   \n",
       "4                  6.0           15           0         None   \n",
       "\n",
       "                                          facilities    price  \n",
       "0  [Car Park, Community Garden, CCTV, Fitness cor...  8500000  \n",
       "1  [CCTV, Fitness corner, 24 hours security, Swim...  5900000  \n",
       "2  [Car Park, Clubhouse, Community Garden, CCTV, ...  6290000  \n",
       "3  [Covered car park, Playground, 24 hours securi...  8900000  \n",
       "4              [Covered car park, 24 hours security]  2390000  \n",
       "\n",
       "[5 rows x 23 columns]"
      ]
     },
     "execution_count": 3,
     "metadata": {},
     "output_type": "execute_result"
    }
   ],
   "source": [
    "# Print out the first 5 rows\n",
    "train_df.head()"
   ]
  },
  {
   "cell_type": "code",
   "execution_count": 4,
   "metadata": {},
   "outputs": [
    {
     "data": {
      "text/plain": [
       "(14271, 23)"
      ]
     },
     "execution_count": 4,
     "metadata": {},
     "output_type": "execute_result"
    }
   ],
   "source": [
    "#Check data shape\n",
    "train_df.shape"
   ]
  },
  {
   "cell_type": "markdown",
   "metadata": {},
   "source": [
    "#### train data : 14,271 rows x 23 columns including `price`"
   ]
  },
  {
   "cell_type": "code",
   "execution_count": 5,
   "metadata": {},
   "outputs": [
    {
     "data": {
      "text/html": [
       "<div>\n",
       "<style scoped>\n",
       "    .dataframe tbody tr th:only-of-type {\n",
       "        vertical-align: middle;\n",
       "    }\n",
       "\n",
       "    .dataframe tbody tr th {\n",
       "        vertical-align: top;\n",
       "    }\n",
       "\n",
       "    .dataframe thead th {\n",
       "        text-align: right;\n",
       "    }\n",
       "</style>\n",
       "<table border=\"1\" class=\"dataframe\">\n",
       "  <thead>\n",
       "    <tr style=\"text-align: right;\">\n",
       "      <th></th>\n",
       "      <th>province</th>\n",
       "      <th>province_th</th>\n",
       "      <th>district</th>\n",
       "      <th>district_th</th>\n",
       "      <th>subdistrict</th>\n",
       "      <th>subdistrict_th</th>\n",
       "    </tr>\n",
       "  </thead>\n",
       "  <tbody>\n",
       "    <tr>\n",
       "      <th>0</th>\n",
       "      <td>Bangkok</td>\n",
       "      <td>กรุงเทพฯ</td>\n",
       "      <td>Bang Bon</td>\n",
       "      <td>บางบอน</td>\n",
       "      <td>Bang Bon</td>\n",
       "      <td>บางบอน</td>\n",
       "    </tr>\n",
       "    <tr>\n",
       "      <th>1</th>\n",
       "      <td>Bangkok</td>\n",
       "      <td>กรุงเทพฯ</td>\n",
       "      <td>Bang Kapi</td>\n",
       "      <td>บางกะปิ</td>\n",
       "      <td>Hua Mak</td>\n",
       "      <td>หัวหมาก</td>\n",
       "    </tr>\n",
       "    <tr>\n",
       "      <th>2</th>\n",
       "      <td>Bangkok</td>\n",
       "      <td>กรุงเทพฯ</td>\n",
       "      <td>Bang Kapi</td>\n",
       "      <td>บางกะปิ</td>\n",
       "      <td>Khlong Chan</td>\n",
       "      <td>คลองจั่น</td>\n",
       "    </tr>\n",
       "    <tr>\n",
       "      <th>3</th>\n",
       "      <td>Bangkok</td>\n",
       "      <td>กรุงเทพฯ</td>\n",
       "      <td>Bang Khae</td>\n",
       "      <td>บางแค</td>\n",
       "      <td>Bang Khae</td>\n",
       "      <td>บางแค</td>\n",
       "    </tr>\n",
       "    <tr>\n",
       "      <th>4</th>\n",
       "      <td>Bangkok</td>\n",
       "      <td>กรุงเทพฯ</td>\n",
       "      <td>Bang Khae</td>\n",
       "      <td>บางแค</td>\n",
       "      <td>Bang Khae Nuea</td>\n",
       "      <td>บางแคเหนือ</td>\n",
       "    </tr>\n",
       "  </tbody>\n",
       "</table>\n",
       "</div>"
      ],
      "text/plain": [
       "  province province_th   district district_th     subdistrict subdistrict_th\n",
       "0  Bangkok    กรุงเทพฯ   Bang Bon      บางบอน        Bang Bon         บางบอน\n",
       "1  Bangkok    กรุงเทพฯ  Bang Kapi     บางกะปิ         Hua Mak        หัวหมาก\n",
       "2  Bangkok    กรุงเทพฯ  Bang Kapi     บางกะปิ     Khlong Chan       คลองจั่น\n",
       "3  Bangkok    กรุงเทพฯ  Bang Khae       บางแค       Bang Khae          บางแค\n",
       "4  Bangkok    กรุงเทพฯ  Bang Khae       บางแค  Bang Khae Nuea     บางแคเหนือ"
      ]
     },
     "execution_count": 5,
     "metadata": {},
     "output_type": "execute_result"
    }
   ],
   "source": [
    "bkk.head()"
   ]
  },
  {
   "cell_type": "markdown",
   "metadata": {},
   "source": [
    "## Data cleaning"
   ]
  },
  {
   "cell_type": "code",
   "execution_count": 6,
   "metadata": {},
   "outputs": [
    {
     "name": "stdout",
     "output_type": "stream",
     "text": [
      "<class 'pandas.core.frame.DataFrame'>\n",
      "RangeIndex: 14271 entries, 0 to 14270\n",
      "Data columns (total 23 columns):\n",
      " #   Column                   Non-Null Count  Dtype  \n",
      "---  ------                   --------------  -----  \n",
      " 0   id                       14271 non-null  int64  \n",
      " 1   province                 14271 non-null  object \n",
      " 2   district                 14271 non-null  object \n",
      " 3   subdistrict              14260 non-null  object \n",
      " 4   address                  14271 non-null  object \n",
      " 5   property_type            14271 non-null  object \n",
      " 6   total_units              10509 non-null  float64\n",
      " 7   bedrooms                 14228 non-null  float64\n",
      " 8   baths                    14236 non-null  float64\n",
      " 9   floor_area               14271 non-null  int64  \n",
      " 10  floor_level              8093 non-null   float64\n",
      " 11  land_area                4917 non-null   float64\n",
      " 12  latitude                 14271 non-null  float64\n",
      " 13  longitude                14271 non-null  float64\n",
      " 14  nearby_stations          14271 non-null  int64  \n",
      " 15  nearby_station_distance  7228 non-null   object \n",
      " 16  nearby_bus_stops         6009 non-null   float64\n",
      " 17  nearby_supermarkets      13885 non-null  float64\n",
      " 18  nearby_shops             14271 non-null  int64  \n",
      " 19  year_built               14271 non-null  int64  \n",
      " 20  month_built              8397 non-null   object \n",
      " 21  facilities               14271 non-null  object \n",
      " 22  price                    14271 non-null  int64  \n",
      "dtypes: float64(9), int64(6), object(8)\n",
      "memory usage: 2.5+ MB\n"
     ]
    }
   ],
   "source": [
    "#Check information of the columns\n",
    "train_df.info()"
   ]
  },
  {
   "cell_type": "code",
   "execution_count": 7,
   "metadata": {},
   "outputs": [
    {
     "data": {
      "text/plain": [
       "id                            0\n",
       "province                      0\n",
       "district                      0\n",
       "subdistrict                  11\n",
       "address                       0\n",
       "property_type                 0\n",
       "total_units                3762\n",
       "bedrooms                     43\n",
       "baths                        35\n",
       "floor_area                    0\n",
       "floor_level                6178\n",
       "land_area                  9354\n",
       "latitude                      0\n",
       "longitude                     0\n",
       "nearby_stations               0\n",
       "nearby_station_distance    7043\n",
       "nearby_bus_stops           8262\n",
       "nearby_supermarkets         386\n",
       "nearby_shops                  0\n",
       "year_built                    0\n",
       "month_built                5874\n",
       "facilities                    0\n",
       "price                         0\n",
       "dtype: int64"
      ]
     },
     "execution_count": 7,
     "metadata": {},
     "output_type": "execute_result"
    }
   ],
   "source": [
    "# Check for nulls\n",
    "train_df.isna().sum()"
   ]
  },
  {
   "cell_type": "code",
   "execution_count": 8,
   "metadata": {},
   "outputs": [
    {
     "data": {
      "text/html": [
       "<div>\n",
       "<style scoped>\n",
       "    .dataframe tbody tr th:only-of-type {\n",
       "        vertical-align: middle;\n",
       "    }\n",
       "\n",
       "    .dataframe tbody tr th {\n",
       "        vertical-align: top;\n",
       "    }\n",
       "\n",
       "    .dataframe thead th {\n",
       "        text-align: right;\n",
       "    }\n",
       "</style>\n",
       "<table border=\"1\" class=\"dataframe\">\n",
       "  <thead>\n",
       "    <tr style=\"text-align: right;\">\n",
       "      <th></th>\n",
       "      <th>id</th>\n",
       "      <th>province</th>\n",
       "      <th>district</th>\n",
       "      <th>subdistrict</th>\n",
       "      <th>address</th>\n",
       "      <th>property_type</th>\n",
       "      <th>total_units</th>\n",
       "      <th>bedrooms</th>\n",
       "      <th>baths</th>\n",
       "      <th>floor_area</th>\n",
       "      <th>...</th>\n",
       "      <th>longitude</th>\n",
       "      <th>nearby_stations</th>\n",
       "      <th>nearby_station_distance</th>\n",
       "      <th>nearby_bus_stops</th>\n",
       "      <th>nearby_supermarkets</th>\n",
       "      <th>nearby_shops</th>\n",
       "      <th>year_built</th>\n",
       "      <th>month_built</th>\n",
       "      <th>facilities</th>\n",
       "      <th>price</th>\n",
       "    </tr>\n",
       "  </thead>\n",
       "  <tbody>\n",
       "    <tr>\n",
       "      <th>2474</th>\n",
       "      <td>10605666</td>\n",
       "      <td>Bangkok</td>\n",
       "      <td>Sathon</td>\n",
       "      <td>None</td>\n",
       "      <td>ถนนนราธิวาสราช แขวงทุ่งมหาเมฆ เขตสาทร กทม.</td>\n",
       "      <td>Condo</td>\n",
       "      <td>361.0</td>\n",
       "      <td>1.0</td>\n",
       "      <td>1.0</td>\n",
       "      <td>39</td>\n",
       "      <td>...</td>\n",
       "      <td>100.532691</td>\n",
       "      <td>3</td>\n",
       "      <td>[[B2 Arkan Songkhro BRT, 120], [B1 Sathorn BRT...</td>\n",
       "      <td>20.0</td>\n",
       "      <td>16.0</td>\n",
       "      <td>16</td>\n",
       "      <td>2016</td>\n",
       "      <td>February</td>\n",
       "      <td>[Covered car park, Club, CCTV, Fitness corner,...</td>\n",
       "      <td>5800000</td>\n",
       "    </tr>\n",
       "    <tr>\n",
       "      <th>2933</th>\n",
       "      <td>10605671</td>\n",
       "      <td>Bangkok</td>\n",
       "      <td>Sathon</td>\n",
       "      <td>None</td>\n",
       "      <td>ถนนนราธิวาสราช แขวงทุ่งมหาเมฆ เขตสาทร กทม.</td>\n",
       "      <td>Condo</td>\n",
       "      <td>361.0</td>\n",
       "      <td>2.0</td>\n",
       "      <td>2.0</td>\n",
       "      <td>66</td>\n",
       "      <td>...</td>\n",
       "      <td>100.532691</td>\n",
       "      <td>3</td>\n",
       "      <td>[[B2 Arkan Songkhro BRT, 120], [B1 Sathorn BRT...</td>\n",
       "      <td>20.0</td>\n",
       "      <td>16.0</td>\n",
       "      <td>16</td>\n",
       "      <td>2016</td>\n",
       "      <td>February</td>\n",
       "      <td>[Covered car park, Club, CCTV, Fitness corner,...</td>\n",
       "      <td>9900000</td>\n",
       "    </tr>\n",
       "    <tr>\n",
       "      <th>3082</th>\n",
       "      <td>10991002</td>\n",
       "      <td>Bangkok</td>\n",
       "      <td>Chatuchak</td>\n",
       "      <td>None</td>\n",
       "      <td>92 ซอยพหลโยธิน 32 (ถนนเสนานิคม 1)</td>\n",
       "      <td>Condo</td>\n",
       "      <td>78.0</td>\n",
       "      <td>1.0</td>\n",
       "      <td>1.0</td>\n",
       "      <td>28</td>\n",
       "      <td>...</td>\n",
       "      <td>100.573752</td>\n",
       "      <td>2</td>\n",
       "      <td>[[N12 Sena Nikhom BTS, 310], [N11 Ratchayothin...</td>\n",
       "      <td>20.0</td>\n",
       "      <td>7.0</td>\n",
       "      <td>9</td>\n",
       "      <td>2016</td>\n",
       "      <td>August</td>\n",
       "      <td>[Covered car park, CCTV, Fitness corner, Jacuz...</td>\n",
       "      <td>2350000</td>\n",
       "    </tr>\n",
       "    <tr>\n",
       "      <th>5174</th>\n",
       "      <td>10781084</td>\n",
       "      <td>Bangkok</td>\n",
       "      <td>Phra Khanong</td>\n",
       "      <td>None</td>\n",
       "      <td>ซอยสุขุมวิท 64 แขวงบางจาก เขตพระโขนง กรุงเทพมห...</td>\n",
       "      <td>Condo</td>\n",
       "      <td>79.0</td>\n",
       "      <td>1.0</td>\n",
       "      <td>1.0</td>\n",
       "      <td>43</td>\n",
       "      <td>...</td>\n",
       "      <td>100.606867</td>\n",
       "      <td>2</td>\n",
       "      <td>[[E11 Punnawithi BTS, 100], [E10 Bang Chak BTS...</td>\n",
       "      <td>NaN</td>\n",
       "      <td>8.0</td>\n",
       "      <td>14</td>\n",
       "      <td>2012</td>\n",
       "      <td>July</td>\n",
       "      <td>[Covered car park, Club, Clubhouse, CCTV, Fitn...</td>\n",
       "      <td>3390000</td>\n",
       "    </tr>\n",
       "    <tr>\n",
       "      <th>6428</th>\n",
       "      <td>10921491</td>\n",
       "      <td>Bangkok</td>\n",
       "      <td>Phra Khanong</td>\n",
       "      <td>None</td>\n",
       "      <td>ซอยสุขุมวิท 64 แขวงบางจาก เขตพระโขนง กรุงเทพมห...</td>\n",
       "      <td>Condo</td>\n",
       "      <td>79.0</td>\n",
       "      <td>1.0</td>\n",
       "      <td>1.0</td>\n",
       "      <td>43</td>\n",
       "      <td>...</td>\n",
       "      <td>100.606867</td>\n",
       "      <td>2</td>\n",
       "      <td>[[E11 Punnawithi BTS, 100], [E10 Bang Chak BTS...</td>\n",
       "      <td>NaN</td>\n",
       "      <td>8.0</td>\n",
       "      <td>14</td>\n",
       "      <td>2012</td>\n",
       "      <td>July</td>\n",
       "      <td>[Covered car park, Club, Clubhouse, CCTV, Fitn...</td>\n",
       "      <td>3290000</td>\n",
       "    </tr>\n",
       "    <tr>\n",
       "      <th>8084</th>\n",
       "      <td>10605667</td>\n",
       "      <td>Bangkok</td>\n",
       "      <td>Sathon</td>\n",
       "      <td>None</td>\n",
       "      <td>ถนนนราธิวาสราช แขวงทุ่งมหาเมฆ เขตสาทร กทม.</td>\n",
       "      <td>Condo</td>\n",
       "      <td>361.0</td>\n",
       "      <td>1.0</td>\n",
       "      <td>1.0</td>\n",
       "      <td>39</td>\n",
       "      <td>...</td>\n",
       "      <td>100.532691</td>\n",
       "      <td>3</td>\n",
       "      <td>[[B2 Arkan Songkhro BRT, 120], [B1 Sathorn BRT...</td>\n",
       "      <td>20.0</td>\n",
       "      <td>16.0</td>\n",
       "      <td>16</td>\n",
       "      <td>2016</td>\n",
       "      <td>February</td>\n",
       "      <td>[Covered car park, Club, CCTV, Fitness corner,...</td>\n",
       "      <td>5900000</td>\n",
       "    </tr>\n",
       "    <tr>\n",
       "      <th>8229</th>\n",
       "      <td>10605669</td>\n",
       "      <td>Bangkok</td>\n",
       "      <td>Sathon</td>\n",
       "      <td>None</td>\n",
       "      <td>ถนนนราธิวาสราช แขวงทุ่งมหาเมฆ เขตสาทร กทม.</td>\n",
       "      <td>Condo</td>\n",
       "      <td>361.0</td>\n",
       "      <td>2.0</td>\n",
       "      <td>2.0</td>\n",
       "      <td>66</td>\n",
       "      <td>...</td>\n",
       "      <td>100.532691</td>\n",
       "      <td>3</td>\n",
       "      <td>[[B2 Arkan Songkhro BRT, 120], [B1 Sathorn BRT...</td>\n",
       "      <td>20.0</td>\n",
       "      <td>16.0</td>\n",
       "      <td>16</td>\n",
       "      <td>2016</td>\n",
       "      <td>February</td>\n",
       "      <td>[Covered car park, Club, CCTV, Fitness corner,...</td>\n",
       "      <td>9800000</td>\n",
       "    </tr>\n",
       "    <tr>\n",
       "      <th>8238</th>\n",
       "      <td>10611824</td>\n",
       "      <td>Bangkok</td>\n",
       "      <td>Sathon</td>\n",
       "      <td>None</td>\n",
       "      <td>ถนนนราธิวาสราช แขวงทุ่งมหาเมฆ เขตสาทร กทม.</td>\n",
       "      <td>Condo</td>\n",
       "      <td>361.0</td>\n",
       "      <td>1.0</td>\n",
       "      <td>1.0</td>\n",
       "      <td>39</td>\n",
       "      <td>...</td>\n",
       "      <td>100.532691</td>\n",
       "      <td>3</td>\n",
       "      <td>[[B2 Arkan Songkhro BRT, 120], [B1 Sathorn BRT...</td>\n",
       "      <td>20.0</td>\n",
       "      <td>16.0</td>\n",
       "      <td>16</td>\n",
       "      <td>2016</td>\n",
       "      <td>February</td>\n",
       "      <td>[Covered car park, Club, CCTV, Fitness corner,...</td>\n",
       "      <td>5850000</td>\n",
       "    </tr>\n",
       "    <tr>\n",
       "      <th>9816</th>\n",
       "      <td>10918742</td>\n",
       "      <td>Bangkok</td>\n",
       "      <td>Sathon</td>\n",
       "      <td>None</td>\n",
       "      <td>ถนนนราธิวาสราช แขวงทุ่งมหาเมฆ เขตสาทร กทม.</td>\n",
       "      <td>Condo</td>\n",
       "      <td>361.0</td>\n",
       "      <td>1.0</td>\n",
       "      <td>1.0</td>\n",
       "      <td>39</td>\n",
       "      <td>...</td>\n",
       "      <td>100.532691</td>\n",
       "      <td>3</td>\n",
       "      <td>[[B2 Arkan Songkhro BRT, 120], [B1 Sathorn BRT...</td>\n",
       "      <td>20.0</td>\n",
       "      <td>16.0</td>\n",
       "      <td>16</td>\n",
       "      <td>2016</td>\n",
       "      <td>February</td>\n",
       "      <td>[Covered car park, Club, CCTV, Fitness corner,...</td>\n",
       "      <td>6200000</td>\n",
       "    </tr>\n",
       "    <tr>\n",
       "      <th>10528</th>\n",
       "      <td>10559917</td>\n",
       "      <td>Bangkok</td>\n",
       "      <td>Phra Khanong</td>\n",
       "      <td>None</td>\n",
       "      <td>ซอยสุขุมวิท 64 แขวงบางจาก เขตพระโขนง กรุงเทพมห...</td>\n",
       "      <td>Condo</td>\n",
       "      <td>79.0</td>\n",
       "      <td>2.0</td>\n",
       "      <td>2.0</td>\n",
       "      <td>62</td>\n",
       "      <td>...</td>\n",
       "      <td>100.606867</td>\n",
       "      <td>2</td>\n",
       "      <td>[[E11 Punnawithi BTS, 100], [E10 Bang Chak BTS...</td>\n",
       "      <td>NaN</td>\n",
       "      <td>7.0</td>\n",
       "      <td>14</td>\n",
       "      <td>2012</td>\n",
       "      <td>July</td>\n",
       "      <td>[Covered car park, Club, Clubhouse, CCTV, Fitn...</td>\n",
       "      <td>5160000</td>\n",
       "    </tr>\n",
       "    <tr>\n",
       "      <th>11749</th>\n",
       "      <td>10605664</td>\n",
       "      <td>Bangkok</td>\n",
       "      <td>Sathon</td>\n",
       "      <td>None</td>\n",
       "      <td>ถนนนราธิวาสราช แขวงทุ่งมหาเมฆ เขตสาทร กทม.</td>\n",
       "      <td>Condo</td>\n",
       "      <td>361.0</td>\n",
       "      <td>1.0</td>\n",
       "      <td>1.0</td>\n",
       "      <td>39</td>\n",
       "      <td>...</td>\n",
       "      <td>100.532691</td>\n",
       "      <td>3</td>\n",
       "      <td>[[B2 Arkan Songkhro BRT, 120], [B1 Sathorn BRT...</td>\n",
       "      <td>20.0</td>\n",
       "      <td>16.0</td>\n",
       "      <td>16</td>\n",
       "      <td>2016</td>\n",
       "      <td>February</td>\n",
       "      <td>[Covered car park, Club, CCTV, Fitness corner,...</td>\n",
       "      <td>5600000</td>\n",
       "    </tr>\n",
       "  </tbody>\n",
       "</table>\n",
       "<p>11 rows × 23 columns</p>\n",
       "</div>"
      ],
      "text/plain": [
       "             id province      district subdistrict  \\\n",
       "2474   10605666  Bangkok        Sathon        None   \n",
       "2933   10605671  Bangkok        Sathon        None   \n",
       "3082   10991002  Bangkok     Chatuchak        None   \n",
       "5174   10781084  Bangkok  Phra Khanong        None   \n",
       "6428   10921491  Bangkok  Phra Khanong        None   \n",
       "8084   10605667  Bangkok        Sathon        None   \n",
       "8229   10605669  Bangkok        Sathon        None   \n",
       "8238   10611824  Bangkok        Sathon        None   \n",
       "9816   10918742  Bangkok        Sathon        None   \n",
       "10528  10559917  Bangkok  Phra Khanong        None   \n",
       "11749  10605664  Bangkok        Sathon        None   \n",
       "\n",
       "                                                 address property_type  \\\n",
       "2474          ถนนนราธิวาสราช แขวงทุ่งมหาเมฆ เขตสาทร กทม.         Condo   \n",
       "2933          ถนนนราธิวาสราช แขวงทุ่งมหาเมฆ เขตสาทร กทม.         Condo   \n",
       "3082                   92 ซอยพหลโยธิน 32 (ถนนเสนานิคม 1)         Condo   \n",
       "5174   ซอยสุขุมวิท 64 แขวงบางจาก เขตพระโขนง กรุงเทพมห...         Condo   \n",
       "6428   ซอยสุขุมวิท 64 แขวงบางจาก เขตพระโขนง กรุงเทพมห...         Condo   \n",
       "8084          ถนนนราธิวาสราช แขวงทุ่งมหาเมฆ เขตสาทร กทม.         Condo   \n",
       "8229          ถนนนราธิวาสราช แขวงทุ่งมหาเมฆ เขตสาทร กทม.         Condo   \n",
       "8238          ถนนนราธิวาสราช แขวงทุ่งมหาเมฆ เขตสาทร กทม.         Condo   \n",
       "9816          ถนนนราธิวาสราช แขวงทุ่งมหาเมฆ เขตสาทร กทม.         Condo   \n",
       "10528  ซอยสุขุมวิท 64 แขวงบางจาก เขตพระโขนง กรุงเทพมห...         Condo   \n",
       "11749         ถนนนราธิวาสราช แขวงทุ่งมหาเมฆ เขตสาทร กทม.         Condo   \n",
       "\n",
       "       total_units  bedrooms  baths  floor_area  ...   longitude  \\\n",
       "2474         361.0       1.0    1.0          39  ...  100.532691   \n",
       "2933         361.0       2.0    2.0          66  ...  100.532691   \n",
       "3082          78.0       1.0    1.0          28  ...  100.573752   \n",
       "5174          79.0       1.0    1.0          43  ...  100.606867   \n",
       "6428          79.0       1.0    1.0          43  ...  100.606867   \n",
       "8084         361.0       1.0    1.0          39  ...  100.532691   \n",
       "8229         361.0       2.0    2.0          66  ...  100.532691   \n",
       "8238         361.0       1.0    1.0          39  ...  100.532691   \n",
       "9816         361.0       1.0    1.0          39  ...  100.532691   \n",
       "10528         79.0       2.0    2.0          62  ...  100.606867   \n",
       "11749        361.0       1.0    1.0          39  ...  100.532691   \n",
       "\n",
       "       nearby_stations                            nearby_station_distance  \\\n",
       "2474                 3  [[B2 Arkan Songkhro BRT, 120], [B1 Sathorn BRT...   \n",
       "2933                 3  [[B2 Arkan Songkhro BRT, 120], [B1 Sathorn BRT...   \n",
       "3082                 2  [[N12 Sena Nikhom BTS, 310], [N11 Ratchayothin...   \n",
       "5174                 2  [[E11 Punnawithi BTS, 100], [E10 Bang Chak BTS...   \n",
       "6428                 2  [[E11 Punnawithi BTS, 100], [E10 Bang Chak BTS...   \n",
       "8084                 3  [[B2 Arkan Songkhro BRT, 120], [B1 Sathorn BRT...   \n",
       "8229                 3  [[B2 Arkan Songkhro BRT, 120], [B1 Sathorn BRT...   \n",
       "8238                 3  [[B2 Arkan Songkhro BRT, 120], [B1 Sathorn BRT...   \n",
       "9816                 3  [[B2 Arkan Songkhro BRT, 120], [B1 Sathorn BRT...   \n",
       "10528                2  [[E11 Punnawithi BTS, 100], [E10 Bang Chak BTS...   \n",
       "11749                3  [[B2 Arkan Songkhro BRT, 120], [B1 Sathorn BRT...   \n",
       "\n",
       "       nearby_bus_stops  nearby_supermarkets nearby_shops  year_built  \\\n",
       "2474               20.0                 16.0           16        2016   \n",
       "2933               20.0                 16.0           16        2016   \n",
       "3082               20.0                  7.0            9        2016   \n",
       "5174                NaN                  8.0           14        2012   \n",
       "6428                NaN                  8.0           14        2012   \n",
       "8084               20.0                 16.0           16        2016   \n",
       "8229               20.0                 16.0           16        2016   \n",
       "8238               20.0                 16.0           16        2016   \n",
       "9816               20.0                 16.0           16        2016   \n",
       "10528               NaN                  7.0           14        2012   \n",
       "11749              20.0                 16.0           16        2016   \n",
       "\n",
       "       month_built                                         facilities    price  \n",
       "2474      February  [Covered car park, Club, CCTV, Fitness corner,...  5800000  \n",
       "2933      February  [Covered car park, Club, CCTV, Fitness corner,...  9900000  \n",
       "3082        August  [Covered car park, CCTV, Fitness corner, Jacuz...  2350000  \n",
       "5174          July  [Covered car park, Club, Clubhouse, CCTV, Fitn...  3390000  \n",
       "6428          July  [Covered car park, Club, Clubhouse, CCTV, Fitn...  3290000  \n",
       "8084      February  [Covered car park, Club, CCTV, Fitness corner,...  5900000  \n",
       "8229      February  [Covered car park, Club, CCTV, Fitness corner,...  9800000  \n",
       "8238      February  [Covered car park, Club, CCTV, Fitness corner,...  5850000  \n",
       "9816      February  [Covered car park, Club, CCTV, Fitness corner,...  6200000  \n",
       "10528         July  [Covered car park, Club, Clubhouse, CCTV, Fitn...  5160000  \n",
       "11749     February  [Covered car park, Club, CCTV, Fitness corner,...  5600000  \n",
       "\n",
       "[11 rows x 23 columns]"
      ]
     },
     "execution_count": 8,
     "metadata": {},
     "output_type": "execute_result"
    }
   ],
   "source": [
    "#Check null in subdistrict\n",
    "sub = train_df[train_df['subdistrict'].isna()]\n",
    "sub"
   ]
  },
  {
   "cell_type": "code",
   "execution_count": 9,
   "metadata": {},
   "outputs": [
    {
     "data": {
      "text/plain": [
       "2474       [ถนนนราธิวาสราช, แขวงทุ่งมหาเมฆ, เขตสาทร, กทม.]\n",
       "2933       [ถนนนราธิวาสราช, แขวงทุ่งมหาเมฆ, เขตสาทร, กทม.]\n",
       "3082               [92, ซอยพหลโยธิน, 32, (ถนนเสนานิคม, 1)]\n",
       "5174     [ซอยสุขุมวิท, 64, แขวงบางจาก, เขตพระโขนง, กรุง...\n",
       "6428     [ซอยสุขุมวิท, 64, แขวงบางจาก, เขตพระโขนง, กรุง...\n",
       "8084       [ถนนนราธิวาสราช, แขวงทุ่งมหาเมฆ, เขตสาทร, กทม.]\n",
       "8229       [ถนนนราธิวาสราช, แขวงทุ่งมหาเมฆ, เขตสาทร, กทม.]\n",
       "8238       [ถนนนราธิวาสราช, แขวงทุ่งมหาเมฆ, เขตสาทร, กทม.]\n",
       "9816       [ถนนนราธิวาสราช, แขวงทุ่งมหาเมฆ, เขตสาทร, กทม.]\n",
       "10528    [ซอยสุขุมวิท, 64, แขวงบางจาก, เขตพระโขนง, กรุง...\n",
       "11749      [ถนนนราธิวาสราช, แขวงทุ่งมหาเมฆ, เขตสาทร, กทม.]\n",
       "Name: address, dtype: object"
      ]
     },
     "execution_count": 9,
     "metadata": {},
     "output_type": "execute_result"
    }
   ],
   "source": [
    "#Check subdistrict condition\n",
    "sub['address'].str.split(' ')"
   ]
  },
  {
   "cell_type": "code",
   "execution_count": 10,
   "metadata": {},
   "outputs": [],
   "source": [
    "#drop column that can't define subdistrict\n",
    "train_df.drop(index = 3082 , inplace = True)"
   ]
  },
  {
   "cell_type": "code",
   "execution_count": 11,
   "metadata": {},
   "outputs": [],
   "source": [
    "#Reset index for drop row\n",
    "train_df = train_df.reset_index()"
   ]
  },
  {
   "cell_type": "code",
   "execution_count": 12,
   "metadata": {},
   "outputs": [
    {
     "name": "stderr",
     "output_type": "stream",
     "text": [
      "C:\\Users\\Pattr11\\AppData\\Local\\Temp\\ipykernel_8236\\2215871159.py:6: SettingWithCopyWarning: \n",
      "A value is trying to be set on a copy of a slice from a DataFrame\n",
      "\n",
      "See the caveats in the documentation: https://pandas.pydata.org/pandas-docs/stable/user_guide/indexing.html#returning-a-view-versus-a-copy\n",
      "  train_df['subdistrict'][i] = 'Bang Chak'\n",
      "C:\\Users\\Pattr11\\AppData\\Local\\Temp\\ipykernel_8236\\2215871159.py:4: SettingWithCopyWarning: \n",
      "A value is trying to be set on a copy of a slice from a DataFrame\n",
      "\n",
      "See the caveats in the documentation: https://pandas.pydata.org/pandas-docs/stable/user_guide/indexing.html#returning-a-view-versus-a-copy\n",
      "  train_df['subdistrict'][i] = 'Thung Maha Mek'\n"
     ]
    }
   ],
   "source": [
    "#create function for replace null value\n",
    "for i,address in enumerate(train_df['address']):\n",
    "    if 'แขวงทุ่งมหาเมฆ' in address:\n",
    "        train_df['subdistrict'][i] = 'Thung Maha Mek'\n",
    "    elif 'แขวงบางจาก' in address:\n",
    "        train_df['subdistrict'][i] = 'Bang Chak'"
   ]
  },
  {
   "cell_type": "code",
   "execution_count": 13,
   "metadata": {},
   "outputs": [
    {
     "data": {
      "text/html": [
       "<div>\n",
       "<style scoped>\n",
       "    .dataframe tbody tr th:only-of-type {\n",
       "        vertical-align: middle;\n",
       "    }\n",
       "\n",
       "    .dataframe tbody tr th {\n",
       "        vertical-align: top;\n",
       "    }\n",
       "\n",
       "    .dataframe thead th {\n",
       "        text-align: right;\n",
       "    }\n",
       "</style>\n",
       "<table border=\"1\" class=\"dataframe\">\n",
       "  <thead>\n",
       "    <tr style=\"text-align: right;\">\n",
       "      <th></th>\n",
       "      <th>index</th>\n",
       "      <th>id</th>\n",
       "      <th>province</th>\n",
       "      <th>district</th>\n",
       "      <th>subdistrict</th>\n",
       "      <th>address</th>\n",
       "      <th>property_type</th>\n",
       "      <th>total_units</th>\n",
       "      <th>bedrooms</th>\n",
       "      <th>baths</th>\n",
       "      <th>...</th>\n",
       "      <th>longitude</th>\n",
       "      <th>nearby_stations</th>\n",
       "      <th>nearby_station_distance</th>\n",
       "      <th>nearby_bus_stops</th>\n",
       "      <th>nearby_supermarkets</th>\n",
       "      <th>nearby_shops</th>\n",
       "      <th>year_built</th>\n",
       "      <th>month_built</th>\n",
       "      <th>facilities</th>\n",
       "      <th>price</th>\n",
       "    </tr>\n",
       "  </thead>\n",
       "  <tbody>\n",
       "  </tbody>\n",
       "</table>\n",
       "<p>0 rows × 24 columns</p>\n",
       "</div>"
      ],
      "text/plain": [
       "Empty DataFrame\n",
       "Columns: [index, id, province, district, subdistrict, address, property_type, total_units, bedrooms, baths, floor_area, floor_level, land_area, latitude, longitude, nearby_stations, nearby_station_distance, nearby_bus_stops, nearby_supermarkets, nearby_shops, year_built, month_built, facilities, price]\n",
       "Index: []\n",
       "\n",
       "[0 rows x 24 columns]"
      ]
     },
     "execution_count": 13,
     "metadata": {},
     "output_type": "execute_result"
    }
   ],
   "source": [
    "#Check if still has null\n",
    "train_df[train_df['subdistrict'].isna()]"
   ]
  },
  {
   "cell_type": "code",
   "execution_count": 14,
   "metadata": {},
   "outputs": [
    {
     "data": {
      "text/plain": [
       "'Thung Maha Mek'"
      ]
     },
     "execution_count": 14,
     "metadata": {},
     "output_type": "execute_result"
    }
   ],
   "source": [
    "#Random check result\n",
    "train_df['subdistrict'][9815]"
   ]
  },
  {
   "cell_type": "markdown",
   "metadata": {},
   "source": [
    "- Others null values appear in features that are referring to the property surrounding so will conclude that the null values represent unavailability instead."
   ]
  },
  {
   "cell_type": "code",
   "execution_count": 15,
   "metadata": {},
   "outputs": [],
   "source": [
    "# replace null value with 0\n",
    "train_df.fillna(0 , inplace = True) "
   ]
  },
  {
   "cell_type": "code",
   "execution_count": 16,
   "metadata": {},
   "outputs": [
    {
     "data": {
      "text/plain": [
       "index                      0\n",
       "id                         0\n",
       "province                   0\n",
       "district                   0\n",
       "subdistrict                0\n",
       "address                    0\n",
       "property_type              0\n",
       "total_units                0\n",
       "bedrooms                   0\n",
       "baths                      0\n",
       "floor_area                 0\n",
       "floor_level                0\n",
       "land_area                  0\n",
       "latitude                   0\n",
       "longitude                  0\n",
       "nearby_stations            0\n",
       "nearby_station_distance    0\n",
       "nearby_bus_stops           0\n",
       "nearby_supermarkets        0\n",
       "nearby_shops               0\n",
       "year_built                 0\n",
       "month_built                0\n",
       "facilities                 0\n",
       "price                      0\n",
       "dtype: int64"
      ]
     },
     "execution_count": 16,
     "metadata": {},
     "output_type": "execute_result"
    }
   ],
   "source": [
    "#Recheck data\n",
    "train_df.isna().sum()"
   ]
  },
  {
   "cell_type": "code",
   "execution_count": 17,
   "metadata": {},
   "outputs": [
    {
     "data": {
      "text/html": [
       "<div>\n",
       "<style scoped>\n",
       "    .dataframe tbody tr th:only-of-type {\n",
       "        vertical-align: middle;\n",
       "    }\n",
       "\n",
       "    .dataframe tbody tr th {\n",
       "        vertical-align: top;\n",
       "    }\n",
       "\n",
       "    .dataframe thead th {\n",
       "        text-align: right;\n",
       "    }\n",
       "</style>\n",
       "<table border=\"1\" class=\"dataframe\">\n",
       "  <thead>\n",
       "    <tr style=\"text-align: right;\">\n",
       "      <th></th>\n",
       "      <th>index</th>\n",
       "      <th>id</th>\n",
       "      <th>province</th>\n",
       "      <th>district</th>\n",
       "      <th>subdistrict</th>\n",
       "      <th>address</th>\n",
       "      <th>property_type</th>\n",
       "      <th>total_units</th>\n",
       "      <th>bedrooms</th>\n",
       "      <th>baths</th>\n",
       "      <th>...</th>\n",
       "      <th>longitude</th>\n",
       "      <th>nearby_stations</th>\n",
       "      <th>nearby_station_distance</th>\n",
       "      <th>nearby_bus_stops</th>\n",
       "      <th>nearby_supermarkets</th>\n",
       "      <th>nearby_shops</th>\n",
       "      <th>year_built</th>\n",
       "      <th>month_built</th>\n",
       "      <th>facilities</th>\n",
       "      <th>price</th>\n",
       "    </tr>\n",
       "  </thead>\n",
       "  <tbody>\n",
       "    <tr>\n",
       "      <th>0</th>\n",
       "      <td>0</td>\n",
       "      <td>8448321</td>\n",
       "      <td>Bangkok</td>\n",
       "      <td>Watthana</td>\n",
       "      <td>Phra Khanong Nuea</td>\n",
       "      <td>36 Soi Sukhumvit 63, Ekamai Road</td>\n",
       "      <td>Condo</td>\n",
       "      <td>273.0</td>\n",
       "      <td>2.0</td>\n",
       "      <td>2.0</td>\n",
       "      <td>...</td>\n",
       "      <td>100.584850</td>\n",
       "      <td>2</td>\n",
       "      <td>[[E7 Ekkamai BTS, 270], [E6 Thong Lo BTS, 800]]</td>\n",
       "      <td>0.0</td>\n",
       "      <td>16.0</td>\n",
       "      <td>20</td>\n",
       "      <td>2011</td>\n",
       "      <td>June</td>\n",
       "      <td>[Car Park, Community Garden, CCTV, Fitness cor...</td>\n",
       "      <td>8500000</td>\n",
       "    </tr>\n",
       "    <tr>\n",
       "      <th>1</th>\n",
       "      <td>1</td>\n",
       "      <td>10936325</td>\n",
       "      <td>Bangkok</td>\n",
       "      <td>Watthana</td>\n",
       "      <td>Khlong Toei Nuea</td>\n",
       "      <td>31 สุขุมวิท</td>\n",
       "      <td>Condo</td>\n",
       "      <td>74.0</td>\n",
       "      <td>1.0</td>\n",
       "      <td>1.0</td>\n",
       "      <td>...</td>\n",
       "      <td>100.566949</td>\n",
       "      <td>3</td>\n",
       "      <td>[[BL22 Sukhumvit MRT, 720], [BL21 Phetchaburi ...</td>\n",
       "      <td>0.0</td>\n",
       "      <td>11.0</td>\n",
       "      <td>20</td>\n",
       "      <td>2012</td>\n",
       "      <td>September</td>\n",
       "      <td>[CCTV, Fitness corner, 24 hours security, Swim...</td>\n",
       "      <td>5900000</td>\n",
       "    </tr>\n",
       "    <tr>\n",
       "      <th>2</th>\n",
       "      <td>2</td>\n",
       "      <td>10927931</td>\n",
       "      <td>Bangkok</td>\n",
       "      <td>Khlong Toei</td>\n",
       "      <td>Khlong Tan</td>\n",
       "      <td>68 Sukhumvit 24 Alley, Khong Tan</td>\n",
       "      <td>Condo</td>\n",
       "      <td>940.0</td>\n",
       "      <td>1.0</td>\n",
       "      <td>1.0</td>\n",
       "      <td>...</td>\n",
       "      <td>100.565660</td>\n",
       "      <td>2</td>\n",
       "      <td>[[E5 Phrom Phong BTS, 650], [BL23 Queen Siriki...</td>\n",
       "      <td>0.0</td>\n",
       "      <td>20.0</td>\n",
       "      <td>20</td>\n",
       "      <td>2017</td>\n",
       "      <td>January</td>\n",
       "      <td>[Car Park, Clubhouse, Community Garden, CCTV, ...</td>\n",
       "      <td>6290000</td>\n",
       "    </tr>\n",
       "    <tr>\n",
       "      <th>3</th>\n",
       "      <td>3</td>\n",
       "      <td>11004792</td>\n",
       "      <td>Nonthaburi</td>\n",
       "      <td>Bang Kruai</td>\n",
       "      <td>Bang Khun Kong</td>\n",
       "      <td>Bang Khun Kong</td>\n",
       "      <td>Detached House</td>\n",
       "      <td>0.0</td>\n",
       "      <td>3.0</td>\n",
       "      <td>3.0</td>\n",
       "      <td>...</td>\n",
       "      <td>100.428438</td>\n",
       "      <td>0</td>\n",
       "      <td>0</td>\n",
       "      <td>0.0</td>\n",
       "      <td>2.0</td>\n",
       "      <td>4</td>\n",
       "      <td>0</td>\n",
       "      <td>0</td>\n",
       "      <td>[Covered car park, Playground, 24 hours securi...</td>\n",
       "      <td>8900000</td>\n",
       "    </tr>\n",
       "    <tr>\n",
       "      <th>4</th>\n",
       "      <td>4</td>\n",
       "      <td>10757452</td>\n",
       "      <td>Nonthaburi</td>\n",
       "      <td>Mueang Nonthaburi</td>\n",
       "      <td>Bang Phai</td>\n",
       "      <td>พระราม5-นครอินทร์</td>\n",
       "      <td>Townhouse</td>\n",
       "      <td>0.0</td>\n",
       "      <td>3.0</td>\n",
       "      <td>2.0</td>\n",
       "      <td>...</td>\n",
       "      <td>100.494129</td>\n",
       "      <td>1</td>\n",
       "      <td>[[PP09 Yaek Nonthaburi 1 MRT, 10]]</td>\n",
       "      <td>0.0</td>\n",
       "      <td>6.0</td>\n",
       "      <td>15</td>\n",
       "      <td>0</td>\n",
       "      <td>0</td>\n",
       "      <td>[Covered car park, 24 hours security]</td>\n",
       "      <td>2390000</td>\n",
       "    </tr>\n",
       "  </tbody>\n",
       "</table>\n",
       "<p>5 rows × 24 columns</p>\n",
       "</div>"
      ],
      "text/plain": [
       "   index        id    province           district        subdistrict  \\\n",
       "0      0   8448321     Bangkok           Watthana  Phra Khanong Nuea   \n",
       "1      1  10936325     Bangkok           Watthana   Khlong Toei Nuea   \n",
       "2      2  10927931     Bangkok        Khlong Toei         Khlong Tan   \n",
       "3      3  11004792  Nonthaburi         Bang Kruai     Bang Khun Kong   \n",
       "4      4  10757452  Nonthaburi  Mueang Nonthaburi          Bang Phai   \n",
       "\n",
       "                            address   property_type  total_units  bedrooms  \\\n",
       "0  36 Soi Sukhumvit 63, Ekamai Road           Condo        273.0       2.0   \n",
       "1                       31 สุขุมวิท           Condo         74.0       1.0   \n",
       "2  68 Sukhumvit 24 Alley, Khong Tan           Condo        940.0       1.0   \n",
       "3                    Bang Khun Kong  Detached House          0.0       3.0   \n",
       "4                 พระราม5-นครอินทร์       Townhouse          0.0       3.0   \n",
       "\n",
       "   baths  ...   longitude  nearby_stations  \\\n",
       "0    2.0  ...  100.584850                2   \n",
       "1    1.0  ...  100.566949                3   \n",
       "2    1.0  ...  100.565660                2   \n",
       "3    3.0  ...  100.428438                0   \n",
       "4    2.0  ...  100.494129                1   \n",
       "\n",
       "                             nearby_station_distance  nearby_bus_stops  \\\n",
       "0    [[E7 Ekkamai BTS, 270], [E6 Thong Lo BTS, 800]]               0.0   \n",
       "1  [[BL22 Sukhumvit MRT, 720], [BL21 Phetchaburi ...               0.0   \n",
       "2  [[E5 Phrom Phong BTS, 650], [BL23 Queen Siriki...               0.0   \n",
       "3                                                  0               0.0   \n",
       "4                 [[PP09 Yaek Nonthaburi 1 MRT, 10]]               0.0   \n",
       "\n",
       "   nearby_supermarkets  nearby_shops year_built  month_built  \\\n",
       "0                 16.0            20       2011         June   \n",
       "1                 11.0            20       2012    September   \n",
       "2                 20.0            20       2017      January   \n",
       "3                  2.0             4          0            0   \n",
       "4                  6.0            15          0            0   \n",
       "\n",
       "                                          facilities    price  \n",
       "0  [Car Park, Community Garden, CCTV, Fitness cor...  8500000  \n",
       "1  [CCTV, Fitness corner, 24 hours security, Swim...  5900000  \n",
       "2  [Car Park, Clubhouse, Community Garden, CCTV, ...  6290000  \n",
       "3  [Covered car park, Playground, 24 hours securi...  8900000  \n",
       "4              [Covered car park, 24 hours security]  2390000  \n",
       "\n",
       "[5 rows x 24 columns]"
      ]
     },
     "execution_count": 17,
     "metadata": {},
     "output_type": "execute_result"
    }
   ],
   "source": [
    "train_df.head()"
   ]
  },
  {
   "cell_type": "code",
   "execution_count": 18,
   "metadata": {},
   "outputs": [],
   "source": [
    "#Delete column index\n",
    "del train_df['index']"
   ]
  },
  {
   "cell_type": "markdown",
   "metadata": {},
   "source": [
    "## Data Dictionary"
   ]
  },
  {
   "cell_type": "markdown",
   "metadata": {},
   "source": [
    "|Feature|Type|Dataset|Description|\n",
    "|:--|:--|:--|:--|\n",
    "|id|int|train|identification of house\n",
    "|province|object|train|a principal administrative division of certain countries\n",
    "|district|object|train|an area of a country\n",
    "|subdistrict|object|train|an administrative division that is a subdivision of a district       \n",
    "|address|object|train|location of house               \n",
    "|property_type|object|train|property characteristics        \n",
    "|total_units|float|train|the total number of housing units            \n",
    "|bedrooms|float|train|a room by its usage for sleeping               \n",
    "|baths|float|train|a room that contains either a bathtub or a shower                     \n",
    "|floor_area|int|train|the area taken up by a building or part of it                \n",
    "|floor_level|float|train|floor at the level of the surrounding land or ground               \n",
    "|land_area|float|train|the number of square kilometres of land in a given geographic area               \n",
    "|latitude|float|train|measures the distance north or south of the equator                  \n",
    "|longitude|float|train|measures distance east or west of the prime meridian              \n",
    "|nearby_stations|int|train|number of station near the buiding           \n",
    "|nearby_station_distance|object|train|name and distance of station near the buiding   \n",
    "|nearby_bus_stops|float|train|number of bus stop near the buiding        \n",
    "|nearby_supermarkets|float|train|number of supermaket near the buiding \n",
    "|nearby_shops|int|train|number of shop near the buiding            \n",
    "|year_built|int|train|year when construction of the property              \n",
    "|month_built|object|train|month when construction of the property               \n",
    "|facilities|object|train|buildings, equipment,services that are provided in building             \n",
    "|price|int|train|the amount of money set for sale the house          "
   ]
  },
  {
   "cell_type": "markdown",
   "metadata": {},
   "source": [
    "# Exploratory Data Analysis"
   ]
  },
  {
   "cell_type": "code",
   "execution_count": 19,
   "metadata": {},
   "outputs": [
    {
     "data": {
      "text/html": [
       "<div>\n",
       "<style scoped>\n",
       "    .dataframe tbody tr th:only-of-type {\n",
       "        vertical-align: middle;\n",
       "    }\n",
       "\n",
       "    .dataframe tbody tr th {\n",
       "        vertical-align: top;\n",
       "    }\n",
       "\n",
       "    .dataframe thead th {\n",
       "        text-align: right;\n",
       "    }\n",
       "</style>\n",
       "<table border=\"1\" class=\"dataframe\">\n",
       "  <thead>\n",
       "    <tr style=\"text-align: right;\">\n",
       "      <th></th>\n",
       "      <th>id</th>\n",
       "      <th>total_units</th>\n",
       "      <th>bedrooms</th>\n",
       "      <th>baths</th>\n",
       "      <th>floor_area</th>\n",
       "      <th>floor_level</th>\n",
       "      <th>land_area</th>\n",
       "      <th>latitude</th>\n",
       "      <th>longitude</th>\n",
       "      <th>nearby_stations</th>\n",
       "      <th>nearby_bus_stops</th>\n",
       "      <th>nearby_supermarkets</th>\n",
       "      <th>nearby_shops</th>\n",
       "      <th>year_built</th>\n",
       "      <th>price</th>\n",
       "    </tr>\n",
       "  </thead>\n",
       "  <tbody>\n",
       "    <tr>\n",
       "      <th>count</th>\n",
       "      <td>1.427000e+04</td>\n",
       "      <td>14270.000000</td>\n",
       "      <td>14270.000000</td>\n",
       "      <td>14270.000000</td>\n",
       "      <td>14270.000000</td>\n",
       "      <td>14270.000000</td>\n",
       "      <td>14270.000000</td>\n",
       "      <td>14270.000000</td>\n",
       "      <td>14270.000000</td>\n",
       "      <td>14270.000000</td>\n",
       "      <td>14270.000000</td>\n",
       "      <td>14270.000000</td>\n",
       "      <td>14270.000000</td>\n",
       "      <td>14270.000000</td>\n",
       "      <td>1.427000e+04</td>\n",
       "    </tr>\n",
       "    <tr>\n",
       "      <th>mean</th>\n",
       "      <td>1.062612e+07</td>\n",
       "      <td>524.822565</td>\n",
       "      <td>1.875123</td>\n",
       "      <td>1.614366</td>\n",
       "      <td>79.870918</td>\n",
       "      <td>6.421163</td>\n",
       "      <td>83.717730</td>\n",
       "      <td>13.762809</td>\n",
       "      <td>100.565016</td>\n",
       "      <td>0.956342</td>\n",
       "      <td>5.914716</td>\n",
       "      <td>8.758795</td>\n",
       "      <td>10.447162</td>\n",
       "      <td>1422.695865</td>\n",
       "      <td>4.044243e+06</td>\n",
       "    </tr>\n",
       "    <tr>\n",
       "      <th>std</th>\n",
       "      <td>8.030326e+05</td>\n",
       "      <td>570.144450</td>\n",
       "      <td>1.096042</td>\n",
       "      <td>0.875487</td>\n",
       "      <td>69.702270</td>\n",
       "      <td>8.836254</td>\n",
       "      <td>1813.411189</td>\n",
       "      <td>0.092788</td>\n",
       "      <td>0.089578</td>\n",
       "      <td>1.085258</td>\n",
       "      <td>8.116751</td>\n",
       "      <td>5.473768</td>\n",
       "      <td>6.951136</td>\n",
       "      <td>917.756311</td>\n",
       "      <td>2.179939e+06</td>\n",
       "    </tr>\n",
       "    <tr>\n",
       "      <th>min</th>\n",
       "      <td>1.025114e+06</td>\n",
       "      <td>0.000000</td>\n",
       "      <td>0.000000</td>\n",
       "      <td>0.000000</td>\n",
       "      <td>1.000000</td>\n",
       "      <td>0.000000</td>\n",
       "      <td>0.000000</td>\n",
       "      <td>13.517062</td>\n",
       "      <td>100.273931</td>\n",
       "      <td>0.000000</td>\n",
       "      <td>0.000000</td>\n",
       "      <td>0.000000</td>\n",
       "      <td>1.000000</td>\n",
       "      <td>0.000000</td>\n",
       "      <td>4.800000e+05</td>\n",
       "    </tr>\n",
       "    <tr>\n",
       "      <th>25%</th>\n",
       "      <td>1.064584e+07</td>\n",
       "      <td>0.000000</td>\n",
       "      <td>1.000000</td>\n",
       "      <td>1.000000</td>\n",
       "      <td>32.000000</td>\n",
       "      <td>0.000000</td>\n",
       "      <td>0.000000</td>\n",
       "      <td>13.705177</td>\n",
       "      <td>100.512628</td>\n",
       "      <td>0.000000</td>\n",
       "      <td>0.000000</td>\n",
       "      <td>5.000000</td>\n",
       "      <td>4.000000</td>\n",
       "      <td>0.000000</td>\n",
       "      <td>2.250000e+06</td>\n",
       "    </tr>\n",
       "    <tr>\n",
       "      <th>50%</th>\n",
       "      <td>1.086983e+07</td>\n",
       "      <td>382.000000</td>\n",
       "      <td>1.000000</td>\n",
       "      <td>1.000000</td>\n",
       "      <td>47.000000</td>\n",
       "      <td>2.000000</td>\n",
       "      <td>0.000000</td>\n",
       "      <td>13.753742</td>\n",
       "      <td>100.569721</td>\n",
       "      <td>1.000000</td>\n",
       "      <td>0.000000</td>\n",
       "      <td>8.000000</td>\n",
       "      <td>9.000000</td>\n",
       "      <td>2013.000000</td>\n",
       "      <td>3.500000e+06</td>\n",
       "    </tr>\n",
       "    <tr>\n",
       "      <th>75%</th>\n",
       "      <td>1.097708e+07</td>\n",
       "      <td>800.000000</td>\n",
       "      <td>3.000000</td>\n",
       "      <td>2.000000</td>\n",
       "      <td>112.000000</td>\n",
       "      <td>10.000000</td>\n",
       "      <td>80.000000</td>\n",
       "      <td>13.837541</td>\n",
       "      <td>100.608786</td>\n",
       "      <td>2.000000</td>\n",
       "      <td>14.000000</td>\n",
       "      <td>13.000000</td>\n",
       "      <td>19.000000</td>\n",
       "      <td>2017.000000</td>\n",
       "      <td>5.500000e+06</td>\n",
       "    </tr>\n",
       "    <tr>\n",
       "      <th>max</th>\n",
       "      <td>1.104790e+07</td>\n",
       "      <td>4000.000000</td>\n",
       "      <td>10.000000</td>\n",
       "      <td>9.000000</td>\n",
       "      <td>766.000000</td>\n",
       "      <td>55.000000</td>\n",
       "      <td>137664.000000</td>\n",
       "      <td>14.022246</td>\n",
       "      <td>100.905485</td>\n",
       "      <td>3.000000</td>\n",
       "      <td>20.000000</td>\n",
       "      <td>20.000000</td>\n",
       "      <td>20.000000</td>\n",
       "      <td>2023.000000</td>\n",
       "      <td>9.999000e+06</td>\n",
       "    </tr>\n",
       "  </tbody>\n",
       "</table>\n",
       "</div>"
      ],
      "text/plain": [
       "                 id   total_units      bedrooms         baths    floor_area  \\\n",
       "count  1.427000e+04  14270.000000  14270.000000  14270.000000  14270.000000   \n",
       "mean   1.062612e+07    524.822565      1.875123      1.614366     79.870918   \n",
       "std    8.030326e+05    570.144450      1.096042      0.875487     69.702270   \n",
       "min    1.025114e+06      0.000000      0.000000      0.000000      1.000000   \n",
       "25%    1.064584e+07      0.000000      1.000000      1.000000     32.000000   \n",
       "50%    1.086983e+07    382.000000      1.000000      1.000000     47.000000   \n",
       "75%    1.097708e+07    800.000000      3.000000      2.000000    112.000000   \n",
       "max    1.104790e+07   4000.000000     10.000000      9.000000    766.000000   \n",
       "\n",
       "        floor_level      land_area      latitude     longitude  \\\n",
       "count  14270.000000   14270.000000  14270.000000  14270.000000   \n",
       "mean       6.421163      83.717730     13.762809    100.565016   \n",
       "std        8.836254    1813.411189      0.092788      0.089578   \n",
       "min        0.000000       0.000000     13.517062    100.273931   \n",
       "25%        0.000000       0.000000     13.705177    100.512628   \n",
       "50%        2.000000       0.000000     13.753742    100.569721   \n",
       "75%       10.000000      80.000000     13.837541    100.608786   \n",
       "max       55.000000  137664.000000     14.022246    100.905485   \n",
       "\n",
       "       nearby_stations  nearby_bus_stops  nearby_supermarkets  nearby_shops  \\\n",
       "count     14270.000000      14270.000000         14270.000000  14270.000000   \n",
       "mean          0.956342          5.914716             8.758795     10.447162   \n",
       "std           1.085258          8.116751             5.473768      6.951136   \n",
       "min           0.000000          0.000000             0.000000      1.000000   \n",
       "25%           0.000000          0.000000             5.000000      4.000000   \n",
       "50%           1.000000          0.000000             8.000000      9.000000   \n",
       "75%           2.000000         14.000000            13.000000     19.000000   \n",
       "max           3.000000         20.000000            20.000000     20.000000   \n",
       "\n",
       "         year_built         price  \n",
       "count  14270.000000  1.427000e+04  \n",
       "mean    1422.695865  4.044243e+06  \n",
       "std      917.756311  2.179939e+06  \n",
       "min        0.000000  4.800000e+05  \n",
       "25%        0.000000  2.250000e+06  \n",
       "50%     2013.000000  3.500000e+06  \n",
       "75%     2017.000000  5.500000e+06  \n",
       "max     2023.000000  9.999000e+06  "
      ]
     },
     "execution_count": 19,
     "metadata": {},
     "output_type": "execute_result"
    }
   ],
   "source": [
    "train_df.describe()"
   ]
  },
  {
   "cell_type": "code",
   "execution_count": 20,
   "metadata": {},
   "outputs": [
    {
     "name": "stderr",
     "output_type": "stream",
     "text": [
      "C:\\Users\\Pattr11\\AppData\\Local\\Temp\\ipykernel_8236\\1677039528.py:4: FutureWarning: The default value of numeric_only in DataFrame.corr is deprecated. In a future version, it will default to False. Select only valid columns or specify the value of numeric_only to silence this warning.\n",
      "  corr = train_df.corr()\n"
     ]
    },
    {
     "data": {
      "text/plain": [
       "Text(0.5, 1.0, 'Correlation')"
      ]
     },
     "execution_count": 20,
     "metadata": {},
     "output_type": "execute_result"
    },
    {
     "data": {
      "image/png": "[encoded data removed]",
      "text/plain": [
       "<Figure size 1600x1600 with 2 Axes>"
      ]
     },
     "metadata": {},
     "output_type": "display_data"
    }
   ],
   "source": [
    "# Check correlation of numeric columns\n",
    "plt.figure(figsize = (16,16))\n",
    "\n",
    "corr = train_df.corr()\n",
    "\n",
    "mask = np.zeros_like(corr)\n",
    "mask[np.triu_indices_from(mask)] = True\n",
    "\n",
    "with sns.axes_style(\"white\"):\n",
    "    sns.heatmap(corr, mask = mask, square = True, annot = True, vmin = -1, vmax = 1, linewidths = .5 , cmap=\"YlGnBu\")\n",
    "plt.title('Correlation')"
   ]
  },
  {
   "cell_type": "markdown",
   "metadata": {},
   "source": [
    "Refer to heatmap : Price has strong correlation with bedrooms, baths , floor area , nearby stations , nearby shops and nearby supermarkets"
   ]
  },
  {
   "cell_type": "code",
   "execution_count": 21,
   "metadata": {},
   "outputs": [
    {
     "name": "stderr",
     "output_type": "stream",
     "text": [
      "C:\\Users\\Pattr11\\AppData\\Local\\Temp\\ipykernel_8236\\3717155690.py:11: MatplotlibDeprecationWarning: Auto-removal of overlapping axes is deprecated since 3.6 and will be removed two minor releases later; explicitly call ax.remove() as needed.\n",
      "  plt.subplot(7, 3, index)\n"
     ]
    },
    {
     "data": {
      "image/png": "[encoded data removed]",
      "text/plain": [
       "<Figure size 1800x3600 with 2 Axes>"
      ]
     },
     "metadata": {},
     "output_type": "display_data"
    }
   ],
   "source": [
    "# analyze the different categorical features\n",
    "obj = (train_df[['province','property_type']])\n",
    "\n",
    "plt.figure(figsize=(18, 36))\n",
    "plt.title('Categorical Features: Distribution')\n",
    "plt.xticks(rotation=90)\n",
    "index = 1\n",
    " \n",
    "for col in obj:\n",
    "    y = train_df[col].value_counts()\n",
    "    plt.subplot(7, 3, index)\n",
    "    plt.xticks(rotation=90)\n",
    "    sns.barplot(x=list(y.index), y=y)\n",
    "    index += 1"
   ]
  },
  {
   "cell_type": "markdown",
   "metadata": {},
   "source": [
    "Bargraph : Most of data province is in Bangkok and data property type is condo type"
   ]
  },
  {
   "cell_type": "code",
   "execution_count": 22,
   "metadata": {},
   "outputs": [
    {
     "data": {
      "image/png": "[encoded data removed]",
      "text/plain": [
       "<Figure size 3000x1500 with 1 Axes>"
      ]
     },
     "metadata": {},
     "output_type": "display_data"
    }
   ],
   "source": [
    "# visualizing the distribution of district and price\n",
    "\n",
    "def boxplot(df):\n",
    "        plt.figure(figsize=(30, 15))\n",
    "        sns.boxplot(data=train_df, x='district', y=\"price\" )\n",
    "        plt.xticks(rotation=90)  # Set the x-axis text to be vertical\n",
    "        plt.title(\"District vs price\")\n",
    "        plt.show()\n",
    "    \n",
    "boxplot(train_df)"
   ]
  },
  {
   "cell_type": "markdown",
   "metadata": {},
   "source": [
    "Boxplot : Data columns district has lot of outlier and different district has some effect with price"
   ]
  },
  {
   "cell_type": "markdown",
   "metadata": {},
   "source": [
    "# Modelling"
   ]
  },
  {
   "cell_type": "markdown",
   "metadata": {},
   "source": [
    "## Model 1"
   ]
  },
  {
   "cell_type": "code",
   "execution_count": 23,
   "metadata": {},
   "outputs": [],
   "source": [
    "#parameter refer to heatmap\n",
    "X = train_df[['bedrooms' , 'baths' , 'floor_area' , \n",
    "              'nearby_stations' , 'nearby_shops', 'nearby_supermarkets']]\n",
    "y = train_df['price']"
   ]
  },
  {
   "cell_type": "code",
   "execution_count": 24,
   "metadata": {},
   "outputs": [],
   "source": [
    "lr = LinearRegression()"
   ]
  },
  {
   "cell_type": "code",
   "execution_count": 25,
   "metadata": {},
   "outputs": [
    {
     "data": {
      "text/html": [
       "<style>#sk-container-id-1 {color: black;}#sk-container-id-1 pre{padding: 0;}#sk-container-id-1 div.sk-toggleable {background-color: white;}#sk-container-id-1 label.sk-toggleable__label {cursor: pointer;display: block;width: 100%;margin-bottom: 0;padding: 0.3em;box-sizing: border-box;text-align: center;}#sk-container-id-1 label.sk-toggleable__label-arrow:before {content: \"▸\";float: left;margin-right: 0.25em;color: #696969;}#sk-container-id-1 label.sk-toggleable__label-arrow:hover:before {color: black;}#sk-container-id-1 div.sk-estimator:hover label.sk-toggleable__label-arrow:before {color: black;}#sk-container-id-1 div.sk-toggleable__content {max-height: 0;max-width: 0;overflow: hidden;text-align: left;background-color: #f0f8ff;}#sk-container-id-1 div.sk-toggleable__content pre {margin: 0.2em;color: black;border-radius: 0.25em;background-color: #f0f8ff;}#sk-container-id-1 input.sk-toggleable__control:checked~div.sk-toggleable__content {max-height: 200px;max-width: 100%;overflow: auto;}#sk-container-id-1 input.sk-toggleable__control:checked~label.sk-toggleable__label-arrow:before {content: \"▾\";}#sk-container-id-1 div.sk-estimator input.sk-toggleable__control:checked~label.sk-toggleable__label {background-color: #d4ebff;}#sk-container-id-1 div.sk-label input.sk-toggleable__control:checked~label.sk-toggleable__label {background-color: #d4ebff;}#sk-container-id-1 input.sk-hidden--visually {border: 0;clip: rect(1px 1px 1px 1px);clip: rect(1px, 1px, 1px, 1px);height: 1px;margin: -1px;overflow: hidden;padding: 0;position: absolute;width: 1px;}#sk-container-id-1 div.sk-estimator {font-family: monospace;background-color: #f0f8ff;border: 1px dotted black;border-radius: 0.25em;box-sizing: border-box;margin-bottom: 0.5em;}#sk-container-id-1 div.sk-estimator:hover {background-color: #d4ebff;}#sk-container-id-1 div.sk-parallel-item::after {content: \"\";width: 100%;border-bottom: 1px solid gray;flex-grow: 1;}#sk-container-id-1 div.sk-label:hover label.sk-toggleable__label {background-color: #d4ebff;}#sk-container-id-1 div.sk-serial::before {content: \"\";position: absolute;border-left: 1px solid gray;box-sizing: border-box;top: 0;bottom: 0;left: 50%;z-index: 0;}#sk-container-id-1 div.sk-serial {display: flex;flex-direction: column;align-items: center;background-color: white;padding-right: 0.2em;padding-left: 0.2em;position: relative;}#sk-container-id-1 div.sk-item {position: relative;z-index: 1;}#sk-container-id-1 div.sk-parallel {display: flex;align-items: stretch;justify-content: center;background-color: white;position: relative;}#sk-container-id-1 div.sk-item::before, #sk-container-id-1 div.sk-parallel-item::before {content: \"\";position: absolute;border-left: 1px solid gray;box-sizing: border-box;top: 0;bottom: 0;left: 50%;z-index: -1;}#sk-container-id-1 div.sk-parallel-item {display: flex;flex-direction: column;z-index: 1;position: relative;background-color: white;}#sk-container-id-1 div.sk-parallel-item:first-child::after {align-self: flex-end;width: 50%;}#sk-container-id-1 div.sk-parallel-item:last-child::after {align-self: flex-start;width: 50%;}#sk-container-id-1 div.sk-parallel-item:only-child::after {width: 0;}#sk-container-id-1 div.sk-dashed-wrapped {border: 1px dashed gray;margin: 0 0.4em 0.5em 0.4em;box-sizing: border-box;padding-bottom: 0.4em;background-color: white;}#sk-container-id-1 div.sk-label label {font-family: monospace;font-weight: bold;display: inline-block;line-height: 1.2em;}#sk-container-id-1 div.sk-label-container {text-align: center;}#sk-container-id-1 div.sk-container {/* jupyter's `normalize.less` sets `[hidden] { display: none; }` but bootstrap.min.css set `[hidden] { display: none !important; }` so we also need the `!important` here to be able to override the default hidden behavior on the sphinx rendered scikit-learn.org. See: https://github.com/scikit-learn/scikit-learn/issues/21755 */display: inline-block !important;position: relative;}#sk-container-id-1 div.sk-text-repr-fallback {display: none;}</style><div id=\"sk-container-id-1\" class=\"sk-top-container\"><div class=\"sk-text-repr-fallback\"><pre>LinearRegression()</pre><b>In a Jupyter environment, please rerun this cell to show the HTML representation or trust the notebook. <br />On GitHub, the HTML representation is unable to render, please try loading this page with nbviewer.org.</b></div><div class=\"sk-container\" hidden><div class=\"sk-item\"><div class=\"sk-estimator sk-toggleable\"><input class=\"sk-toggleable__control sk-hidden--visually\" id=\"sk-estimator-id-1\" type=\"checkbox\" checked><label for=\"sk-estimator-id-1\" class=\"sk-toggleable__label sk-toggleable__label-arrow\">LinearRegression</label><div class=\"sk-toggleable__content\"><pre>LinearRegression()</pre></div></div></div></div></div>"
      ],
      "text/plain": [
       "LinearRegression()"
      ]
     },
     "execution_count": 25,
     "metadata": {},
     "output_type": "execute_result"
    }
   ],
   "source": [
    "#Machine learning\n",
    "lr.fit(X,y)"
   ]
  },
  {
   "cell_type": "code",
   "execution_count": 26,
   "metadata": {},
   "outputs": [
    {
     "data": {
      "text/plain": [
       "1675002.699480999"
      ]
     },
     "execution_count": 26,
     "metadata": {},
     "output_type": "execute_result"
    }
   ],
   "source": [
    "#Linear RMSE\n",
    "np.sqrt(metrics.mean_squared_error(y,lr.predict(X)))"
   ]
  },
  {
   "cell_type": "code",
   "execution_count": 27,
   "metadata": {},
   "outputs": [
    {
     "data": {
      "text/plain": [
       "0.4095640752071057"
      ]
     },
     "execution_count": 27,
     "metadata": {},
     "output_type": "execute_result"
    }
   ],
   "source": [
    "#Linear R-square \n",
    "lr.score(X,y)"
   ]
  },
  {
   "cell_type": "code",
   "execution_count": 28,
   "metadata": {},
   "outputs": [],
   "source": [
    "# Chang model to Ridge\n",
    "from sklearn.linear_model import Ridge , RidgeCV"
   ]
  },
  {
   "cell_type": "code",
   "execution_count": 29,
   "metadata": {},
   "outputs": [
    {
     "data": {
      "text/html": [
       "<style>#sk-container-id-2 {color: black;}#sk-container-id-2 pre{padding: 0;}#sk-container-id-2 div.sk-toggleable {background-color: white;}#sk-container-id-2 label.sk-toggleable__label {cursor: pointer;display: block;width: 100%;margin-bottom: 0;padding: 0.3em;box-sizing: border-box;text-align: center;}#sk-container-id-2 label.sk-toggleable__label-arrow:before {content: \"▸\";float: left;margin-right: 0.25em;color: #696969;}#sk-container-id-2 label.sk-toggleable__label-arrow:hover:before {color: black;}#sk-container-id-2 div.sk-estimator:hover label.sk-toggleable__label-arrow:before {color: black;}#sk-container-id-2 div.sk-toggleable__content {max-height: 0;max-width: 0;overflow: hidden;text-align: left;background-color: #f0f8ff;}#sk-container-id-2 div.sk-toggleable__content pre {margin: 0.2em;color: black;border-radius: 0.25em;background-color: #f0f8ff;}#sk-container-id-2 input.sk-toggleable__control:checked~div.sk-toggleable__content {max-height: 200px;max-width: 100%;overflow: auto;}#sk-container-id-2 input.sk-toggleable__control:checked~label.sk-toggleable__label-arrow:before {content: \"▾\";}#sk-container-id-2 div.sk-estimator input.sk-toggleable__control:checked~label.sk-toggleable__label {background-color: #d4ebff;}#sk-container-id-2 div.sk-label input.sk-toggleable__control:checked~label.sk-toggleable__label {background-color: #d4ebff;}#sk-container-id-2 input.sk-hidden--visually {border: 0;clip: rect(1px 1px 1px 1px);clip: rect(1px, 1px, 1px, 1px);height: 1px;margin: -1px;overflow: hidden;padding: 0;position: absolute;width: 1px;}#sk-container-id-2 div.sk-estimator {font-family: monospace;background-color: #f0f8ff;border: 1px dotted black;border-radius: 0.25em;box-sizing: border-box;margin-bottom: 0.5em;}#sk-container-id-2 div.sk-estimator:hover {background-color: #d4ebff;}#sk-container-id-2 div.sk-parallel-item::after {content: \"\";width: 100%;border-bottom: 1px solid gray;flex-grow: 1;}#sk-container-id-2 div.sk-label:hover label.sk-toggleable__label {background-color: #d4ebff;}#sk-container-id-2 div.sk-serial::before {content: \"\";position: absolute;border-left: 1px solid gray;box-sizing: border-box;top: 0;bottom: 0;left: 50%;z-index: 0;}#sk-container-id-2 div.sk-serial {display: flex;flex-direction: column;align-items: center;background-color: white;padding-right: 0.2em;padding-left: 0.2em;position: relative;}#sk-container-id-2 div.sk-item {position: relative;z-index: 1;}#sk-container-id-2 div.sk-parallel {display: flex;align-items: stretch;justify-content: center;background-color: white;position: relative;}#sk-container-id-2 div.sk-item::before, #sk-container-id-2 div.sk-parallel-item::before {content: \"\";position: absolute;border-left: 1px solid gray;box-sizing: border-box;top: 0;bottom: 0;left: 50%;z-index: -1;}#sk-container-id-2 div.sk-parallel-item {display: flex;flex-direction: column;z-index: 1;position: relative;background-color: white;}#sk-container-id-2 div.sk-parallel-item:first-child::after {align-self: flex-end;width: 50%;}#sk-container-id-2 div.sk-parallel-item:last-child::after {align-self: flex-start;width: 50%;}#sk-container-id-2 div.sk-parallel-item:only-child::after {width: 0;}#sk-container-id-2 div.sk-dashed-wrapped {border: 1px dashed gray;margin: 0 0.4em 0.5em 0.4em;box-sizing: border-box;padding-bottom: 0.4em;background-color: white;}#sk-container-id-2 div.sk-label label {font-family: monospace;font-weight: bold;display: inline-block;line-height: 1.2em;}#sk-container-id-2 div.sk-label-container {text-align: center;}#sk-container-id-2 div.sk-container {/* jupyter's `normalize.less` sets `[hidden] { display: none; }` but bootstrap.min.css set `[hidden] { display: none !important; }` so we also need the `!important` here to be able to override the default hidden behavior on the sphinx rendered scikit-learn.org. See: https://github.com/scikit-learn/scikit-learn/issues/21755 */display: inline-block !important;position: relative;}#sk-container-id-2 div.sk-text-repr-fallback {display: none;}</style><div id=\"sk-container-id-2\" class=\"sk-top-container\"><div class=\"sk-text-repr-fallback\"><pre>RidgeCV(alphas=array([1.00000000e+00, 3.59381366e+00, 1.29154967e+01, 4.64158883e+01,\n",
       "       1.66810054e+02, 5.99484250e+02, 2.15443469e+03, 7.74263683e+03,\n",
       "       2.78255940e+04, 1.00000000e+05]),\n",
       "        cv=5, scoring=&#x27;r2&#x27;)</pre><b>In a Jupyter environment, please rerun this cell to show the HTML representation or trust the notebook. <br />On GitHub, the HTML representation is unable to render, please try loading this page with nbviewer.org.</b></div><div class=\"sk-container\" hidden><div class=\"sk-item\"><div class=\"sk-estimator sk-toggleable\"><input class=\"sk-toggleable__control sk-hidden--visually\" id=\"sk-estimator-id-2\" type=\"checkbox\" checked><label for=\"sk-estimator-id-2\" class=\"sk-toggleable__label sk-toggleable__label-arrow\">RidgeCV</label><div class=\"sk-toggleable__content\"><pre>RidgeCV(alphas=array([1.00000000e+00, 3.59381366e+00, 1.29154967e+01, 4.64158883e+01,\n",
       "       1.66810054e+02, 5.99484250e+02, 2.15443469e+03, 7.74263683e+03,\n",
       "       2.78255940e+04, 1.00000000e+05]),\n",
       "        cv=5, scoring=&#x27;r2&#x27;)</pre></div></div></div></div></div>"
      ],
      "text/plain": [
       "RidgeCV(alphas=array([1.00000000e+00, 3.59381366e+00, 1.29154967e+01, 4.64158883e+01,\n",
       "       1.66810054e+02, 5.99484250e+02, 2.15443469e+03, 7.74263683e+03,\n",
       "       2.78255940e+04, 1.00000000e+05]),\n",
       "        cv=5, scoring='r2')"
      ]
     },
     "execution_count": 29,
     "metadata": {},
     "output_type": "execute_result"
    }
   ],
   "source": [
    "# Set up a list of ridge alphas to check.\n",
    "# np.logspace generates 100 values equally between 0 and 5,\n",
    "# then converts them to alphas between 10^0 and 10^5.\n",
    "r_alphas = np.logspace(0,5,10)\n",
    "\n",
    "# Cross-validate over our list of ridge alphas.\n",
    "ridge_cv = RidgeCV(alphas=r_alphas, scoring = 'r2' , cv=5)\n",
    "ridge_cv.fit(X , y)\n",
    "# Fit model using best ridge alpha!"
   ]
  },
  {
   "cell_type": "code",
   "execution_count": 30,
   "metadata": {},
   "outputs": [
    {
     "data": {
      "text/plain": [
       "1675003.6897240132"
      ]
     },
     "execution_count": 30,
     "metadata": {},
     "output_type": "execute_result"
    }
   ],
   "source": [
    "#RidgeCV MSE\n",
    "np.sqrt(metrics.mean_squared_error(y , ridge_cv.predict(X)))"
   ]
  },
  {
   "cell_type": "code",
   "execution_count": 31,
   "metadata": {},
   "outputs": [
    {
     "data": {
      "text/plain": [
       "0.40956337708856205"
      ]
     },
     "execution_count": 31,
     "metadata": {},
     "output_type": "execute_result"
    }
   ],
   "source": [
    "#RidgeCV score\n",
    "ridge_cv.score(X , y)"
   ]
  },
  {
   "cell_type": "code",
   "execution_count": 32,
   "metadata": {},
   "outputs": [],
   "source": [
    "# Chang model to Lasso\n",
    "from sklearn.linear_model import Lasso, LassoCV"
   ]
  },
  {
   "cell_type": "code",
   "execution_count": 33,
   "metadata": {},
   "outputs": [
    {
     "data": {
      "text/html": [
       "<style>#sk-container-id-3 {color: black;}#sk-container-id-3 pre{padding: 0;}#sk-container-id-3 div.sk-toggleable {background-color: white;}#sk-container-id-3 label.sk-toggleable__label {cursor: pointer;display: block;width: 100%;margin-bottom: 0;padding: 0.3em;box-sizing: border-box;text-align: center;}#sk-container-id-3 label.sk-toggleable__label-arrow:before {content: \"▸\";float: left;margin-right: 0.25em;color: #696969;}#sk-container-id-3 label.sk-toggleable__label-arrow:hover:before {color: black;}#sk-container-id-3 div.sk-estimator:hover label.sk-toggleable__label-arrow:before {color: black;}#sk-container-id-3 div.sk-toggleable__content {max-height: 0;max-width: 0;overflow: hidden;text-align: left;background-color: #f0f8ff;}#sk-container-id-3 div.sk-toggleable__content pre {margin: 0.2em;color: black;border-radius: 0.25em;background-color: #f0f8ff;}#sk-container-id-3 input.sk-toggleable__control:checked~div.sk-toggleable__content {max-height: 200px;max-width: 100%;overflow: auto;}#sk-container-id-3 input.sk-toggleable__control:checked~label.sk-toggleable__label-arrow:before {content: \"▾\";}#sk-container-id-3 div.sk-estimator input.sk-toggleable__control:checked~label.sk-toggleable__label {background-color: #d4ebff;}#sk-container-id-3 div.sk-label input.sk-toggleable__control:checked~label.sk-toggleable__label {background-color: #d4ebff;}#sk-container-id-3 input.sk-hidden--visually {border: 0;clip: rect(1px 1px 1px 1px);clip: rect(1px, 1px, 1px, 1px);height: 1px;margin: -1px;overflow: hidden;padding: 0;position: absolute;width: 1px;}#sk-container-id-3 div.sk-estimator {font-family: monospace;background-color: #f0f8ff;border: 1px dotted black;border-radius: 0.25em;box-sizing: border-box;margin-bottom: 0.5em;}#sk-container-id-3 div.sk-estimator:hover {background-color: #d4ebff;}#sk-container-id-3 div.sk-parallel-item::after {content: \"\";width: 100%;border-bottom: 1px solid gray;flex-grow: 1;}#sk-container-id-3 div.sk-label:hover label.sk-toggleable__label {background-color: #d4ebff;}#sk-container-id-3 div.sk-serial::before {content: \"\";position: absolute;border-left: 1px solid gray;box-sizing: border-box;top: 0;bottom: 0;left: 50%;z-index: 0;}#sk-container-id-3 div.sk-serial {display: flex;flex-direction: column;align-items: center;background-color: white;padding-right: 0.2em;padding-left: 0.2em;position: relative;}#sk-container-id-3 div.sk-item {position: relative;z-index: 1;}#sk-container-id-3 div.sk-parallel {display: flex;align-items: stretch;justify-content: center;background-color: white;position: relative;}#sk-container-id-3 div.sk-item::before, #sk-container-id-3 div.sk-parallel-item::before {content: \"\";position: absolute;border-left: 1px solid gray;box-sizing: border-box;top: 0;bottom: 0;left: 50%;z-index: -1;}#sk-container-id-3 div.sk-parallel-item {display: flex;flex-direction: column;z-index: 1;position: relative;background-color: white;}#sk-container-id-3 div.sk-parallel-item:first-child::after {align-self: flex-end;width: 50%;}#sk-container-id-3 div.sk-parallel-item:last-child::after {align-self: flex-start;width: 50%;}#sk-container-id-3 div.sk-parallel-item:only-child::after {width: 0;}#sk-container-id-3 div.sk-dashed-wrapped {border: 1px dashed gray;margin: 0 0.4em 0.5em 0.4em;box-sizing: border-box;padding-bottom: 0.4em;background-color: white;}#sk-container-id-3 div.sk-label label {font-family: monospace;font-weight: bold;display: inline-block;line-height: 1.2em;}#sk-container-id-3 div.sk-label-container {text-align: center;}#sk-container-id-3 div.sk-container {/* jupyter's `normalize.less` sets `[hidden] { display: none; }` but bootstrap.min.css set `[hidden] { display: none !important; }` so we also need the `!important` here to be able to override the default hidden behavior on the sphinx rendered scikit-learn.org. See: https://github.com/scikit-learn/scikit-learn/issues/21755 */display: inline-block !important;position: relative;}#sk-container-id-3 div.sk-text-repr-fallback {display: none;}</style><div id=\"sk-container-id-3\" class=\"sk-top-container\"><div class=\"sk-text-repr-fallback\"><pre>LassoCV(cv=5, max_iter=50000)</pre><b>In a Jupyter environment, please rerun this cell to show the HTML representation or trust the notebook. <br />On GitHub, the HTML representation is unable to render, please try loading this page with nbviewer.org.</b></div><div class=\"sk-container\" hidden><div class=\"sk-item\"><div class=\"sk-estimator sk-toggleable\"><input class=\"sk-toggleable__control sk-hidden--visually\" id=\"sk-estimator-id-3\" type=\"checkbox\" checked><label for=\"sk-estimator-id-3\" class=\"sk-toggleable__label sk-toggleable__label-arrow\">LassoCV</label><div class=\"sk-toggleable__content\"><pre>LassoCV(cv=5, max_iter=50000)</pre></div></div></div></div></div>"
      ],
      "text/plain": [
       "LassoCV(cv=5, max_iter=50000)"
      ]
     },
     "execution_count": 33,
     "metadata": {},
     "output_type": "execute_result"
    }
   ],
   "source": [
    "# Cross-validate over our list of Lasso alphas.\n",
    "lasso_cv = LassoCV(n_alphas = 100, cv=5 , max_iter=50000)\n",
    "# Fit model using best ridge alpha!\n",
    "lasso_cv.fit(X , y)"
   ]
  },
  {
   "cell_type": "code",
   "execution_count": 34,
   "metadata": {},
   "outputs": [
    {
     "data": {
      "text/plain": [
       "1679468.4681415262"
      ]
     },
     "execution_count": 34,
     "metadata": {},
     "output_type": "execute_result"
    }
   ],
   "source": [
    "np.sqrt(metrics.mean_squared_error(y , lasso_cv.predict(X)))"
   ]
  },
  {
   "cell_type": "code",
   "execution_count": 35,
   "metadata": {},
   "outputs": [
    {
     "data": {
      "text/plain": [
       "0.40641152482097187"
      ]
     },
     "execution_count": 35,
     "metadata": {},
     "output_type": "execute_result"
    }
   ],
   "source": [
    "lasso_cv.score(X , y)"
   ]
  },
  {
   "cell_type": "markdown",
   "metadata": {},
   "source": [
    "## Model 2"
   ]
  },
  {
   "cell_type": "code",
   "execution_count": 36,
   "metadata": {},
   "outputs": [],
   "source": [
    "#converted columns to 1/0\n",
    "train = pd.get_dummies(data = train_df, columns=['property_type' ,'province'])"
   ]
  },
  {
   "cell_type": "code",
   "execution_count": 37,
   "metadata": {},
   "outputs": [],
   "source": [
    "#parameter refer to model 1 + property type + province\n",
    "X2 = train[['bedrooms' , 'baths' , 'floor_area' , \n",
    "              'nearby_stations' , 'nearby_shops', 'nearby_supermarkets' ,\n",
    "            'property_type_Detached House' , 'property_type_Townhouse' , 'property_type_Condo',\n",
    "            'province_Bangkok', 'province_Nonthaburi', 'province_Samut Prakan']]\n",
    "y2 = train['price']"
   ]
  },
  {
   "cell_type": "code",
   "execution_count": 38,
   "metadata": {},
   "outputs": [
    {
     "data": {
      "text/html": [
       "<style>#sk-container-id-4 {color: black;}#sk-container-id-4 pre{padding: 0;}#sk-container-id-4 div.sk-toggleable {background-color: white;}#sk-container-id-4 label.sk-toggleable__label {cursor: pointer;display: block;width: 100%;margin-bottom: 0;padding: 0.3em;box-sizing: border-box;text-align: center;}#sk-container-id-4 label.sk-toggleable__label-arrow:before {content: \"▸\";float: left;margin-right: 0.25em;color: #696969;}#sk-container-id-4 label.sk-toggleable__label-arrow:hover:before {color: black;}#sk-container-id-4 div.sk-estimator:hover label.sk-toggleable__label-arrow:before {color: black;}#sk-container-id-4 div.sk-toggleable__content {max-height: 0;max-width: 0;overflow: hidden;text-align: left;background-color: #f0f8ff;}#sk-container-id-4 div.sk-toggleable__content pre {margin: 0.2em;color: black;border-radius: 0.25em;background-color: #f0f8ff;}#sk-container-id-4 input.sk-toggleable__control:checked~div.sk-toggleable__content {max-height: 200px;max-width: 100%;overflow: auto;}#sk-container-id-4 input.sk-toggleable__control:checked~label.sk-toggleable__label-arrow:before {content: \"▾\";}#sk-container-id-4 div.sk-estimator input.sk-toggleable__control:checked~label.sk-toggleable__label {background-color: #d4ebff;}#sk-container-id-4 div.sk-label input.sk-toggleable__control:checked~label.sk-toggleable__label {background-color: #d4ebff;}#sk-container-id-4 input.sk-hidden--visually {border: 0;clip: rect(1px 1px 1px 1px);clip: rect(1px, 1px, 1px, 1px);height: 1px;margin: -1px;overflow: hidden;padding: 0;position: absolute;width: 1px;}#sk-container-id-4 div.sk-estimator {font-family: monospace;background-color: #f0f8ff;border: 1px dotted black;border-radius: 0.25em;box-sizing: border-box;margin-bottom: 0.5em;}#sk-container-id-4 div.sk-estimator:hover {background-color: #d4ebff;}#sk-container-id-4 div.sk-parallel-item::after {content: \"\";width: 100%;border-bottom: 1px solid gray;flex-grow: 1;}#sk-container-id-4 div.sk-label:hover label.sk-toggleable__label {background-color: #d4ebff;}#sk-container-id-4 div.sk-serial::before {content: \"\";position: absolute;border-left: 1px solid gray;box-sizing: border-box;top: 0;bottom: 0;left: 50%;z-index: 0;}#sk-container-id-4 div.sk-serial {display: flex;flex-direction: column;align-items: center;background-color: white;padding-right: 0.2em;padding-left: 0.2em;position: relative;}#sk-container-id-4 div.sk-item {position: relative;z-index: 1;}#sk-container-id-4 div.sk-parallel {display: flex;align-items: stretch;justify-content: center;background-color: white;position: relative;}#sk-container-id-4 div.sk-item::before, #sk-container-id-4 div.sk-parallel-item::before {content: \"\";position: absolute;border-left: 1px solid gray;box-sizing: border-box;top: 0;bottom: 0;left: 50%;z-index: -1;}#sk-container-id-4 div.sk-parallel-item {display: flex;flex-direction: column;z-index: 1;position: relative;background-color: white;}#sk-container-id-4 div.sk-parallel-item:first-child::after {align-self: flex-end;width: 50%;}#sk-container-id-4 div.sk-parallel-item:last-child::after {align-self: flex-start;width: 50%;}#sk-container-id-4 div.sk-parallel-item:only-child::after {width: 0;}#sk-container-id-4 div.sk-dashed-wrapped {border: 1px dashed gray;margin: 0 0.4em 0.5em 0.4em;box-sizing: border-box;padding-bottom: 0.4em;background-color: white;}#sk-container-id-4 div.sk-label label {font-family: monospace;font-weight: bold;display: inline-block;line-height: 1.2em;}#sk-container-id-4 div.sk-label-container {text-align: center;}#sk-container-id-4 div.sk-container {/* jupyter's `normalize.less` sets `[hidden] { display: none; }` but bootstrap.min.css set `[hidden] { display: none !important; }` so we also need the `!important` here to be able to override the default hidden behavior on the sphinx rendered scikit-learn.org. See: https://github.com/scikit-learn/scikit-learn/issues/21755 */display: inline-block !important;position: relative;}#sk-container-id-4 div.sk-text-repr-fallback {display: none;}</style><div id=\"sk-container-id-4\" class=\"sk-top-container\"><div class=\"sk-text-repr-fallback\"><pre>LinearRegression()</pre><b>In a Jupyter environment, please rerun this cell to show the HTML representation or trust the notebook. <br />On GitHub, the HTML representation is unable to render, please try loading this page with nbviewer.org.</b></div><div class=\"sk-container\" hidden><div class=\"sk-item\"><div class=\"sk-estimator sk-toggleable\"><input class=\"sk-toggleable__control sk-hidden--visually\" id=\"sk-estimator-id-4\" type=\"checkbox\" checked><label for=\"sk-estimator-id-4\" class=\"sk-toggleable__label sk-toggleable__label-arrow\">LinearRegression</label><div class=\"sk-toggleable__content\"><pre>LinearRegression()</pre></div></div></div></div></div>"
      ],
      "text/plain": [
       "LinearRegression()"
      ]
     },
     "execution_count": 38,
     "metadata": {},
     "output_type": "execute_result"
    }
   ],
   "source": [
    "lr.fit(X2,y2)"
   ]
  },
  {
   "cell_type": "code",
   "execution_count": 39,
   "metadata": {},
   "outputs": [
    {
     "data": {
      "text/plain": [
       "1550404.4004271682"
      ]
     },
     "execution_count": 39,
     "metadata": {},
     "output_type": "execute_result"
    }
   ],
   "source": [
    "np.sqrt(metrics.mean_squared_error(y2,lr.predict(X2)))"
   ]
  },
  {
   "cell_type": "code",
   "execution_count": 40,
   "metadata": {},
   "outputs": [
    {
     "data": {
      "text/plain": [
       "0.49413837340817457"
      ]
     },
     "execution_count": 40,
     "metadata": {},
     "output_type": "execute_result"
    }
   ],
   "source": [
    "lr.score(X2,y2)"
   ]
  },
  {
   "cell_type": "code",
   "execution_count": 41,
   "metadata": {},
   "outputs": [
    {
     "data": {
      "text/html": [
       "<style>#sk-container-id-5 {color: black;}#sk-container-id-5 pre{padding: 0;}#sk-container-id-5 div.sk-toggleable {background-color: white;}#sk-container-id-5 label.sk-toggleable__label {cursor: pointer;display: block;width: 100%;margin-bottom: 0;padding: 0.3em;box-sizing: border-box;text-align: center;}#sk-container-id-5 label.sk-toggleable__label-arrow:before {content: \"▸\";float: left;margin-right: 0.25em;color: #696969;}#sk-container-id-5 label.sk-toggleable__label-arrow:hover:before {color: black;}#sk-container-id-5 div.sk-estimator:hover label.sk-toggleable__label-arrow:before {color: black;}#sk-container-id-5 div.sk-toggleable__content {max-height: 0;max-width: 0;overflow: hidden;text-align: left;background-color: #f0f8ff;}#sk-container-id-5 div.sk-toggleable__content pre {margin: 0.2em;color: black;border-radius: 0.25em;background-color: #f0f8ff;}#sk-container-id-5 input.sk-toggleable__control:checked~div.sk-toggleable__content {max-height: 200px;max-width: 100%;overflow: auto;}#sk-container-id-5 input.sk-toggleable__control:checked~label.sk-toggleable__label-arrow:before {content: \"▾\";}#sk-container-id-5 div.sk-estimator input.sk-toggleable__control:checked~label.sk-toggleable__label {background-color: #d4ebff;}#sk-container-id-5 div.sk-label input.sk-toggleable__control:checked~label.sk-toggleable__label {background-color: #d4ebff;}#sk-container-id-5 input.sk-hidden--visually {border: 0;clip: rect(1px 1px 1px 1px);clip: rect(1px, 1px, 1px, 1px);height: 1px;margin: -1px;overflow: hidden;padding: 0;position: absolute;width: 1px;}#sk-container-id-5 div.sk-estimator {font-family: monospace;background-color: #f0f8ff;border: 1px dotted black;border-radius: 0.25em;box-sizing: border-box;margin-bottom: 0.5em;}#sk-container-id-5 div.sk-estimator:hover {background-color: #d4ebff;}#sk-container-id-5 div.sk-parallel-item::after {content: \"\";width: 100%;border-bottom: 1px solid gray;flex-grow: 1;}#sk-container-id-5 div.sk-label:hover label.sk-toggleable__label {background-color: #d4ebff;}#sk-container-id-5 div.sk-serial::before {content: \"\";position: absolute;border-left: 1px solid gray;box-sizing: border-box;top: 0;bottom: 0;left: 50%;z-index: 0;}#sk-container-id-5 div.sk-serial {display: flex;flex-direction: column;align-items: center;background-color: white;padding-right: 0.2em;padding-left: 0.2em;position: relative;}#sk-container-id-5 div.sk-item {position: relative;z-index: 1;}#sk-container-id-5 div.sk-parallel {display: flex;align-items: stretch;justify-content: center;background-color: white;position: relative;}#sk-container-id-5 div.sk-item::before, #sk-container-id-5 div.sk-parallel-item::before {content: \"\";position: absolute;border-left: 1px solid gray;box-sizing: border-box;top: 0;bottom: 0;left: 50%;z-index: -1;}#sk-container-id-5 div.sk-parallel-item {display: flex;flex-direction: column;z-index: 1;position: relative;background-color: white;}#sk-container-id-5 div.sk-parallel-item:first-child::after {align-self: flex-end;width: 50%;}#sk-container-id-5 div.sk-parallel-item:last-child::after {align-self: flex-start;width: 50%;}#sk-container-id-5 div.sk-parallel-item:only-child::after {width: 0;}#sk-container-id-5 div.sk-dashed-wrapped {border: 1px dashed gray;margin: 0 0.4em 0.5em 0.4em;box-sizing: border-box;padding-bottom: 0.4em;background-color: white;}#sk-container-id-5 div.sk-label label {font-family: monospace;font-weight: bold;display: inline-block;line-height: 1.2em;}#sk-container-id-5 div.sk-label-container {text-align: center;}#sk-container-id-5 div.sk-container {/* jupyter's `normalize.less` sets `[hidden] { display: none; }` but bootstrap.min.css set `[hidden] { display: none !important; }` so we also need the `!important` here to be able to override the default hidden behavior on the sphinx rendered scikit-learn.org. See: https://github.com/scikit-learn/scikit-learn/issues/21755 */display: inline-block !important;position: relative;}#sk-container-id-5 div.sk-text-repr-fallback {display: none;}</style><div id=\"sk-container-id-5\" class=\"sk-top-container\"><div class=\"sk-text-repr-fallback\"><pre>RidgeCV(alphas=array([1.00000000e+00, 3.59381366e+00, 1.29154967e+01, 4.64158883e+01,\n",
       "       1.66810054e+02, 5.99484250e+02, 2.15443469e+03, 7.74263683e+03,\n",
       "       2.78255940e+04, 1.00000000e+05]),\n",
       "        cv=5, scoring=&#x27;r2&#x27;)</pre><b>In a Jupyter environment, please rerun this cell to show the HTML representation or trust the notebook. <br />On GitHub, the HTML representation is unable to render, please try loading this page with nbviewer.org.</b></div><div class=\"sk-container\" hidden><div class=\"sk-item\"><div class=\"sk-estimator sk-toggleable\"><input class=\"sk-toggleable__control sk-hidden--visually\" id=\"sk-estimator-id-5\" type=\"checkbox\" checked><label for=\"sk-estimator-id-5\" class=\"sk-toggleable__label sk-toggleable__label-arrow\">RidgeCV</label><div class=\"sk-toggleable__content\"><pre>RidgeCV(alphas=array([1.00000000e+00, 3.59381366e+00, 1.29154967e+01, 4.64158883e+01,\n",
       "       1.66810054e+02, 5.99484250e+02, 2.15443469e+03, 7.74263683e+03,\n",
       "       2.78255940e+04, 1.00000000e+05]),\n",
       "        cv=5, scoring=&#x27;r2&#x27;)</pre></div></div></div></div></div>"
      ],
      "text/plain": [
       "RidgeCV(alphas=array([1.00000000e+00, 3.59381366e+00, 1.29154967e+01, 4.64158883e+01,\n",
       "       1.66810054e+02, 5.99484250e+02, 2.15443469e+03, 7.74263683e+03,\n",
       "       2.78255940e+04, 1.00000000e+05]),\n",
       "        cv=5, scoring='r2')"
      ]
     },
     "execution_count": 41,
     "metadata": {},
     "output_type": "execute_result"
    }
   ],
   "source": [
    "# Set up a list of ridge alphas to check.\n",
    "# np.logspace generates 100 values equally between 0 and 5,\n",
    "# then converts them to alphas between 10^0 and 10^5.\n",
    "r_alphas = np.logspace(0,5,10)\n",
    "\n",
    "# Cross-validate over our list of ridge alphas.\n",
    "ridge_cv = RidgeCV(alphas=r_alphas, scoring = 'r2' , cv=5)\n",
    "ridge_cv.fit(X2 , y2)\n",
    "# Fit model using best ridge alpha!"
   ]
  },
  {
   "cell_type": "code",
   "execution_count": 42,
   "metadata": {},
   "outputs": [
    {
     "data": {
      "text/plain": [
       "1550408.491618457"
      ]
     },
     "execution_count": 42,
     "metadata": {},
     "output_type": "execute_result"
    }
   ],
   "source": [
    "np.sqrt(metrics.mean_squared_error(y2 , ridge_cv.predict(X2)))"
   ]
  },
  {
   "cell_type": "code",
   "execution_count": 43,
   "metadata": {},
   "outputs": [
    {
     "data": {
      "text/plain": [
       "0.4941357036796701"
      ]
     },
     "execution_count": 43,
     "metadata": {},
     "output_type": "execute_result"
    }
   ],
   "source": [
    "ridge_cv.score(X2 , y2)"
   ]
  },
  {
   "cell_type": "code",
   "execution_count": 44,
   "metadata": {},
   "outputs": [
    {
     "data": {
      "text/html": [
       "<style>#sk-container-id-6 {color: black;}#sk-container-id-6 pre{padding: 0;}#sk-container-id-6 div.sk-toggleable {background-color: white;}#sk-container-id-6 label.sk-toggleable__label {cursor: pointer;display: block;width: 100%;margin-bottom: 0;padding: 0.3em;box-sizing: border-box;text-align: center;}#sk-container-id-6 label.sk-toggleable__label-arrow:before {content: \"▸\";float: left;margin-right: 0.25em;color: #696969;}#sk-container-id-6 label.sk-toggleable__label-arrow:hover:before {color: black;}#sk-container-id-6 div.sk-estimator:hover label.sk-toggleable__label-arrow:before {color: black;}#sk-container-id-6 div.sk-toggleable__content {max-height: 0;max-width: 0;overflow: hidden;text-align: left;background-color: #f0f8ff;}#sk-container-id-6 div.sk-toggleable__content pre {margin: 0.2em;color: black;border-radius: 0.25em;background-color: #f0f8ff;}#sk-container-id-6 input.sk-toggleable__control:checked~div.sk-toggleable__content {max-height: 200px;max-width: 100%;overflow: auto;}#sk-container-id-6 input.sk-toggleable__control:checked~label.sk-toggleable__label-arrow:before {content: \"▾\";}#sk-container-id-6 div.sk-estimator input.sk-toggleable__control:checked~label.sk-toggleable__label {background-color: #d4ebff;}#sk-container-id-6 div.sk-label input.sk-toggleable__control:checked~label.sk-toggleable__label {background-color: #d4ebff;}#sk-container-id-6 input.sk-hidden--visually {border: 0;clip: rect(1px 1px 1px 1px);clip: rect(1px, 1px, 1px, 1px);height: 1px;margin: -1px;overflow: hidden;padding: 0;position: absolute;width: 1px;}#sk-container-id-6 div.sk-estimator {font-family: monospace;background-color: #f0f8ff;border: 1px dotted black;border-radius: 0.25em;box-sizing: border-box;margin-bottom: 0.5em;}#sk-container-id-6 div.sk-estimator:hover {background-color: #d4ebff;}#sk-container-id-6 div.sk-parallel-item::after {content: \"\";width: 100%;border-bottom: 1px solid gray;flex-grow: 1;}#sk-container-id-6 div.sk-label:hover label.sk-toggleable__label {background-color: #d4ebff;}#sk-container-id-6 div.sk-serial::before {content: \"\";position: absolute;border-left: 1px solid gray;box-sizing: border-box;top: 0;bottom: 0;left: 50%;z-index: 0;}#sk-container-id-6 div.sk-serial {display: flex;flex-direction: column;align-items: center;background-color: white;padding-right: 0.2em;padding-left: 0.2em;position: relative;}#sk-container-id-6 div.sk-item {position: relative;z-index: 1;}#sk-container-id-6 div.sk-parallel {display: flex;align-items: stretch;justify-content: center;background-color: white;position: relative;}#sk-container-id-6 div.sk-item::before, #sk-container-id-6 div.sk-parallel-item::before {content: \"\";position: absolute;border-left: 1px solid gray;box-sizing: border-box;top: 0;bottom: 0;left: 50%;z-index: -1;}#sk-container-id-6 div.sk-parallel-item {display: flex;flex-direction: column;z-index: 1;position: relative;background-color: white;}#sk-container-id-6 div.sk-parallel-item:first-child::after {align-self: flex-end;width: 50%;}#sk-container-id-6 div.sk-parallel-item:last-child::after {align-self: flex-start;width: 50%;}#sk-container-id-6 div.sk-parallel-item:only-child::after {width: 0;}#sk-container-id-6 div.sk-dashed-wrapped {border: 1px dashed gray;margin: 0 0.4em 0.5em 0.4em;box-sizing: border-box;padding-bottom: 0.4em;background-color: white;}#sk-container-id-6 div.sk-label label {font-family: monospace;font-weight: bold;display: inline-block;line-height: 1.2em;}#sk-container-id-6 div.sk-label-container {text-align: center;}#sk-container-id-6 div.sk-container {/* jupyter's `normalize.less` sets `[hidden] { display: none; }` but bootstrap.min.css set `[hidden] { display: none !important; }` so we also need the `!important` here to be able to override the default hidden behavior on the sphinx rendered scikit-learn.org. See: https://github.com/scikit-learn/scikit-learn/issues/21755 */display: inline-block !important;position: relative;}#sk-container-id-6 div.sk-text-repr-fallback {display: none;}</style><div id=\"sk-container-id-6\" class=\"sk-top-container\"><div class=\"sk-text-repr-fallback\"><pre>LassoCV(cv=5, max_iter=50000)</pre><b>In a Jupyter environment, please rerun this cell to show the HTML representation or trust the notebook. <br />On GitHub, the HTML representation is unable to render, please try loading this page with nbviewer.org.</b></div><div class=\"sk-container\" hidden><div class=\"sk-item\"><div class=\"sk-estimator sk-toggleable\"><input class=\"sk-toggleable__control sk-hidden--visually\" id=\"sk-estimator-id-6\" type=\"checkbox\" checked><label for=\"sk-estimator-id-6\" class=\"sk-toggleable__label sk-toggleable__label-arrow\">LassoCV</label><div class=\"sk-toggleable__content\"><pre>LassoCV(cv=5, max_iter=50000)</pre></div></div></div></div></div>"
      ],
      "text/plain": [
       "LassoCV(cv=5, max_iter=50000)"
      ]
     },
     "execution_count": 44,
     "metadata": {},
     "output_type": "execute_result"
    }
   ],
   "source": [
    "# Cross-validate over our list of Lasso alphas.\n",
    "lasso_cv = LassoCV(n_alphas = 100, cv=5 , max_iter=50000)\n",
    "# Fit model using best ridge alpha!\n",
    "lasso_cv.fit(X2 , y2)"
   ]
  },
  {
   "cell_type": "code",
   "execution_count": 45,
   "metadata": {},
   "outputs": [
    {
     "data": {
      "text/plain": [
       "1570887.6139991644"
      ]
     },
     "execution_count": 45,
     "metadata": {},
     "output_type": "execute_result"
    }
   ],
   "source": [
    "np.sqrt(metrics.mean_squared_error(y2 , lasso_cv.predict(X2)))"
   ]
  },
  {
   "cell_type": "code",
   "execution_count": 46,
   "metadata": {},
   "outputs": [
    {
     "data": {
      "text/plain": [
       "0.48068366636694737"
      ]
     },
     "execution_count": 46,
     "metadata": {},
     "output_type": "execute_result"
    }
   ],
   "source": [
    "lasso_cv.score(X2 , y2)"
   ]
  },
  {
   "cell_type": "markdown",
   "metadata": {},
   "source": [
    "## Model3"
   ]
  },
  {
   "cell_type": "code",
   "execution_count": 47,
   "metadata": {},
   "outputs": [],
   "source": [
    "train = pd.get_dummies(data = train_df, columns=['property_type','district'])"
   ]
  },
  {
   "cell_type": "code",
   "execution_count": 48,
   "metadata": {},
   "outputs": [
    {
     "data": {
      "text/plain": [
       "Index(['id', 'province', 'subdistrict', 'address', 'total_units', 'bedrooms',\n",
       "       'baths', 'floor_area', 'floor_level', 'land_area', 'latitude',\n",
       "       'longitude', 'nearby_stations', 'nearby_station_distance',\n",
       "       'nearby_bus_stops', 'nearby_supermarkets', 'nearby_shops', 'year_built',\n",
       "       'month_built', 'facilities', 'price', 'property_type_Condo',\n",
       "       'property_type_Detached House', 'property_type_Townhouse',\n",
       "       'district_Bang Bo', 'district_Bang Bon', 'district_Bang Bua Thong',\n",
       "       'district_Bang Kapi', 'district_Bang Khae', 'district_Bang Khen',\n",
       "       'district_Bang Kho Laem', 'district_Bang Khun Thian',\n",
       "       'district_Bang Kruai', 'district_Bang Na', 'district_Bang Phlat',\n",
       "       'district_Bang Phli', 'district_Bang Rak', 'district_Bang Sao Thong',\n",
       "       'district_Bang Sue', 'district_Bang Yai', 'district_Bangkok Noi',\n",
       "       'district_Bangkok Yai', 'district_Bueng Kum', 'district_Chatuchak',\n",
       "       'district_Chom Thong', 'district_Din Daeng', 'district_Don Mueang',\n",
       "       'district_Huai Khwang', 'district_Khan Na Yao',\n",
       "       'district_Khlong Sam Wa', 'district_Khlong San', 'district_Khlong Toei',\n",
       "       'district_Lak Si', 'district_Lat Krabang', 'district_Lat Phrao',\n",
       "       'district_Min Buri', 'district_Mueang Nonthaburi',\n",
       "       'district_Mueang Samut Prakan', 'district_Nong Chok',\n",
       "       'district_Nong Khaem', 'district_Pak Kret', 'district_Pathum Wan',\n",
       "       'district_Phasi Charoen', 'district_Phaya Thai',\n",
       "       'district_Phra Khanong', 'district_Phra Pradaeng',\n",
       "       'district_Phra Samut Jadee', 'district_Prawet', 'district_Rat Burana',\n",
       "       'district_Ratchathewi', 'district_Sai Mai', 'district_Sai Noi',\n",
       "       'district_Saphan Sung', 'district_Sathon', 'district_Suan Luang',\n",
       "       'district_Taling Chan', 'district_Thawi Watthana', 'district_Thon Buri',\n",
       "       'district_Thung Khru', 'district_Wang Thonglang', 'district_Watthana',\n",
       "       'district_Yan Nawa'],\n",
       "      dtype='object')"
      ]
     },
     "execution_count": 48,
     "metadata": {},
     "output_type": "execute_result"
    }
   ],
   "source": [
    "train.columns"
   ]
  },
  {
   "cell_type": "code",
   "execution_count": 49,
   "metadata": {},
   "outputs": [],
   "source": [
    "# property type + district\n",
    "X3 = train[['bedrooms' , 'baths' , 'floor_area' , \n",
    "              'nearby_stations' , 'nearby_shops', 'nearby_supermarkets' ,\n",
    "              'property_type_Detached House' , 'property_type_Townhouse' , 'property_type_Condo' ,\n",
    "       'district_Bang Kapi', 'district_Bang Khae', 'district_Bang Khen',\n",
    "       'district_Bang Kho Laem', 'district_Bang Khun Thian',\n",
    "       'district_Bang Kruai', 'district_Bang Na', 'district_Bang Phlat',\n",
    "       'district_Bang Phli', 'district_Bang Rak', 'district_Bang Sao Thong',\n",
    "       'district_Bang Sue', 'district_Bang Yai', 'district_Bangkok Noi',\n",
    "       'district_Bangkok Yai', 'district_Bueng Kum', 'district_Chatuchak',\n",
    "       'district_Chom Thong', 'district_Din Daeng', 'district_Don Mueang',\n",
    "       'district_Huai Khwang', 'district_Khan Na Yao',\n",
    "       'district_Khlong Sam Wa', 'district_Khlong San', 'district_Khlong Toei',\n",
    "       'district_Lak Si', 'district_Lat Krabang', 'district_Lat Phrao',\n",
    "       'district_Min Buri', 'district_Mueang Nonthaburi',\n",
    "       'district_Mueang Samut Prakan', 'district_Nong Chok',\n",
    "       'district_Nong Khaem', 'district_Pak Kret', 'district_Pathum Wan',\n",
    "       'district_Phasi Charoen', 'district_Phaya Thai',\n",
    "       'district_Phra Khanong', 'district_Phra Pradaeng',\n",
    "       'district_Phra Samut Jadee', 'district_Prawet', 'district_Rat Burana',\n",
    "       'district_Ratchathewi', 'district_Sai Mai', 'district_Sai Noi',\n",
    "       'district_Saphan Sung', 'district_Sathon', 'district_Suan Luang',\n",
    "       'district_Taling Chan', 'district_Thawi Watthana', 'district_Thon Buri',\n",
    "       'district_Thung Khru', 'district_Wang Thonglang', 'district_Watthana',\n",
    "       'district_Yan Nawa' ]]\n",
    "y3 = train['price']"
   ]
  },
  {
   "cell_type": "code",
   "execution_count": 50,
   "metadata": {},
   "outputs": [
    {
     "data": {
      "text/html": [
       "<style>#sk-container-id-7 {color: black;}#sk-container-id-7 pre{padding: 0;}#sk-container-id-7 div.sk-toggleable {background-color: white;}#sk-container-id-7 label.sk-toggleable__label {cursor: pointer;display: block;width: 100%;margin-bottom: 0;padding: 0.3em;box-sizing: border-box;text-align: center;}#sk-container-id-7 label.sk-toggleable__label-arrow:before {content: \"▸\";float: left;margin-right: 0.25em;color: #696969;}#sk-container-id-7 label.sk-toggleable__label-arrow:hover:before {color: black;}#sk-container-id-7 div.sk-estimator:hover label.sk-toggleable__label-arrow:before {color: black;}#sk-container-id-7 div.sk-toggleable__content {max-height: 0;max-width: 0;overflow: hidden;text-align: left;background-color: #f0f8ff;}#sk-container-id-7 div.sk-toggleable__content pre {margin: 0.2em;color: black;border-radius: 0.25em;background-color: #f0f8ff;}#sk-container-id-7 input.sk-toggleable__control:checked~div.sk-toggleable__content {max-height: 200px;max-width: 100%;overflow: auto;}#sk-container-id-7 input.sk-toggleable__control:checked~label.sk-toggleable__label-arrow:before {content: \"▾\";}#sk-container-id-7 div.sk-estimator input.sk-toggleable__control:checked~label.sk-toggleable__label {background-color: #d4ebff;}#sk-container-id-7 div.sk-label input.sk-toggleable__control:checked~label.sk-toggleable__label {background-color: #d4ebff;}#sk-container-id-7 input.sk-hidden--visually {border: 0;clip: rect(1px 1px 1px 1px);clip: rect(1px, 1px, 1px, 1px);height: 1px;margin: -1px;overflow: hidden;padding: 0;position: absolute;width: 1px;}#sk-container-id-7 div.sk-estimator {font-family: monospace;background-color: #f0f8ff;border: 1px dotted black;border-radius: 0.25em;box-sizing: border-box;margin-bottom: 0.5em;}#sk-container-id-7 div.sk-estimator:hover {background-color: #d4ebff;}#sk-container-id-7 div.sk-parallel-item::after {content: \"\";width: 100%;border-bottom: 1px solid gray;flex-grow: 1;}#sk-container-id-7 div.sk-label:hover label.sk-toggleable__label {background-color: #d4ebff;}#sk-container-id-7 div.sk-serial::before {content: \"\";position: absolute;border-left: 1px solid gray;box-sizing: border-box;top: 0;bottom: 0;left: 50%;z-index: 0;}#sk-container-id-7 div.sk-serial {display: flex;flex-direction: column;align-items: center;background-color: white;padding-right: 0.2em;padding-left: 0.2em;position: relative;}#sk-container-id-7 div.sk-item {position: relative;z-index: 1;}#sk-container-id-7 div.sk-parallel {display: flex;align-items: stretch;justify-content: center;background-color: white;position: relative;}#sk-container-id-7 div.sk-item::before, #sk-container-id-7 div.sk-parallel-item::before {content: \"\";position: absolute;border-left: 1px solid gray;box-sizing: border-box;top: 0;bottom: 0;left: 50%;z-index: -1;}#sk-container-id-7 div.sk-parallel-item {display: flex;flex-direction: column;z-index: 1;position: relative;background-color: white;}#sk-container-id-7 div.sk-parallel-item:first-child::after {align-self: flex-end;width: 50%;}#sk-container-id-7 div.sk-parallel-item:last-child::after {align-self: flex-start;width: 50%;}#sk-container-id-7 div.sk-parallel-item:only-child::after {width: 0;}#sk-container-id-7 div.sk-dashed-wrapped {border: 1px dashed gray;margin: 0 0.4em 0.5em 0.4em;box-sizing: border-box;padding-bottom: 0.4em;background-color: white;}#sk-container-id-7 div.sk-label label {font-family: monospace;font-weight: bold;display: inline-block;line-height: 1.2em;}#sk-container-id-7 div.sk-label-container {text-align: center;}#sk-container-id-7 div.sk-container {/* jupyter's `normalize.less` sets `[hidden] { display: none; }` but bootstrap.min.css set `[hidden] { display: none !important; }` so we also need the `!important` here to be able to override the default hidden behavior on the sphinx rendered scikit-learn.org. See: https://github.com/scikit-learn/scikit-learn/issues/21755 */display: inline-block !important;position: relative;}#sk-container-id-7 div.sk-text-repr-fallback {display: none;}</style><div id=\"sk-container-id-7\" class=\"sk-top-container\"><div class=\"sk-text-repr-fallback\"><pre>LinearRegression()</pre><b>In a Jupyter environment, please rerun this cell to show the HTML representation or trust the notebook. <br />On GitHub, the HTML representation is unable to render, please try loading this page with nbviewer.org.</b></div><div class=\"sk-container\" hidden><div class=\"sk-item\"><div class=\"sk-estimator sk-toggleable\"><input class=\"sk-toggleable__control sk-hidden--visually\" id=\"sk-estimator-id-7\" type=\"checkbox\" checked><label for=\"sk-estimator-id-7\" class=\"sk-toggleable__label sk-toggleable__label-arrow\">LinearRegression</label><div class=\"sk-toggleable__content\"><pre>LinearRegression()</pre></div></div></div></div></div>"
      ],
      "text/plain": [
       "LinearRegression()"
      ]
     },
     "execution_count": 50,
     "metadata": {},
     "output_type": "execute_result"
    }
   ],
   "source": [
    "lr.fit(X3,y3)"
   ]
  },
  {
   "cell_type": "code",
   "execution_count": 51,
   "metadata": {},
   "outputs": [
    {
     "data": {
      "text/plain": [
       "1339545.6605812644"
      ]
     },
     "execution_count": 51,
     "metadata": {},
     "output_type": "execute_result"
    }
   ],
   "source": [
    "np.sqrt(metrics.mean_squared_error(y3,lr.predict(X3)))"
   ]
  },
  {
   "cell_type": "code",
   "execution_count": 52,
   "metadata": {},
   "outputs": [
    {
     "data": {
      "text/plain": [
       "0.6223784286134885"
      ]
     },
     "execution_count": 52,
     "metadata": {},
     "output_type": "execute_result"
    }
   ],
   "source": [
    "lr.score(X3,y3)"
   ]
  },
  {
   "cell_type": "code",
   "execution_count": 53,
   "metadata": {},
   "outputs": [
    {
     "data": {
      "text/html": [
       "<style>#sk-container-id-8 {color: black;}#sk-container-id-8 pre{padding: 0;}#sk-container-id-8 div.sk-toggleable {background-color: white;}#sk-container-id-8 label.sk-toggleable__label {cursor: pointer;display: block;width: 100%;margin-bottom: 0;padding: 0.3em;box-sizing: border-box;text-align: center;}#sk-container-id-8 label.sk-toggleable__label-arrow:before {content: \"▸\";float: left;margin-right: 0.25em;color: #696969;}#sk-container-id-8 label.sk-toggleable__label-arrow:hover:before {color: black;}#sk-container-id-8 div.sk-estimator:hover label.sk-toggleable__label-arrow:before {color: black;}#sk-container-id-8 div.sk-toggleable__content {max-height: 0;max-width: 0;overflow: hidden;text-align: left;background-color: #f0f8ff;}#sk-container-id-8 div.sk-toggleable__content pre {margin: 0.2em;color: black;border-radius: 0.25em;background-color: #f0f8ff;}#sk-container-id-8 input.sk-toggleable__control:checked~div.sk-toggleable__content {max-height: 200px;max-width: 100%;overflow: auto;}#sk-container-id-8 input.sk-toggleable__control:checked~label.sk-toggleable__label-arrow:before {content: \"▾\";}#sk-container-id-8 div.sk-estimator input.sk-toggleable__control:checked~label.sk-toggleable__label {background-color: #d4ebff;}#sk-container-id-8 div.sk-label input.sk-toggleable__control:checked~label.sk-toggleable__label {background-color: #d4ebff;}#sk-container-id-8 input.sk-hidden--visually {border: 0;clip: rect(1px 1px 1px 1px);clip: rect(1px, 1px, 1px, 1px);height: 1px;margin: -1px;overflow: hidden;padding: 0;position: absolute;width: 1px;}#sk-container-id-8 div.sk-estimator {font-family: monospace;background-color: #f0f8ff;border: 1px dotted black;border-radius: 0.25em;box-sizing: border-box;margin-bottom: 0.5em;}#sk-container-id-8 div.sk-estimator:hover {background-color: #d4ebff;}#sk-container-id-8 div.sk-parallel-item::after {content: \"\";width: 100%;border-bottom: 1px solid gray;flex-grow: 1;}#sk-container-id-8 div.sk-label:hover label.sk-toggleable__label {background-color: #d4ebff;}#sk-container-id-8 div.sk-serial::before {content: \"\";position: absolute;border-left: 1px solid gray;box-sizing: border-box;top: 0;bottom: 0;left: 50%;z-index: 0;}#sk-container-id-8 div.sk-serial {display: flex;flex-direction: column;align-items: center;background-color: white;padding-right: 0.2em;padding-left: 0.2em;position: relative;}#sk-container-id-8 div.sk-item {position: relative;z-index: 1;}#sk-container-id-8 div.sk-parallel {display: flex;align-items: stretch;justify-content: center;background-color: white;position: relative;}#sk-container-id-8 div.sk-item::before, #sk-container-id-8 div.sk-parallel-item::before {content: \"\";position: absolute;border-left: 1px solid gray;box-sizing: border-box;top: 0;bottom: 0;left: 50%;z-index: -1;}#sk-container-id-8 div.sk-parallel-item {display: flex;flex-direction: column;z-index: 1;position: relative;background-color: white;}#sk-container-id-8 div.sk-parallel-item:first-child::after {align-self: flex-end;width: 50%;}#sk-container-id-8 div.sk-parallel-item:last-child::after {align-self: flex-start;width: 50%;}#sk-container-id-8 div.sk-parallel-item:only-child::after {width: 0;}#sk-container-id-8 div.sk-dashed-wrapped {border: 1px dashed gray;margin: 0 0.4em 0.5em 0.4em;box-sizing: border-box;padding-bottom: 0.4em;background-color: white;}#sk-container-id-8 div.sk-label label {font-family: monospace;font-weight: bold;display: inline-block;line-height: 1.2em;}#sk-container-id-8 div.sk-label-container {text-align: center;}#sk-container-id-8 div.sk-container {/* jupyter's `normalize.less` sets `[hidden] { display: none; }` but bootstrap.min.css set `[hidden] { display: none !important; }` so we also need the `!important` here to be able to override the default hidden behavior on the sphinx rendered scikit-learn.org. See: https://github.com/scikit-learn/scikit-learn/issues/21755 */display: inline-block !important;position: relative;}#sk-container-id-8 div.sk-text-repr-fallback {display: none;}</style><div id=\"sk-container-id-8\" class=\"sk-top-container\"><div class=\"sk-text-repr-fallback\"><pre>RidgeCV(alphas=array([1.00000000e+00, 3.59381366e+00, 1.29154967e+01, 4.64158883e+01,\n",
       "       1.66810054e+02, 5.99484250e+02, 2.15443469e+03, 7.74263683e+03,\n",
       "       2.78255940e+04, 1.00000000e+05]),\n",
       "        cv=5, scoring=&#x27;r2&#x27;)</pre><b>In a Jupyter environment, please rerun this cell to show the HTML representation or trust the notebook. <br />On GitHub, the HTML representation is unable to render, please try loading this page with nbviewer.org.</b></div><div class=\"sk-container\" hidden><div class=\"sk-item\"><div class=\"sk-estimator sk-toggleable\"><input class=\"sk-toggleable__control sk-hidden--visually\" id=\"sk-estimator-id-8\" type=\"checkbox\" checked><label for=\"sk-estimator-id-8\" class=\"sk-toggleable__label sk-toggleable__label-arrow\">RidgeCV</label><div class=\"sk-toggleable__content\"><pre>RidgeCV(alphas=array([1.00000000e+00, 3.59381366e+00, 1.29154967e+01, 4.64158883e+01,\n",
       "       1.66810054e+02, 5.99484250e+02, 2.15443469e+03, 7.74263683e+03,\n",
       "       2.78255940e+04, 1.00000000e+05]),\n",
       "        cv=5, scoring=&#x27;r2&#x27;)</pre></div></div></div></div></div>"
      ],
      "text/plain": [
       "RidgeCV(alphas=array([1.00000000e+00, 3.59381366e+00, 1.29154967e+01, 4.64158883e+01,\n",
       "       1.66810054e+02, 5.99484250e+02, 2.15443469e+03, 7.74263683e+03,\n",
       "       2.78255940e+04, 1.00000000e+05]),\n",
       "        cv=5, scoring='r2')"
      ]
     },
     "execution_count": 53,
     "metadata": {},
     "output_type": "execute_result"
    }
   ],
   "source": [
    "# Set up a list of ridge alphas to check.\n",
    "# np.logspace generates 100 values equally between 0 and 5,\n",
    "# then converts them to alphas between 10^0 and 10^5.\n",
    "r_alphas = np.logspace(0,5,10)\n",
    "\n",
    "# Cross-validate over our list of ridge alphas.\n",
    "ridge_cv = RidgeCV(alphas=r_alphas, scoring = 'r2' , cv=5)\n",
    "ridge_cv.fit(X3 , y3)\n",
    "# Fit model using best ridge alpha!"
   ]
  },
  {
   "cell_type": "code",
   "execution_count": 54,
   "metadata": {},
   "outputs": [
    {
     "data": {
      "text/plain": [
       "1339883.934986077"
      ]
     },
     "execution_count": 54,
     "metadata": {},
     "output_type": "execute_result"
    }
   ],
   "source": [
    "np.sqrt(metrics.mean_squared_error(y3 , ridge_cv.predict(X3)))"
   ]
  },
  {
   "cell_type": "code",
   "execution_count": 55,
   "metadata": {},
   "outputs": [
    {
     "data": {
      "text/plain": [
       "0.6221876835794538"
      ]
     },
     "execution_count": 55,
     "metadata": {},
     "output_type": "execute_result"
    }
   ],
   "source": [
    "ridge_cv.score(X3 , y3)"
   ]
  },
  {
   "cell_type": "code",
   "execution_count": 56,
   "metadata": {},
   "outputs": [
    {
     "data": {
      "text/html": [
       "<style>#sk-container-id-9 {color: black;}#sk-container-id-9 pre{padding: 0;}#sk-container-id-9 div.sk-toggleable {background-color: white;}#sk-container-id-9 label.sk-toggleable__label {cursor: pointer;display: block;width: 100%;margin-bottom: 0;padding: 0.3em;box-sizing: border-box;text-align: center;}#sk-container-id-9 label.sk-toggleable__label-arrow:before {content: \"▸\";float: left;margin-right: 0.25em;color: #696969;}#sk-container-id-9 label.sk-toggleable__label-arrow:hover:before {color: black;}#sk-container-id-9 div.sk-estimator:hover label.sk-toggleable__label-arrow:before {color: black;}#sk-container-id-9 div.sk-toggleable__content {max-height: 0;max-width: 0;overflow: hidden;text-align: left;background-color: #f0f8ff;}#sk-container-id-9 div.sk-toggleable__content pre {margin: 0.2em;color: black;border-radius: 0.25em;background-color: #f0f8ff;}#sk-container-id-9 input.sk-toggleable__control:checked~div.sk-toggleable__content {max-height: 200px;max-width: 100%;overflow: auto;}#sk-container-id-9 input.sk-toggleable__control:checked~label.sk-toggleable__label-arrow:before {content: \"▾\";}#sk-container-id-9 div.sk-estimator input.sk-toggleable__control:checked~label.sk-toggleable__label {background-color: #d4ebff;}#sk-container-id-9 div.sk-label input.sk-toggleable__control:checked~label.sk-toggleable__label {background-color: #d4ebff;}#sk-container-id-9 input.sk-hidden--visually {border: 0;clip: rect(1px 1px 1px 1px);clip: rect(1px, 1px, 1px, 1px);height: 1px;margin: -1px;overflow: hidden;padding: 0;position: absolute;width: 1px;}#sk-container-id-9 div.sk-estimator {font-family: monospace;background-color: #f0f8ff;border: 1px dotted black;border-radius: 0.25em;box-sizing: border-box;margin-bottom: 0.5em;}#sk-container-id-9 div.sk-estimator:hover {background-color: #d4ebff;}#sk-container-id-9 div.sk-parallel-item::after {content: \"\";width: 100%;border-bottom: 1px solid gray;flex-grow: 1;}#sk-container-id-9 div.sk-label:hover label.sk-toggleable__label {background-color: #d4ebff;}#sk-container-id-9 div.sk-serial::before {content: \"\";position: absolute;border-left: 1px solid gray;box-sizing: border-box;top: 0;bottom: 0;left: 50%;z-index: 0;}#sk-container-id-9 div.sk-serial {display: flex;flex-direction: column;align-items: center;background-color: white;padding-right: 0.2em;padding-left: 0.2em;position: relative;}#sk-container-id-9 div.sk-item {position: relative;z-index: 1;}#sk-container-id-9 div.sk-parallel {display: flex;align-items: stretch;justify-content: center;background-color: white;position: relative;}#sk-container-id-9 div.sk-item::before, #sk-container-id-9 div.sk-parallel-item::before {content: \"\";position: absolute;border-left: 1px solid gray;box-sizing: border-box;top: 0;bottom: 0;left: 50%;z-index: -1;}#sk-container-id-9 div.sk-parallel-item {display: flex;flex-direction: column;z-index: 1;position: relative;background-color: white;}#sk-container-id-9 div.sk-parallel-item:first-child::after {align-self: flex-end;width: 50%;}#sk-container-id-9 div.sk-parallel-item:last-child::after {align-self: flex-start;width: 50%;}#sk-container-id-9 div.sk-parallel-item:only-child::after {width: 0;}#sk-container-id-9 div.sk-dashed-wrapped {border: 1px dashed gray;margin: 0 0.4em 0.5em 0.4em;box-sizing: border-box;padding-bottom: 0.4em;background-color: white;}#sk-container-id-9 div.sk-label label {font-family: monospace;font-weight: bold;display: inline-block;line-height: 1.2em;}#sk-container-id-9 div.sk-label-container {text-align: center;}#sk-container-id-9 div.sk-container {/* jupyter's `normalize.less` sets `[hidden] { display: none; }` but bootstrap.min.css set `[hidden] { display: none !important; }` so we also need the `!important` here to be able to override the default hidden behavior on the sphinx rendered scikit-learn.org. See: https://github.com/scikit-learn/scikit-learn/issues/21755 */display: inline-block !important;position: relative;}#sk-container-id-9 div.sk-text-repr-fallback {display: none;}</style><div id=\"sk-container-id-9\" class=\"sk-top-container\"><div class=\"sk-text-repr-fallback\"><pre>LassoCV(cv=5, max_iter=50000)</pre><b>In a Jupyter environment, please rerun this cell to show the HTML representation or trust the notebook. <br />On GitHub, the HTML representation is unable to render, please try loading this page with nbviewer.org.</b></div><div class=\"sk-container\" hidden><div class=\"sk-item\"><div class=\"sk-estimator sk-toggleable\"><input class=\"sk-toggleable__control sk-hidden--visually\" id=\"sk-estimator-id-9\" type=\"checkbox\" checked><label for=\"sk-estimator-id-9\" class=\"sk-toggleable__label sk-toggleable__label-arrow\">LassoCV</label><div class=\"sk-toggleable__content\"><pre>LassoCV(cv=5, max_iter=50000)</pre></div></div></div></div></div>"
      ],
      "text/plain": [
       "LassoCV(cv=5, max_iter=50000)"
      ]
     },
     "execution_count": 56,
     "metadata": {},
     "output_type": "execute_result"
    }
   ],
   "source": [
    "# Cross-validate over our list of Lasso alphas.\n",
    "lasso_cv = LassoCV(n_alphas = 100, cv=5 , max_iter=50000)\n",
    "# Fit model using best ridge alpha!\n",
    "lasso_cv.fit(X3 , y3)"
   ]
  },
  {
   "cell_type": "code",
   "execution_count": 57,
   "metadata": {},
   "outputs": [
    {
     "data": {
      "text/plain": [
       "1572834.7055216806"
      ]
     },
     "execution_count": 57,
     "metadata": {},
     "output_type": "execute_result"
    }
   ],
   "source": [
    "np.sqrt(metrics.mean_squared_error(y3 , lasso_cv.predict(X3)))"
   ]
  },
  {
   "cell_type": "code",
   "execution_count": 58,
   "metadata": {},
   "outputs": [
    {
     "data": {
      "text/plain": [
       "0.4793954989916587"
      ]
     },
     "execution_count": 58,
     "metadata": {},
     "output_type": "execute_result"
    }
   ],
   "source": [
    "lasso_cv.score(X3 , y3)"
   ]
  },
  {
   "cell_type": "markdown",
   "metadata": {},
   "source": [
    "## Model 4"
   ]
  },
  {
   "cell_type": "code",
   "execution_count": 59,
   "metadata": {},
   "outputs": [],
   "source": [
    "train = pd.get_dummies(data = train_df, columns=['property_type','district'])"
   ]
  },
  {
   "cell_type": "code",
   "execution_count": 60,
   "metadata": {},
   "outputs": [],
   "source": [
    "X4 = train[['bedrooms' , 'baths' , 'floor_area' , \n",
    "              'nearby_stations' , 'nearby_shops', 'nearby_supermarkets' ,\n",
    "              'property_type_Detached House' , 'property_type_Townhouse' , 'property_type_Condo' , \n",
    "            'district_Bang Bo', 'district_Bang Bon', 'district_Bang Bua Thong',\n",
    "       'district_Bang Kapi', 'district_Bang Khae', 'district_Bang Khen',\n",
    "       'district_Bang Kho Laem', 'district_Bang Khun Thian',\n",
    "       'district_Bang Kruai', 'district_Bang Na', 'district_Bang Phlat',\n",
    "       'district_Bang Phli', 'district_Bang Rak', 'district_Bang Sao Thong',\n",
    "       'district_Bang Sue', 'district_Bang Yai', 'district_Bangkok Noi',\n",
    "       'district_Bangkok Yai', 'district_Bueng Kum', 'district_Chatuchak',\n",
    "       'district_Chom Thong', 'district_Din Daeng', 'district_Don Mueang',\n",
    "       'district_Huai Khwang', 'district_Khan Na Yao',\n",
    "       'district_Khlong Sam Wa', 'district_Khlong San', 'district_Khlong Toei',\n",
    "       'district_Lak Si', 'district_Lat Krabang', 'district_Lat Phrao',\n",
    "       'district_Min Buri', 'district_Mueang Nonthaburi',\n",
    "       'district_Mueang Samut Prakan', 'district_Nong Chok',\n",
    "       'district_Nong Khaem', 'district_Pak Kret', 'district_Pathum Wan',\n",
    "       'district_Phasi Charoen', 'district_Phaya Thai',\n",
    "       'district_Phra Khanong', 'district_Phra Pradaeng',\n",
    "       'district_Phra Samut Jadee', 'district_Prawet', 'district_Rat Burana',\n",
    "       'district_Ratchathewi', 'district_Sai Mai', 'district_Sai Noi',\n",
    "       'district_Saphan Sung', 'district_Sathon', 'district_Suan Luang',\n",
    "       'district_Taling Chan', 'district_Thawi Watthana', 'district_Thon Buri',\n",
    "       'district_Thung Khru', 'district_Wang Thonglang', 'district_Watthana',\n",
    "       'district_Yan Nawa' , 'land_area' , 'longitude' , 'floor_level' , 'year_built']]\n",
    "y4 = train['price']"
   ]
  },
  {
   "cell_type": "code",
   "execution_count": 61,
   "metadata": {},
   "outputs": [
    {
     "data": {
      "text/html": [
       "<style>#sk-container-id-10 {color: black;}#sk-container-id-10 pre{padding: 0;}#sk-container-id-10 div.sk-toggleable {background-color: white;}#sk-container-id-10 label.sk-toggleable__label {cursor: pointer;display: block;width: 100%;margin-bottom: 0;padding: 0.3em;box-sizing: border-box;text-align: center;}#sk-container-id-10 label.sk-toggleable__label-arrow:before {content: \"▸\";float: left;margin-right: 0.25em;color: #696969;}#sk-container-id-10 label.sk-toggleable__label-arrow:hover:before {color: black;}#sk-container-id-10 div.sk-estimator:hover label.sk-toggleable__label-arrow:before {color: black;}#sk-container-id-10 div.sk-toggleable__content {max-height: 0;max-width: 0;overflow: hidden;text-align: left;background-color: #f0f8ff;}#sk-container-id-10 div.sk-toggleable__content pre {margin: 0.2em;color: black;border-radius: 0.25em;background-color: #f0f8ff;}#sk-container-id-10 input.sk-toggleable__control:checked~div.sk-toggleable__content {max-height: 200px;max-width: 100%;overflow: auto;}#sk-container-id-10 input.sk-toggleable__control:checked~label.sk-toggleable__label-arrow:before {content: \"▾\";}#sk-container-id-10 div.sk-estimator input.sk-toggleable__control:checked~label.sk-toggleable__label {background-color: #d4ebff;}#sk-container-id-10 div.sk-label input.sk-toggleable__control:checked~label.sk-toggleable__label {background-color: #d4ebff;}#sk-container-id-10 input.sk-hidden--visually {border: 0;clip: rect(1px 1px 1px 1px);clip: rect(1px, 1px, 1px, 1px);height: 1px;margin: -1px;overflow: hidden;padding: 0;position: absolute;width: 1px;}#sk-container-id-10 div.sk-estimator {font-family: monospace;background-color: #f0f8ff;border: 1px dotted black;border-radius: 0.25em;box-sizing: border-box;margin-bottom: 0.5em;}#sk-container-id-10 div.sk-estimator:hover {background-color: #d4ebff;}#sk-container-id-10 div.sk-parallel-item::after {content: \"\";width: 100%;border-bottom: 1px solid gray;flex-grow: 1;}#sk-container-id-10 div.sk-label:hover label.sk-toggleable__label {background-color: #d4ebff;}#sk-container-id-10 div.sk-serial::before {content: \"\";position: absolute;border-left: 1px solid gray;box-sizing: border-box;top: 0;bottom: 0;left: 50%;z-index: 0;}#sk-container-id-10 div.sk-serial {display: flex;flex-direction: column;align-items: center;background-color: white;padding-right: 0.2em;padding-left: 0.2em;position: relative;}#sk-container-id-10 div.sk-item {position: relative;z-index: 1;}#sk-container-id-10 div.sk-parallel {display: flex;align-items: stretch;justify-content: center;background-color: white;position: relative;}#sk-container-id-10 div.sk-item::before, #sk-container-id-10 div.sk-parallel-item::before {content: \"\";position: absolute;border-left: 1px solid gray;box-sizing: border-box;top: 0;bottom: 0;left: 50%;z-index: -1;}#sk-container-id-10 div.sk-parallel-item {display: flex;flex-direction: column;z-index: 1;position: relative;background-color: white;}#sk-container-id-10 div.sk-parallel-item:first-child::after {align-self: flex-end;width: 50%;}#sk-container-id-10 div.sk-parallel-item:last-child::after {align-self: flex-start;width: 50%;}#sk-container-id-10 div.sk-parallel-item:only-child::after {width: 0;}#sk-container-id-10 div.sk-dashed-wrapped {border: 1px dashed gray;margin: 0 0.4em 0.5em 0.4em;box-sizing: border-box;padding-bottom: 0.4em;background-color: white;}#sk-container-id-10 div.sk-label label {font-family: monospace;font-weight: bold;display: inline-block;line-height: 1.2em;}#sk-container-id-10 div.sk-label-container {text-align: center;}#sk-container-id-10 div.sk-container {/* jupyter's `normalize.less` sets `[hidden] { display: none; }` but bootstrap.min.css set `[hidden] { display: none !important; }` so we also need the `!important` here to be able to override the default hidden behavior on the sphinx rendered scikit-learn.org. See: https://github.com/scikit-learn/scikit-learn/issues/21755 */display: inline-block !important;position: relative;}#sk-container-id-10 div.sk-text-repr-fallback {display: none;}</style><div id=\"sk-container-id-10\" class=\"sk-top-container\"><div class=\"sk-text-repr-fallback\"><pre>LinearRegression()</pre><b>In a Jupyter environment, please rerun this cell to show the HTML representation or trust the notebook. <br />On GitHub, the HTML representation is unable to render, please try loading this page with nbviewer.org.</b></div><div class=\"sk-container\" hidden><div class=\"sk-item\"><div class=\"sk-estimator sk-toggleable\"><input class=\"sk-toggleable__control sk-hidden--visually\" id=\"sk-estimator-id-10\" type=\"checkbox\" checked><label for=\"sk-estimator-id-10\" class=\"sk-toggleable__label sk-toggleable__label-arrow\">LinearRegression</label><div class=\"sk-toggleable__content\"><pre>LinearRegression()</pre></div></div></div></div></div>"
      ],
      "text/plain": [
       "LinearRegression()"
      ]
     },
     "execution_count": 61,
     "metadata": {},
     "output_type": "execute_result"
    }
   ],
   "source": [
    "lr.fit(X4,y4)"
   ]
  },
  {
   "cell_type": "code",
   "execution_count": 62,
   "metadata": {},
   "outputs": [
    {
     "data": {
      "text/plain": [
       "1320539.2222809047"
      ]
     },
     "execution_count": 62,
     "metadata": {},
     "output_type": "execute_result"
    }
   ],
   "source": [
    "#RMSE\n",
    "np.sqrt(metrics.mean_squared_error(y4 , lr.predict(X4)))"
   ]
  },
  {
   "cell_type": "code",
   "execution_count": 63,
   "metadata": {},
   "outputs": [
    {
     "data": {
      "text/plain": [
       "0.6330183394056466"
      ]
     },
     "execution_count": 63,
     "metadata": {},
     "output_type": "execute_result"
    }
   ],
   "source": [
    "lr.score(X4,y4)"
   ]
  },
  {
   "cell_type": "code",
   "execution_count": 64,
   "metadata": {},
   "outputs": [],
   "source": [
    "# Chang model to Ridge\n",
    "from sklearn.linear_model import Ridge , RidgeCV"
   ]
  },
  {
   "cell_type": "code",
   "execution_count": 65,
   "metadata": {},
   "outputs": [
    {
     "data": {
      "text/html": [
       "<style>#sk-container-id-11 {color: black;}#sk-container-id-11 pre{padding: 0;}#sk-container-id-11 div.sk-toggleable {background-color: white;}#sk-container-id-11 label.sk-toggleable__label {cursor: pointer;display: block;width: 100%;margin-bottom: 0;padding: 0.3em;box-sizing: border-box;text-align: center;}#sk-container-id-11 label.sk-toggleable__label-arrow:before {content: \"▸\";float: left;margin-right: 0.25em;color: #696969;}#sk-container-id-11 label.sk-toggleable__label-arrow:hover:before {color: black;}#sk-container-id-11 div.sk-estimator:hover label.sk-toggleable__label-arrow:before {color: black;}#sk-container-id-11 div.sk-toggleable__content {max-height: 0;max-width: 0;overflow: hidden;text-align: left;background-color: #f0f8ff;}#sk-container-id-11 div.sk-toggleable__content pre {margin: 0.2em;color: black;border-radius: 0.25em;background-color: #f0f8ff;}#sk-container-id-11 input.sk-toggleable__control:checked~div.sk-toggleable__content {max-height: 200px;max-width: 100%;overflow: auto;}#sk-container-id-11 input.sk-toggleable__control:checked~label.sk-toggleable__label-arrow:before {content: \"▾\";}#sk-container-id-11 div.sk-estimator input.sk-toggleable__control:checked~label.sk-toggleable__label {background-color: #d4ebff;}#sk-container-id-11 div.sk-label input.sk-toggleable__control:checked~label.sk-toggleable__label {background-color: #d4ebff;}#sk-container-id-11 input.sk-hidden--visually {border: 0;clip: rect(1px 1px 1px 1px);clip: rect(1px, 1px, 1px, 1px);height: 1px;margin: -1px;overflow: hidden;padding: 0;position: absolute;width: 1px;}#sk-container-id-11 div.sk-estimator {font-family: monospace;background-color: #f0f8ff;border: 1px dotted black;border-radius: 0.25em;box-sizing: border-box;margin-bottom: 0.5em;}#sk-container-id-11 div.sk-estimator:hover {background-color: #d4ebff;}#sk-container-id-11 div.sk-parallel-item::after {content: \"\";width: 100%;border-bottom: 1px solid gray;flex-grow: 1;}#sk-container-id-11 div.sk-label:hover label.sk-toggleable__label {background-color: #d4ebff;}#sk-container-id-11 div.sk-serial::before {content: \"\";position: absolute;border-left: 1px solid gray;box-sizing: border-box;top: 0;bottom: 0;left: 50%;z-index: 0;}#sk-container-id-11 div.sk-serial {display: flex;flex-direction: column;align-items: center;background-color: white;padding-right: 0.2em;padding-left: 0.2em;position: relative;}#sk-container-id-11 div.sk-item {position: relative;z-index: 1;}#sk-container-id-11 div.sk-parallel {display: flex;align-items: stretch;justify-content: center;background-color: white;position: relative;}#sk-container-id-11 div.sk-item::before, #sk-container-id-11 div.sk-parallel-item::before {content: \"\";position: absolute;border-left: 1px solid gray;box-sizing: border-box;top: 0;bottom: 0;left: 50%;z-index: -1;}#sk-container-id-11 div.sk-parallel-item {display: flex;flex-direction: column;z-index: 1;position: relative;background-color: white;}#sk-container-id-11 div.sk-parallel-item:first-child::after {align-self: flex-end;width: 50%;}#sk-container-id-11 div.sk-parallel-item:last-child::after {align-self: flex-start;width: 50%;}#sk-container-id-11 div.sk-parallel-item:only-child::after {width: 0;}#sk-container-id-11 div.sk-dashed-wrapped {border: 1px dashed gray;margin: 0 0.4em 0.5em 0.4em;box-sizing: border-box;padding-bottom: 0.4em;background-color: white;}#sk-container-id-11 div.sk-label label {font-family: monospace;font-weight: bold;display: inline-block;line-height: 1.2em;}#sk-container-id-11 div.sk-label-container {text-align: center;}#sk-container-id-11 div.sk-container {/* jupyter's `normalize.less` sets `[hidden] { display: none; }` but bootstrap.min.css set `[hidden] { display: none !important; }` so we also need the `!important` here to be able to override the default hidden behavior on the sphinx rendered scikit-learn.org. See: https://github.com/scikit-learn/scikit-learn/issues/21755 */display: inline-block !important;position: relative;}#sk-container-id-11 div.sk-text-repr-fallback {display: none;}</style><div id=\"sk-container-id-11\" class=\"sk-top-container\"><div class=\"sk-text-repr-fallback\"><pre>RidgeCV(alphas=array([1.00000000e+00, 3.59381366e+00, 1.29154967e+01, 4.64158883e+01,\n",
       "       1.66810054e+02, 5.99484250e+02, 2.15443469e+03, 7.74263683e+03,\n",
       "       2.78255940e+04, 1.00000000e+05]),\n",
       "        cv=5, scoring=&#x27;r2&#x27;)</pre><b>In a Jupyter environment, please rerun this cell to show the HTML representation or trust the notebook. <br />On GitHub, the HTML representation is unable to render, please try loading this page with nbviewer.org.</b></div><div class=\"sk-container\" hidden><div class=\"sk-item\"><div class=\"sk-estimator sk-toggleable\"><input class=\"sk-toggleable__control sk-hidden--visually\" id=\"sk-estimator-id-11\" type=\"checkbox\" checked><label for=\"sk-estimator-id-11\" class=\"sk-toggleable__label sk-toggleable__label-arrow\">RidgeCV</label><div class=\"sk-toggleable__content\"><pre>RidgeCV(alphas=array([1.00000000e+00, 3.59381366e+00, 1.29154967e+01, 4.64158883e+01,\n",
       "       1.66810054e+02, 5.99484250e+02, 2.15443469e+03, 7.74263683e+03,\n",
       "       2.78255940e+04, 1.00000000e+05]),\n",
       "        cv=5, scoring=&#x27;r2&#x27;)</pre></div></div></div></div></div>"
      ],
      "text/plain": [
       "RidgeCV(alphas=array([1.00000000e+00, 3.59381366e+00, 1.29154967e+01, 4.64158883e+01,\n",
       "       1.66810054e+02, 5.99484250e+02, 2.15443469e+03, 7.74263683e+03,\n",
       "       2.78255940e+04, 1.00000000e+05]),\n",
       "        cv=5, scoring='r2')"
      ]
     },
     "execution_count": 65,
     "metadata": {},
     "output_type": "execute_result"
    }
   ],
   "source": [
    "# Set up a list of ridge alphas to check.\n",
    "# np.logspace generates 100 values equally between 0 and 5,\n",
    "# then converts them to alphas between 10^0 and 10^5.\n",
    "r_alphas = np.logspace(0,5,10)\n",
    "\n",
    "# Cross-validate over our list of ridge alphas.\n",
    "ridge_cv = RidgeCV(alphas=r_alphas, scoring = 'r2' , cv=5)\n",
    "ridge_cv.fit(X4 , y4)\n",
    "# Fit model using best ridge alpha!"
   ]
  },
  {
   "cell_type": "code",
   "execution_count": 66,
   "metadata": {},
   "outputs": [
    {
     "data": {
      "text/plain": [
       "1320660.2907735163"
      ]
     },
     "execution_count": 66,
     "metadata": {},
     "output_type": "execute_result"
    }
   ],
   "source": [
    "np.sqrt(metrics.mean_squared_error(y4 , ridge_cv.predict(X4)))"
   ]
  },
  {
   "cell_type": "code",
   "execution_count": 67,
   "metadata": {},
   "outputs": [
    {
     "data": {
      "text/plain": [
       "0.6329510457540737"
      ]
     },
     "execution_count": 67,
     "metadata": {},
     "output_type": "execute_result"
    }
   ],
   "source": [
    "ridge_cv.score(X4 , y4)"
   ]
  },
  {
   "cell_type": "code",
   "execution_count": 68,
   "metadata": {},
   "outputs": [],
   "source": [
    "# Chang model to Lasso\n",
    "from sklearn.linear_model import Lasso, LassoCV"
   ]
  },
  {
   "cell_type": "code",
   "execution_count": 69,
   "metadata": {},
   "outputs": [
    {
     "data": {
      "text/html": [
       "<style>#sk-container-id-12 {color: black;}#sk-container-id-12 pre{padding: 0;}#sk-container-id-12 div.sk-toggleable {background-color: white;}#sk-container-id-12 label.sk-toggleable__label {cursor: pointer;display: block;width: 100%;margin-bottom: 0;padding: 0.3em;box-sizing: border-box;text-align: center;}#sk-container-id-12 label.sk-toggleable__label-arrow:before {content: \"▸\";float: left;margin-right: 0.25em;color: #696969;}#sk-container-id-12 label.sk-toggleable__label-arrow:hover:before {color: black;}#sk-container-id-12 div.sk-estimator:hover label.sk-toggleable__label-arrow:before {color: black;}#sk-container-id-12 div.sk-toggleable__content {max-height: 0;max-width: 0;overflow: hidden;text-align: left;background-color: #f0f8ff;}#sk-container-id-12 div.sk-toggleable__content pre {margin: 0.2em;color: black;border-radius: 0.25em;background-color: #f0f8ff;}#sk-container-id-12 input.sk-toggleable__control:checked~div.sk-toggleable__content {max-height: 200px;max-width: 100%;overflow: auto;}#sk-container-id-12 input.sk-toggleable__control:checked~label.sk-toggleable__label-arrow:before {content: \"▾\";}#sk-container-id-12 div.sk-estimator input.sk-toggleable__control:checked~label.sk-toggleable__label {background-color: #d4ebff;}#sk-container-id-12 div.sk-label input.sk-toggleable__control:checked~label.sk-toggleable__label {background-color: #d4ebff;}#sk-container-id-12 input.sk-hidden--visually {border: 0;clip: rect(1px 1px 1px 1px);clip: rect(1px, 1px, 1px, 1px);height: 1px;margin: -1px;overflow: hidden;padding: 0;position: absolute;width: 1px;}#sk-container-id-12 div.sk-estimator {font-family: monospace;background-color: #f0f8ff;border: 1px dotted black;border-radius: 0.25em;box-sizing: border-box;margin-bottom: 0.5em;}#sk-container-id-12 div.sk-estimator:hover {background-color: #d4ebff;}#sk-container-id-12 div.sk-parallel-item::after {content: \"\";width: 100%;border-bottom: 1px solid gray;flex-grow: 1;}#sk-container-id-12 div.sk-label:hover label.sk-toggleable__label {background-color: #d4ebff;}#sk-container-id-12 div.sk-serial::before {content: \"\";position: absolute;border-left: 1px solid gray;box-sizing: border-box;top: 0;bottom: 0;left: 50%;z-index: 0;}#sk-container-id-12 div.sk-serial {display: flex;flex-direction: column;align-items: center;background-color: white;padding-right: 0.2em;padding-left: 0.2em;position: relative;}#sk-container-id-12 div.sk-item {position: relative;z-index: 1;}#sk-container-id-12 div.sk-parallel {display: flex;align-items: stretch;justify-content: center;background-color: white;position: relative;}#sk-container-id-12 div.sk-item::before, #sk-container-id-12 div.sk-parallel-item::before {content: \"\";position: absolute;border-left: 1px solid gray;box-sizing: border-box;top: 0;bottom: 0;left: 50%;z-index: -1;}#sk-container-id-12 div.sk-parallel-item {display: flex;flex-direction: column;z-index: 1;position: relative;background-color: white;}#sk-container-id-12 div.sk-parallel-item:first-child::after {align-self: flex-end;width: 50%;}#sk-container-id-12 div.sk-parallel-item:last-child::after {align-self: flex-start;width: 50%;}#sk-container-id-12 div.sk-parallel-item:only-child::after {width: 0;}#sk-container-id-12 div.sk-dashed-wrapped {border: 1px dashed gray;margin: 0 0.4em 0.5em 0.4em;box-sizing: border-box;padding-bottom: 0.4em;background-color: white;}#sk-container-id-12 div.sk-label label {font-family: monospace;font-weight: bold;display: inline-block;line-height: 1.2em;}#sk-container-id-12 div.sk-label-container {text-align: center;}#sk-container-id-12 div.sk-container {/* jupyter's `normalize.less` sets `[hidden] { display: none; }` but bootstrap.min.css set `[hidden] { display: none !important; }` so we also need the `!important` here to be able to override the default hidden behavior on the sphinx rendered scikit-learn.org. See: https://github.com/scikit-learn/scikit-learn/issues/21755 */display: inline-block !important;position: relative;}#sk-container-id-12 div.sk-text-repr-fallback {display: none;}</style><div id=\"sk-container-id-12\" class=\"sk-top-container\"><div class=\"sk-text-repr-fallback\"><pre>LassoCV(cv=5, max_iter=50000)</pre><b>In a Jupyter environment, please rerun this cell to show the HTML representation or trust the notebook. <br />On GitHub, the HTML representation is unable to render, please try loading this page with nbviewer.org.</b></div><div class=\"sk-container\" hidden><div class=\"sk-item\"><div class=\"sk-estimator sk-toggleable\"><input class=\"sk-toggleable__control sk-hidden--visually\" id=\"sk-estimator-id-12\" type=\"checkbox\" checked><label for=\"sk-estimator-id-12\" class=\"sk-toggleable__label sk-toggleable__label-arrow\">LassoCV</label><div class=\"sk-toggleable__content\"><pre>LassoCV(cv=5, max_iter=50000)</pre></div></div></div></div></div>"
      ],
      "text/plain": [
       "LassoCV(cv=5, max_iter=50000)"
      ]
     },
     "execution_count": 69,
     "metadata": {},
     "output_type": "execute_result"
    }
   ],
   "source": [
    "# Cross-validate over our list of Lasso alphas.\n",
    "lasso_cv = LassoCV(n_alphas = 100, cv=5 , max_iter=50000)\n",
    "# Fit model using best ridge alpha!\n",
    "lasso_cv.fit(X4 , y4)"
   ]
  },
  {
   "cell_type": "code",
   "execution_count": 70,
   "metadata": {},
   "outputs": [
    {
     "data": {
      "text/plain": [
       "104789.77706216749"
      ]
     },
     "execution_count": 70,
     "metadata": {},
     "output_type": "execute_result"
    }
   ],
   "source": [
    "lasso_cv.alpha_"
   ]
  },
  {
   "cell_type": "code",
   "execution_count": 71,
   "metadata": {},
   "outputs": [
    {
     "data": {
      "text/plain": [
       "1645355.5710681996"
      ]
     },
     "execution_count": 71,
     "metadata": {},
     "output_type": "execute_result"
    }
   ],
   "source": [
    "np.sqrt(metrics.mean_squared_error(y4 , lasso_cv.predict(X4)))"
   ]
  },
  {
   "cell_type": "code",
   "execution_count": 72,
   "metadata": {},
   "outputs": [
    {
     "data": {
      "text/plain": [
       "0.43028023885373545"
      ]
     },
     "execution_count": 72,
     "metadata": {},
     "output_type": "execute_result"
    }
   ],
   "source": [
    "lasso_cv.score(X4 , y4)"
   ]
  },
  {
   "cell_type": "code",
   "execution_count": 73,
   "metadata": {},
   "outputs": [
    {
     "data": {
      "text/plain": [
       "array([0.71798829, 0.63899257, 0.58967974, 0.61080172, 0.67161893,\n",
       "       0.5920412 , 0.55176367, 0.70764475, 0.65000885, 0.59762398,\n",
       "       0.55421156, 0.71905472, 0.6549866 , 0.62963595, 0.59105438,\n",
       "       0.62017944, 0.67442518, 0.63096148, 0.66052552, 0.60071257,\n",
       "       0.69443377, 0.54747636, 0.60888644, 0.60759615, 0.61667609,\n",
       "       0.61654366, 0.6954865 , 0.63080973, 0.675459  , 0.59350336,\n",
       "       0.57396204, 0.70224251, 0.6537278 , 0.73491053, 0.64062637,\n",
       "       0.67605594, 0.69174508, 0.58213833, 0.66084246, 0.66657575,\n",
       "       0.57031544, 0.67211808, 0.53073961, 0.62785234, 0.62169442,\n",
       "       0.59361498, 0.64192874, 0.68475003, 0.60753909, 0.67878466,\n",
       "       0.71547522, 0.64083888, 0.62471941, 0.62341381, 0.5210057 ,\n",
       "       0.53461073, 0.59691936, 0.4865116 , 0.55053166, 0.59420132,\n",
       "       0.6682591 , 0.62455345, 0.62553959, 0.60896893, 0.65827015,\n",
       "       0.5796359 , 0.3974406 , 0.56598012, 0.67634038, 0.61100492,\n",
       "       0.61660251, 0.65256934, 0.53806307, 0.65038633, 0.66825041,\n",
       "       0.53248969, 0.57048546, 0.63860116, 0.59536175, 0.62343699,\n",
       "       0.58293234, 0.69730675, 0.62593534, 0.57499661, 0.71604511,\n",
       "       0.60538322, 0.70126567, 0.57847021, 0.66894803, 0.57808261,\n",
       "       0.63903851, 0.61326367, 0.58651442, 0.65032506, 0.67268967,\n",
       "       0.65713617, 0.72035223, 0.64996395, 0.63336936, 0.63861778])"
      ]
     },
     "execution_count": 73,
     "metadata": {},
     "output_type": "execute_result"
    }
   ],
   "source": [
    "#Check over or underfit for Linear\n",
    "cross_val_score(lr ,X4,y4 , cv=100)"
   ]
  },
  {
   "cell_type": "code",
   "execution_count": 74,
   "metadata": {},
   "outputs": [
    {
     "data": {
      "text/plain": [
       "0.6254405063611753"
      ]
     },
     "execution_count": 74,
     "metadata": {},
     "output_type": "execute_result"
    }
   ],
   "source": [
    "cross_val_score(lr ,X4,y4 , cv=100).mean()"
   ]
  },
  {
   "cell_type": "code",
   "execution_count": 75,
   "metadata": {},
   "outputs": [
    {
     "data": {
      "text/plain": [
       "array([0.71910227, 0.63902495, 0.59041049, 0.61022047, 0.66943937,\n",
       "       0.5916241 , 0.55246127, 0.70730248, 0.65008531, 0.59645938,\n",
       "       0.55456746, 0.71833776, 0.65553355, 0.63150055, 0.59209954,\n",
       "       0.61922416, 0.6743307 , 0.63069125, 0.66041956, 0.59941889,\n",
       "       0.69440421, 0.54836877, 0.6095885 , 0.60746105, 0.61703128,\n",
       "       0.61662854, 0.69523741, 0.6291724 , 0.6758159 , 0.59252562,\n",
       "       0.57425399, 0.70210401, 0.6541457 , 0.73565346, 0.63903861,\n",
       "       0.67582412, 0.69107115, 0.58161298, 0.66083224, 0.66674455,\n",
       "       0.57000354, 0.67178343, 0.52976548, 0.62829704, 0.6228949 ,\n",
       "       0.59427917, 0.64168571, 0.68521172, 0.60732869, 0.67866686,\n",
       "       0.71547165, 0.64147188, 0.62556585, 0.62305776, 0.51995555,\n",
       "       0.5337528 , 0.59604357, 0.485801  , 0.5507073 , 0.59331208,\n",
       "       0.66763464, 0.62348139, 0.62582102, 0.60883043, 0.65924316,\n",
       "       0.57779606, 0.40170141, 0.5658292 , 0.67745217, 0.61054496,\n",
       "       0.61637277, 0.6530636 , 0.53980879, 0.6504756 , 0.66835928,\n",
       "       0.53367748, 0.57150383, 0.63912497, 0.59531604, 0.62420759,\n",
       "       0.58293304, 0.69767499, 0.62511072, 0.57511843, 0.71688889,\n",
       "       0.60513498, 0.70127459, 0.57798047, 0.66777729, 0.57770217,\n",
       "       0.64319764, 0.6129947 , 0.58480949, 0.65072301, 0.67340469,\n",
       "       0.65481894, 0.72030431, 0.64941794, 0.63502859, 0.63960363])"
      ]
     },
     "execution_count": 75,
     "metadata": {},
     "output_type": "execute_result"
    }
   ],
   "source": [
    "#Check over or underfit for Ridge\n",
    "cross_val_score(ridge_cv ,X4,y4 , cv=100)"
   ]
  },
  {
   "cell_type": "code",
   "execution_count": 76,
   "metadata": {},
   "outputs": [
    {
     "data": {
      "text/plain": [
       "0.6254696685324755"
      ]
     },
     "execution_count": 76,
     "metadata": {},
     "output_type": "execute_result"
    }
   ],
   "source": [
    "cross_val_score(ridge_cv ,X4,y4 , cv=100).mean()"
   ]
  },
  {
   "cell_type": "code",
   "execution_count": 77,
   "metadata": {},
   "outputs": [
    {
     "data": {
      "text/plain": [
       "array([0.53143551, 0.40321759, 0.4394653 , 0.41524042, 0.44292281,\n",
       "       0.33479077, 0.43366671, 0.53631887, 0.4752586 , 0.42182065,\n",
       "       0.43732392, 0.44911314, 0.48332487, 0.37989954, 0.41212379,\n",
       "       0.29637175, 0.45790844, 0.37005989, 0.45954718, 0.34124735,\n",
       "       0.35371018, 0.38563958, 0.40687634, 0.46919862, 0.52310919,\n",
       "       0.42086852, 0.44914412, 0.27999186, 0.43661654, 0.45030327,\n",
       "       0.46825078, 0.50561916, 0.47850637, 0.52946389, 0.42730089,\n",
       "       0.402394  , 0.46364701, 0.42251396, 0.49817779, 0.45206331,\n",
       "       0.37734004, 0.44720638, 0.37768618, 0.45459739, 0.460038  ,\n",
       "       0.39274013, 0.55141483, 0.53358564, 0.41834831, 0.49375154,\n",
       "       0.49522098, 0.45083085, 0.36400299, 0.45741488, 0.26495464,\n",
       "       0.35323943, 0.43037896, 0.34449203, 0.34421636, 0.36416785,\n",
       "       0.4091696 , 0.31588563, 0.39859348, 0.45525245, 0.40874312,\n",
       "       0.36690123, 0.39370406, 0.39690138, 0.4379388 , 0.34051083,\n",
       "       0.43816758, 0.439982  , 0.36480846, 0.40633307, 0.38666719,\n",
       "       0.43176693, 0.38416773, 0.4456935 , 0.4122294 , 0.39680964,\n",
       "       0.42387042, 0.49147525, 0.37142424, 0.35975658, 0.57848845,\n",
       "       0.39368357, 0.37373928, 0.41939096, 0.42687141, 0.41171513,\n",
       "       0.42676663, 0.37341484, 0.43604032, 0.43705696, 0.43668978,\n",
       "       0.38272589, 0.48745239, 0.43840462, 0.47731347, 0.52483665])"
      ]
     },
     "execution_count": 77,
     "metadata": {},
     "output_type": "execute_result"
    }
   ],
   "source": [
    "#Check over or underfit for Lasso\n",
    "cross_val_score(lasso_cv ,X4,y4 , cv=100)"
   ]
  },
  {
   "cell_type": "code",
   "execution_count": 78,
   "metadata": {},
   "outputs": [
    {
     "data": {
      "text/plain": [
       "0.42421422809566833"
      ]
     },
     "execution_count": 78,
     "metadata": {},
     "output_type": "execute_result"
    }
   ],
   "source": [
    "cross_val_score(lasso_cv ,X4,y4 , cv=100).mean()"
   ]
  },
  {
   "cell_type": "markdown",
   "metadata": {},
   "source": [
    " - Choose Model 4 for prediction with RidgeCV for the best prediction"
   ]
  },
  {
   "cell_type": "markdown",
   "metadata": {},
   "source": [
    "# How to submit\n",
    "\n",
    "- preprocess test data in the same way as train data\n",
    "- after that, predict `price` and create `submission.csv`\n",
    "- `submission.csv` must have 2 columns: `id` and `price`\n",
    "- **NEVER** drop any row in the test data"
   ]
  },
  {
   "cell_type": "code",
   "execution_count": 79,
   "metadata": {},
   "outputs": [
    {
     "data": {
      "text/html": [
       "<div>\n",
       "<style scoped>\n",
       "    .dataframe tbody tr th:only-of-type {\n",
       "        vertical-align: middle;\n",
       "    }\n",
       "\n",
       "    .dataframe tbody tr th {\n",
       "        vertical-align: top;\n",
       "    }\n",
       "\n",
       "    .dataframe thead th {\n",
       "        text-align: right;\n",
       "    }\n",
       "</style>\n",
       "<table border=\"1\" class=\"dataframe\">\n",
       "  <thead>\n",
       "    <tr style=\"text-align: right;\">\n",
       "      <th></th>\n",
       "      <th>id</th>\n",
       "      <th>province</th>\n",
       "      <th>district</th>\n",
       "      <th>subdistrict</th>\n",
       "      <th>address</th>\n",
       "      <th>property_type</th>\n",
       "      <th>total_units</th>\n",
       "      <th>bedrooms</th>\n",
       "      <th>baths</th>\n",
       "      <th>floor_area</th>\n",
       "      <th>...</th>\n",
       "      <th>latitude</th>\n",
       "      <th>longitude</th>\n",
       "      <th>nearby_stations</th>\n",
       "      <th>nearby_station_distance</th>\n",
       "      <th>nearby_bus_stops</th>\n",
       "      <th>nearby_supermarkets</th>\n",
       "      <th>nearby_shops</th>\n",
       "      <th>year_built</th>\n",
       "      <th>month_built</th>\n",
       "      <th>facilities</th>\n",
       "    </tr>\n",
       "  </thead>\n",
       "  <tbody>\n",
       "    <tr>\n",
       "      <th>0</th>\n",
       "      <td>10317868</td>\n",
       "      <td>Samut Prakan</td>\n",
       "      <td>Bang Phli</td>\n",
       "      <td>Bang Phli Yai</td>\n",
       "      <td>Nam Daeng Road Yai</td>\n",
       "      <td>Detached House</td>\n",
       "      <td>800.0</td>\n",
       "      <td>4.0</td>\n",
       "      <td>3.0</td>\n",
       "      <td>120</td>\n",
       "      <td>...</td>\n",
       "      <td>13.614196</td>\n",
       "      <td>100.680610</td>\n",
       "      <td>0</td>\n",
       "      <td>None</td>\n",
       "      <td>NaN</td>\n",
       "      <td>9.0</td>\n",
       "      <td>5</td>\n",
       "      <td>0</td>\n",
       "      <td>None</td>\n",
       "      <td>[Clubhouse, Community Garden, CCTV, Pavillion,...</td>\n",
       "    </tr>\n",
       "    <tr>\n",
       "      <th>1</th>\n",
       "      <td>10885829</td>\n",
       "      <td>Bangkok</td>\n",
       "      <td>Nong Khaem</td>\n",
       "      <td>Nong Khang Phlu</td>\n",
       "      <td>Machareon Road</td>\n",
       "      <td>Detached House</td>\n",
       "      <td>107.0</td>\n",
       "      <td>4.0</td>\n",
       "      <td>3.0</td>\n",
       "      <td>188</td>\n",
       "      <td>...</td>\n",
       "      <td>13.702222</td>\n",
       "      <td>100.341833</td>\n",
       "      <td>0</td>\n",
       "      <td>None</td>\n",
       "      <td>20.0</td>\n",
       "      <td>9.0</td>\n",
       "      <td>5</td>\n",
       "      <td>2020</td>\n",
       "      <td>None</td>\n",
       "      <td>[Car Park, Clubhouse, Community Garden, CCTV, ...</td>\n",
       "    </tr>\n",
       "    <tr>\n",
       "      <th>2</th>\n",
       "      <td>10765951</td>\n",
       "      <td>Bangkok</td>\n",
       "      <td>Huai Khwang</td>\n",
       "      <td>Huai Khwang</td>\n",
       "      <td>72 Rama 9</td>\n",
       "      <td>Condo</td>\n",
       "      <td>433.0</td>\n",
       "      <td>1.0</td>\n",
       "      <td>1.0</td>\n",
       "      <td>22</td>\n",
       "      <td>...</td>\n",
       "      <td>13.755713</td>\n",
       "      <td>100.566385</td>\n",
       "      <td>3</td>\n",
       "      <td>[[BL20 Phra Ram 9 MRT, 270], [E4 Asok BTS, 780...</td>\n",
       "      <td>NaN</td>\n",
       "      <td>13.0</td>\n",
       "      <td>20</td>\n",
       "      <td>2015</td>\n",
       "      <td>September</td>\n",
       "      <td>[Covered car park, CCTV, Fitness corner, 24 ho...</td>\n",
       "    </tr>\n",
       "    <tr>\n",
       "      <th>3</th>\n",
       "      <td>10003549</td>\n",
       "      <td>Bangkok</td>\n",
       "      <td>Khlong Toei</td>\n",
       "      <td>Khlong Tan</td>\n",
       "      <td>772 Sukhumvit Road, Khong Tan</td>\n",
       "      <td>Condo</td>\n",
       "      <td>656.0</td>\n",
       "      <td>1.0</td>\n",
       "      <td>1.0</td>\n",
       "      <td>41</td>\n",
       "      <td>...</td>\n",
       "      <td>13.724295</td>\n",
       "      <td>100.577202</td>\n",
       "      <td>1</td>\n",
       "      <td>[[E6 Thong Lo BTS, 70]]</td>\n",
       "      <td>20.0</td>\n",
       "      <td>16.0</td>\n",
       "      <td>20</td>\n",
       "      <td>2013</td>\n",
       "      <td>June</td>\n",
       "      <td>[Car Park, Covered car park, CCTV, Fitness cor...</td>\n",
       "    </tr>\n",
       "    <tr>\n",
       "      <th>4</th>\n",
       "      <td>10663026</td>\n",
       "      <td>Bangkok</td>\n",
       "      <td>Lak Si</td>\n",
       "      <td>Thung Song Hong</td>\n",
       "      <td>222 Ngamwongwan Road</td>\n",
       "      <td>Condo</td>\n",
       "      <td>1458.0</td>\n",
       "      <td>1.0</td>\n",
       "      <td>1.0</td>\n",
       "      <td>29</td>\n",
       "      <td>...</td>\n",
       "      <td>13.855437</td>\n",
       "      <td>100.547923</td>\n",
       "      <td>0</td>\n",
       "      <td>None</td>\n",
       "      <td>20.0</td>\n",
       "      <td>10.0</td>\n",
       "      <td>14</td>\n",
       "      <td>2012</td>\n",
       "      <td>September</td>\n",
       "      <td>[Covered car park, CCTV, Fitness corner, 24 ho...</td>\n",
       "    </tr>\n",
       "  </tbody>\n",
       "</table>\n",
       "<p>5 rows × 22 columns</p>\n",
       "</div>"
      ],
      "text/plain": [
       "         id      province     district      subdistrict  \\\n",
       "0  10317868  Samut Prakan    Bang Phli    Bang Phli Yai   \n",
       "1  10885829       Bangkok   Nong Khaem  Nong Khang Phlu   \n",
       "2  10765951       Bangkok  Huai Khwang      Huai Khwang   \n",
       "3  10003549       Bangkok  Khlong Toei       Khlong Tan   \n",
       "4  10663026       Bangkok       Lak Si  Thung Song Hong   \n",
       "\n",
       "                         address   property_type  total_units  bedrooms  \\\n",
       "0             Nam Daeng Road Yai  Detached House        800.0       4.0   \n",
       "1                 Machareon Road  Detached House        107.0       4.0   \n",
       "2                      72 Rama 9           Condo        433.0       1.0   \n",
       "3  772 Sukhumvit Road, Khong Tan           Condo        656.0       1.0   \n",
       "4           222 Ngamwongwan Road           Condo       1458.0       1.0   \n",
       "\n",
       "   baths  floor_area  ...   latitude   longitude  nearby_stations  \\\n",
       "0    3.0         120  ...  13.614196  100.680610                0   \n",
       "1    3.0         188  ...  13.702222  100.341833                0   \n",
       "2    1.0          22  ...  13.755713  100.566385                3   \n",
       "3    1.0          41  ...  13.724295  100.577202                1   \n",
       "4    1.0          29  ...  13.855437  100.547923                0   \n",
       "\n",
       "                             nearby_station_distance  nearby_bus_stops  \\\n",
       "0                                               None               NaN   \n",
       "1                                               None              20.0   \n",
       "2  [[BL20 Phra Ram 9 MRT, 270], [E4 Asok BTS, 780...               NaN   \n",
       "3                            [[E6 Thong Lo BTS, 70]]              20.0   \n",
       "4                                               None              20.0   \n",
       "\n",
       "  nearby_supermarkets  nearby_shops  year_built  month_built  \\\n",
       "0                 9.0             5           0         None   \n",
       "1                 9.0             5        2020         None   \n",
       "2                13.0            20        2015    September   \n",
       "3                16.0            20        2013         June   \n",
       "4                10.0            14        2012    September   \n",
       "\n",
       "                                          facilities  \n",
       "0  [Clubhouse, Community Garden, CCTV, Pavillion,...  \n",
       "1  [Car Park, Clubhouse, Community Garden, CCTV, ...  \n",
       "2  [Covered car park, CCTV, Fitness corner, 24 ho...  \n",
       "3  [Car Park, Covered car park, CCTV, Fitness cor...  \n",
       "4  [Covered car park, CCTV, Fitness corner, 24 ho...  \n",
       "\n",
       "[5 rows x 22 columns]"
      ]
     },
     "execution_count": 79,
     "metadata": {},
     "output_type": "execute_result"
    }
   ],
   "source": [
    "# test data has id and features, but does not have price\n",
    "test_df.head()"
   ]
  },
  {
   "cell_type": "code",
   "execution_count": 80,
   "metadata": {},
   "outputs": [
    {
     "data": {
      "text/plain": [
       "id                            0\n",
       "province                      0\n",
       "district                      0\n",
       "subdistrict                   3\n",
       "address                       0\n",
       "property_type                 0\n",
       "total_units                 642\n",
       "bedrooms                     10\n",
       "baths                        10\n",
       "floor_area                    0\n",
       "floor_level                1099\n",
       "land_area                  1659\n",
       "latitude                      0\n",
       "longitude                     0\n",
       "nearby_stations               0\n",
       "nearby_station_distance    1222\n",
       "nearby_bus_stops           1474\n",
       "nearby_supermarkets          86\n",
       "nearby_shops                  0\n",
       "year_built                    0\n",
       "month_built                1002\n",
       "facilities                    0\n",
       "dtype: int64"
      ]
     },
     "execution_count": 80,
     "metadata": {},
     "output_type": "execute_result"
    }
   ],
   "source": [
    "#Check null value\n",
    "test_df.isna().sum()"
   ]
  },
  {
   "cell_type": "code",
   "execution_count": 81,
   "metadata": {},
   "outputs": [
    {
     "data": {
      "text/html": [
       "<div>\n",
       "<style scoped>\n",
       "    .dataframe tbody tr th:only-of-type {\n",
       "        vertical-align: middle;\n",
       "    }\n",
       "\n",
       "    .dataframe tbody tr th {\n",
       "        vertical-align: top;\n",
       "    }\n",
       "\n",
       "    .dataframe thead th {\n",
       "        text-align: right;\n",
       "    }\n",
       "</style>\n",
       "<table border=\"1\" class=\"dataframe\">\n",
       "  <thead>\n",
       "    <tr style=\"text-align: right;\">\n",
       "      <th></th>\n",
       "      <th>id</th>\n",
       "      <th>province</th>\n",
       "      <th>district</th>\n",
       "      <th>subdistrict</th>\n",
       "      <th>address</th>\n",
       "      <th>property_type</th>\n",
       "      <th>total_units</th>\n",
       "      <th>bedrooms</th>\n",
       "      <th>baths</th>\n",
       "      <th>floor_area</th>\n",
       "      <th>...</th>\n",
       "      <th>latitude</th>\n",
       "      <th>longitude</th>\n",
       "      <th>nearby_stations</th>\n",
       "      <th>nearby_station_distance</th>\n",
       "      <th>nearby_bus_stops</th>\n",
       "      <th>nearby_supermarkets</th>\n",
       "      <th>nearby_shops</th>\n",
       "      <th>year_built</th>\n",
       "      <th>month_built</th>\n",
       "      <th>facilities</th>\n",
       "    </tr>\n",
       "  </thead>\n",
       "  <tbody>\n",
       "    <tr>\n",
       "      <th>540</th>\n",
       "      <td>8476937</td>\n",
       "      <td>Bangkok</td>\n",
       "      <td>Phra Khanong</td>\n",
       "      <td>None</td>\n",
       "      <td>ซอยสุขุมวิท 64 แขวงบางจาก เขตพระโขนง กรุงเทพมห...</td>\n",
       "      <td>Condo</td>\n",
       "      <td>79.0</td>\n",
       "      <td>1.0</td>\n",
       "      <td>1.0</td>\n",
       "      <td>46</td>\n",
       "      <td>...</td>\n",
       "      <td>13.689652</td>\n",
       "      <td>100.606867</td>\n",
       "      <td>2</td>\n",
       "      <td>[[E11 Punnawithi BTS, 100], [E10 Bang Chak BTS...</td>\n",
       "      <td>NaN</td>\n",
       "      <td>7.0</td>\n",
       "      <td>14</td>\n",
       "      <td>2012</td>\n",
       "      <td>July</td>\n",
       "      <td>[Covered car park, Club, Clubhouse, CCTV, Fitn...</td>\n",
       "    </tr>\n",
       "    <tr>\n",
       "      <th>1448</th>\n",
       "      <td>10605668</td>\n",
       "      <td>Bangkok</td>\n",
       "      <td>Sathon</td>\n",
       "      <td>None</td>\n",
       "      <td>ถนนนราธิวาสราช แขวงทุ่งมหาเมฆ เขตสาทร กทม.</td>\n",
       "      <td>Condo</td>\n",
       "      <td>361.0</td>\n",
       "      <td>2.0</td>\n",
       "      <td>2.0</td>\n",
       "      <td>66</td>\n",
       "      <td>...</td>\n",
       "      <td>13.717888</td>\n",
       "      <td>100.532691</td>\n",
       "      <td>3</td>\n",
       "      <td>[[B2 Arkan Songkhro BRT, 120], [B1 Sathorn BRT...</td>\n",
       "      <td>20.0</td>\n",
       "      <td>16.0</td>\n",
       "      <td>16</td>\n",
       "      <td>2016</td>\n",
       "      <td>February</td>\n",
       "      <td>[Covered car park, Club, CCTV, Fitness corner,...</td>\n",
       "    </tr>\n",
       "    <tr>\n",
       "      <th>1993</th>\n",
       "      <td>10841475</td>\n",
       "      <td>Bangkok</td>\n",
       "      <td>Phra Khanong</td>\n",
       "      <td>None</td>\n",
       "      <td>ซอยสุขุมวิท 64 แขวงบางจาก เขตพระโขนง กรุงเทพมห...</td>\n",
       "      <td>Condo</td>\n",
       "      <td>79.0</td>\n",
       "      <td>1.0</td>\n",
       "      <td>2.0</td>\n",
       "      <td>74</td>\n",
       "      <td>...</td>\n",
       "      <td>13.689652</td>\n",
       "      <td>100.606867</td>\n",
       "      <td>2</td>\n",
       "      <td>[[E11 Punnawithi BTS, 100], [E10 Bang Chak BTS...</td>\n",
       "      <td>NaN</td>\n",
       "      <td>7.0</td>\n",
       "      <td>14</td>\n",
       "      <td>2012</td>\n",
       "      <td>July</td>\n",
       "      <td>[Covered car park, Club, Clubhouse, CCTV, Fitn...</td>\n",
       "    </tr>\n",
       "  </tbody>\n",
       "</table>\n",
       "<p>3 rows × 22 columns</p>\n",
       "</div>"
      ],
      "text/plain": [
       "            id province      district subdistrict  \\\n",
       "540    8476937  Bangkok  Phra Khanong        None   \n",
       "1448  10605668  Bangkok        Sathon        None   \n",
       "1993  10841475  Bangkok  Phra Khanong        None   \n",
       "\n",
       "                                                address property_type  \\\n",
       "540   ซอยสุขุมวิท 64 แขวงบางจาก เขตพระโขนง กรุงเทพมห...         Condo   \n",
       "1448         ถนนนราธิวาสราช แขวงทุ่งมหาเมฆ เขตสาทร กทม.         Condo   \n",
       "1993  ซอยสุขุมวิท 64 แขวงบางจาก เขตพระโขนง กรุงเทพมห...         Condo   \n",
       "\n",
       "      total_units  bedrooms  baths  floor_area  ...   latitude   longitude  \\\n",
       "540          79.0       1.0    1.0          46  ...  13.689652  100.606867   \n",
       "1448        361.0       2.0    2.0          66  ...  13.717888  100.532691   \n",
       "1993         79.0       1.0    2.0          74  ...  13.689652  100.606867   \n",
       "\n",
       "      nearby_stations                            nearby_station_distance  \\\n",
       "540                 2  [[E11 Punnawithi BTS, 100], [E10 Bang Chak BTS...   \n",
       "1448                3  [[B2 Arkan Songkhro BRT, 120], [B1 Sathorn BRT...   \n",
       "1993                2  [[E11 Punnawithi BTS, 100], [E10 Bang Chak BTS...   \n",
       "\n",
       "      nearby_bus_stops nearby_supermarkets  nearby_shops  year_built  \\\n",
       "540                NaN                 7.0            14        2012   \n",
       "1448              20.0                16.0            16        2016   \n",
       "1993               NaN                 7.0            14        2012   \n",
       "\n",
       "      month_built                                         facilities  \n",
       "540          July  [Covered car park, Club, Clubhouse, CCTV, Fitn...  \n",
       "1448     February  [Covered car park, Club, CCTV, Fitness corner,...  \n",
       "1993         July  [Covered car park, Club, Clubhouse, CCTV, Fitn...  \n",
       "\n",
       "[3 rows x 22 columns]"
      ]
     },
     "execution_count": 81,
     "metadata": {},
     "output_type": "execute_result"
    }
   ],
   "source": [
    "#check missing value in subdistrict\n",
    "test_df[test_df['subdistrict'].isna()]"
   ]
  },
  {
   "cell_type": "code",
   "execution_count": 82,
   "metadata": {},
   "outputs": [
    {
     "name": "stderr",
     "output_type": "stream",
     "text": [
      "C:\\Users\\Pattr11\\AppData\\Local\\Temp\\ipykernel_8236\\2515318607.py:6: SettingWithCopyWarning: \n",
      "A value is trying to be set on a copy of a slice from a DataFrame\n",
      "\n",
      "See the caveats in the documentation: https://pandas.pydata.org/pandas-docs/stable/user_guide/indexing.html#returning-a-view-versus-a-copy\n",
      "  test_df['subdistrict'][i] = 'Bang Chak'\n",
      "C:\\Users\\Pattr11\\AppData\\Local\\Temp\\ipykernel_8236\\2515318607.py:4: SettingWithCopyWarning: \n",
      "A value is trying to be set on a copy of a slice from a DataFrame\n",
      "\n",
      "See the caveats in the documentation: https://pandas.pydata.org/pandas-docs/stable/user_guide/indexing.html#returning-a-view-versus-a-copy\n",
      "  test_df['subdistrict'][i] = 'Thung Maha Mek'\n"
     ]
    }
   ],
   "source": [
    "#replace missing value in subdistrict\n",
    "for i,address in enumerate(test_df['address']):\n",
    "    if 'แขวงทุ่งมหาเมฆ' in address:\n",
    "        test_df['subdistrict'][i] = 'Thung Maha Mek'\n",
    "    elif 'แขวงบางจาก' in address:\n",
    "        test_df['subdistrict'][i] = 'Bang Chak'"
   ]
  },
  {
   "cell_type": "code",
   "execution_count": 83,
   "metadata": {},
   "outputs": [
    {
     "data": {
      "text/plain": [
       "0"
      ]
     },
     "execution_count": 83,
     "metadata": {},
     "output_type": "execute_result"
    }
   ],
   "source": [
    "test_df['subdistrict'].isna().sum()"
   ]
  },
  {
   "cell_type": "code",
   "execution_count": 84,
   "metadata": {},
   "outputs": [],
   "source": [
    "# replace null value with 0\n",
    "test_df.fillna(0 , inplace = True) "
   ]
  },
  {
   "cell_type": "code",
   "execution_count": 85,
   "metadata": {},
   "outputs": [],
   "source": [
    "#create function for replace null value\n",
    "test_df = pd.get_dummies(data = test_df, columns=['property_type','district'])"
   ]
  },
  {
   "cell_type": "code",
   "execution_count": 86,
   "metadata": {},
   "outputs": [],
   "source": [
    "# Use same features as Model 4\n",
    "X_test = test_df[['bedrooms' , 'baths' , 'floor_area' , \n",
    "              'nearby_stations' , 'nearby_shops', 'nearby_supermarkets' ,\n",
    "              'property_type_Detached House' , 'property_type_Townhouse' , 'property_type_Condo' , \n",
    "            'district_Bang Bo', 'district_Bang Bon', 'district_Bang Bua Thong',\n",
    "       'district_Bang Kapi', 'district_Bang Khae', 'district_Bang Khen',\n",
    "       'district_Bang Kho Laem', 'district_Bang Khun Thian',\n",
    "       'district_Bang Kruai', 'district_Bang Na', 'district_Bang Phlat',\n",
    "       'district_Bang Phli', 'district_Bang Rak', 'district_Bang Sao Thong',\n",
    "       'district_Bang Sue', 'district_Bang Yai', 'district_Bangkok Noi',\n",
    "       'district_Bangkok Yai', 'district_Bueng Kum', 'district_Chatuchak',\n",
    "       'district_Chom Thong', 'district_Din Daeng', 'district_Don Mueang',\n",
    "       'district_Huai Khwang', 'district_Khan Na Yao',\n",
    "       'district_Khlong Sam Wa', 'district_Khlong San', 'district_Khlong Toei',\n",
    "       'district_Lak Si', 'district_Lat Krabang', 'district_Lat Phrao',\n",
    "       'district_Min Buri', 'district_Mueang Nonthaburi',\n",
    "       'district_Mueang Samut Prakan', 'district_Nong Chok',\n",
    "       'district_Nong Khaem', 'district_Pak Kret', 'district_Pathum Wan',\n",
    "       'district_Phasi Charoen', 'district_Phaya Thai',\n",
    "       'district_Phra Khanong', 'district_Phra Pradaeng',\n",
    "       'district_Phra Samut Jadee', 'district_Prawet', 'district_Rat Burana',\n",
    "       'district_Ratchathewi', 'district_Sai Mai', 'district_Sai Noi',\n",
    "       'district_Saphan Sung', 'district_Sathon', 'district_Suan Luang',\n",
    "       'district_Taling Chan', 'district_Thawi Watthana', 'district_Thon Buri',\n",
    "       'district_Thung Khru', 'district_Wang Thonglang', 'district_Watthana',\n",
    "       'district_Yan Nawa' , 'land_area' , 'longitude' , 'floor_level' , 'year_built']]"
   ]
  },
  {
   "cell_type": "code",
   "execution_count": 87,
   "metadata": {},
   "outputs": [
    {
     "data": {
      "text/plain": [
       "array([5460917.25216579, 6161118.64741373, 4838511.84405625,\n",
       "       5261396.87110662, 2766106.40054524, 5559153.40946376,\n",
       "       3600955.19493201, 3929804.87310329, 3418948.4565469 ,\n",
       "       3685578.18466246])"
      ]
     },
     "execution_count": 87,
     "metadata": {},
     "output_type": "execute_result"
    }
   ],
   "source": [
    "# prediction\n",
    "pred_test = ridge_cv.predict(X_test)\n",
    "pred_test[:10]"
   ]
  },
  {
   "cell_type": "code",
   "execution_count": 88,
   "metadata": {},
   "outputs": [
    {
     "data": {
      "text/plain": [
       "0.9998525189749227"
      ]
     },
     "execution_count": 88,
     "metadata": {},
     "output_type": "execute_result"
    }
   ],
   "source": [
    "lr.score(X_test,pred_test)"
   ]
  },
  {
   "cell_type": "code",
   "execution_count": 89,
   "metadata": {},
   "outputs": [
    {
     "name": "stderr",
     "output_type": "stream",
     "text": [
      "C:\\Users\\Pattr11\\AppData\\Local\\Temp\\ipykernel_8236\\2484543332.py:1: SettingWithCopyWarning: \n",
      "A value is trying to be set on a copy of a slice from a DataFrame.\n",
      "Try using .loc[row_indexer,col_indexer] = value instead\n",
      "\n",
      "See the caveats in the documentation: https://pandas.pydata.org/pandas-docs/stable/user_guide/indexing.html#returning-a-view-versus-a-copy\n",
      "  X_test['id'] = test_df['id']\n"
     ]
    }
   ],
   "source": [
    "X_test['id'] = test_df['id']"
   ]
  },
  {
   "cell_type": "code",
   "execution_count": 90,
   "metadata": {},
   "outputs": [
    {
     "name": "stderr",
     "output_type": "stream",
     "text": [
      "C:\\Users\\Pattr11\\AppData\\Local\\Temp\\ipykernel_8236\\742221253.py:1: SettingWithCopyWarning: \n",
      "A value is trying to be set on a copy of a slice from a DataFrame.\n",
      "Try using .loc[row_indexer,col_indexer] = value instead\n",
      "\n",
      "See the caveats in the documentation: https://pandas.pydata.org/pandas-docs/stable/user_guide/indexing.html#returning-a-view-versus-a-copy\n",
      "  X_test['price'] = pred_test\n"
     ]
    }
   ],
   "source": [
    "X_test['price'] = pred_test"
   ]
  },
  {
   "cell_type": "code",
   "execution_count": 91,
   "metadata": {},
   "outputs": [],
   "source": [
    "# save as csv file\n",
    "test_df['price'] = pred_test\n",
    "test_df[['id','price']].to_csv('ridge_submission.csv', index=False)"
   ]
  },
  {
   "cell_type": "markdown",
   "metadata": {},
   "source": [
    "# Conclusions and Recommendations"
   ]
  },
  {
   "cell_type": "markdown",
   "metadata": {},
   "source": [
    "Conclusions :  House prices can vary significantly depending on various factors like features and surrounding of the house, including location, property size and house condition but house that more convenience, price will be more expensive like more rooms and use of space or near station , shop and downtown.\n",
    "After considering all the above factors the model predicted value may not much accurate, due to incomplete Data , outlier and model complexity such as too many features or parameters."
   ]
  },
  {
   "cell_type": "markdown",
   "metadata": {},
   "source": [
    "Recommendations : For a housebuyer who have limit budget should consider create a list of features in a house that are in need to narrow down the choices and stay in the budget."
   ]
  }
 ],
 "metadata": {
  "kernelspec": {
   "display_name": "Python 3 (ipykernel)",
   "language": "python",
   "name": "python3"
  },
  "language_info": {
   "codemirror_mode": {
    "name": "ipython",
    "version": 3
   },
   "file_extension": ".py",
   "mimetype": "text/x-python",
   "name": "python",
   "nbconvert_exporter": "python",
   "pygments_lexer": "ipython3",
   "version": "3.11.4"
  }
 },
 "nbformat": 4,
 "nbformat_minor": 2
}
